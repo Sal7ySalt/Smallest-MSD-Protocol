{
 "cells": [
  {
   "attachments": {},
   "cell_type": "markdown",
   "metadata": {},
   "source": [
    "# Not Using Pauli Frame Update"
   ]
  },
  {
   "cell_type": "code",
   "execution_count": 1,
   "metadata": {},
   "outputs": [
    {
     "name": "stdout",
     "output_type": "stream",
     "text": [
      "2.1.1\n"
     ]
    }
   ],
   "source": [
    "from qiskit import __version__\n",
    "print(__version__)"
   ]
  },
  {
   "cell_type": "code",
   "execution_count": 2,
   "metadata": {},
   "outputs": [],
   "source": [
    "from qiskit import QuantumCircuit, ClassicalRegister, QuantumRegister\n",
    "from qiskit.quantum_info import Statevector, state_fidelity, partial_trace, DensityMatrix, Pauli\n",
    "from qiskit.quantum_info.operators import Operator\n",
    "from qiskit_aer import AerSimulator\n",
    "from qiskit.visualization import plot_histogram\n",
    "from qiskit import transpile \n",
    "import numpy as np\n",
    "from qiskit_aer.noise import NoiseModel, depolarizing_error, ReadoutError\n",
    "from qiskit.circuit.controlflow import IfElseOp\n",
    "from qiskit.circuit.library import XGate, ZGate\n",
    "import matplotlib.pyplot as plt\n",
    "from collections import defaultdict"
   ]
  },
  {
   "cell_type": "code",
   "execution_count": 6,
   "metadata": {},
   "outputs": [],
   "source": [
    "import sys\n",
    "sys.path.append('Steane')\n",
    "import importlib\n",
    "import steane_ec_decoder\n",
    "importlib.reload(steane_ec_decoder)\n",
    "from steane_ec_decoder import lookup"
   ]
  },
  {
   "cell_type": "code",
   "execution_count": 7,
   "metadata": {},
   "outputs": [],
   "source": [
    "# Custom Hadamard \n",
    "h_sub = QuantumCircuit(1, name='H_custom')\n",
    "h_sub.h(0)\n",
    "H_custom = h_sub.to_gate()\n",
    "\n",
    "# Custom CNOT \n",
    "cx_sub = QuantumCircuit(2, name='CX_custom')\n",
    "cx_sub.cx(0, 1)\n",
    "CX_custom = cx_sub.to_gate()"
   ]
  },
  {
   "cell_type": "code",
   "execution_count": 8,
   "metadata": {},
   "outputs": [],
   "source": [
    "theta = np.arctan(np.sqrt((np.sqrt(5) - 1) / 2))\n",
    "amp_0 = np.cos(theta/2)\n",
    "amp_1 = np.sin(theta/2)"
   ]
  },
  {
   "attachments": {},
   "cell_type": "markdown",
   "metadata": {},
   "source": [
    "# Function for Encoding"
   ]
  },
  {
   "cell_type": "code",
   "execution_count": 9,
   "metadata": {},
   "outputs": [],
   "source": [
    "def encoding(qc: QuantumCircuit, first_qubit: int):\n",
    "    qc.initialize([amp_0, amp_1], first_qubit)\n",
    "    for i in range(7):\n",
    "        qc.id(first_qubit+i)\n",
    "    for i in range(4, 7):\n",
    "        qc.h(first_qubit+i)\n",
    "    qc.cx(first_qubit, first_qubit+1)\n",
    "    qc.cx(first_qubit, first_qubit+2)\n",
    "    qc.cx(first_qubit+6, first_qubit)\n",
    "    qc.cx(first_qubit+6, first_qubit+1)\n",
    "    qc.cx(first_qubit+5, first_qubit)\n",
    "    qc.cx(first_qubit+6, first_qubit+3)\n",
    "    qc.cx(first_qubit+5, first_qubit+2)\n",
    "    qc.cx(first_qubit+4, first_qubit+1)\n",
    "    qc.cx(first_qubit+5, first_qubit+3)\n",
    "    qc.cx(first_qubit+4, first_qubit+2)\n",
    "    qc.cx(first_qubit+4, first_qubit+3)"
   ]
  },
  {
   "cell_type": "code",
   "execution_count": 10,
   "metadata": {},
   "outputs": [],
   "source": [
    "def perfect_encoding(qc: QuantumCircuit, first_qubit: int):\n",
    "    qc.initialize([amp_0, amp_1], first_qubit)\n",
    "    for i in range(4, 7):\n",
    "        qc.append(H_custom, [first_qubit+i])\n",
    "    qc.append(CX_custom, [first_qubit, first_qubit+1])\n",
    "    qc.append(CX_custom, [first_qubit, first_qubit+2])\n",
    "    qc.append(CX_custom, [first_qubit+6, first_qubit])\n",
    "    qc.append(CX_custom, [first_qubit+6, first_qubit+1])\n",
    "    qc.append(CX_custom, [first_qubit+5, first_qubit])\n",
    "    qc.append(CX_custom, [first_qubit+6, first_qubit+3])\n",
    "    qc.append(CX_custom, [first_qubit+5, first_qubit+2])\n",
    "    qc.append(CX_custom, [first_qubit+4, first_qubit+1])\n",
    "    qc.append(CX_custom, [first_qubit+5, first_qubit+3])\n",
    "    qc.append(CX_custom, [first_qubit+4, first_qubit+2])\n",
    "    qc.append(CX_custom, [first_qubit+4, first_qubit+3])"
   ]
  },
  {
   "attachments": {},
   "cell_type": "markdown",
   "metadata": {},
   "source": [
    "# Functions for Stabilizer Extraction "
   ]
  },
  {
   "cell_type": "code",
   "execution_count": 11,
   "metadata": {},
   "outputs": [],
   "source": [
    "def flag(qc: QuantumCircuit, first_qubit: int, c1: ClassicalRegister, c2: ClassicalRegister):\n",
    "    qc.h(first_qubit+7)\n",
    "    \n",
    "    qc.cx(first_qubit+7, first_qubit+4)\n",
    "    qc.cx(first_qubit+6, first_qubit+8)\n",
    "    qc.cx(first_qubit+5, first_qubit+9)\n",
    "    qc.cx(first_qubit+7, first_qubit+9)\n",
    "    qc.cx(first_qubit+7, first_qubit)\n",
    "    qc.cx(first_qubit+4, first_qubit+8)\n",
    "    qc.cx(first_qubit+1, first_qubit+9)\n",
    "    qc.cx(first_qubit+7, first_qubit+2)\n",
    "    qc.cx(first_qubit+3, first_qubit+8)\n",
    "    qc.cx(first_qubit+6, first_qubit+9)\n",
    "    qc.cx(first_qubit+7, first_qubit+8)\n",
    "    qc.cx(first_qubit+7, first_qubit+6)\n",
    "    qc.cx(first_qubit+5, first_qubit+8)\n",
    "    qc.cx(first_qubit+2, first_qubit+9)\n",
    "    \n",
    "    qc.h(first_qubit+7)\n",
    "    qc.measure([first_qubit+7, first_qubit+8, first_qubit+9], c1)\n",
    "    qc.reset([first_qubit+7, first_qubit+8, first_qubit+9])\n",
    "    \n",
    "    qc.h(first_qubit+8)\n",
    "    qc.h(first_qubit+9)\n",
    "    \n",
    "    qc.cx(first_qubit+4, first_qubit+7)\n",
    "    qc.cx(first_qubit+8, first_qubit+6)\n",
    "    qc.cx(first_qubit+9, first_qubit+5)\n",
    "    qc.cx(first_qubit+9, first_qubit+7)\n",
    "    qc.cx(first_qubit, first_qubit+7)\n",
    "    qc.cx(first_qubit+8, first_qubit+4)\n",
    "    qc.cx(first_qubit+9, first_qubit+1)\n",
    "    qc.cx(first_qubit+2, first_qubit+7)\n",
    "    qc.cx(first_qubit+8, first_qubit+3)\n",
    "    qc.cx(first_qubit+9, first_qubit+6)\n",
    "    qc.cx(first_qubit+8, first_qubit+7)\n",
    "    qc.cx(first_qubit+6, first_qubit+7)\n",
    "    qc.cx(first_qubit+8, first_qubit+5)\n",
    "    qc.cx(first_qubit+9, first_qubit+2)\n",
    "    \n",
    "    qc.h(first_qubit+8)\n",
    "    qc.h(first_qubit+9)\n",
    "    qc.measure([first_qubit+7, first_qubit+8, first_qubit+9], c2)"
   ]
  },
  {
   "attachments": {},
   "cell_type": "markdown",
   "metadata": {},
   "source": [
    "# Function for QEC"
   ]
  },
  {
   "cell_type": "code",
   "execution_count": 12,
   "metadata": {},
   "outputs": [],
   "source": [
    "def QEC(qc: QuantumCircuit, first_qubit: int, c1: ClassicalRegister, c2: ClassicalRegister):\n",
    "    flag(qc, first_qubit, c1, c2)"
   ]
  },
  {
   "attachments": {},
   "cell_type": "markdown",
   "metadata": {},
   "source": [
    "# Encoding + 1 Round of EC"
   ]
  },
  {
   "cell_type": "code",
   "execution_count": 14,
   "metadata": {},
   "outputs": [],
   "source": [
    "ideal = QuantumCircuit(7)\n",
    "perfect_encoding(ideal, 0)\n",
    "ideal = DensityMatrix(ideal)\n",
    "\n",
    "\n",
    "err_rates = [0.0001, 0.0002, 0.0003, 0.0004, 0.0005, 0.0006, 0.0007, 0.0008, 0.0009, 0.001]\n",
    "logical_error_rates = []\n",
    "unc = []\n",
    "for p1 in err_rates:\n",
    "    #################################################################################\n",
    "    # Error model\n",
    "    p2 = p1 * 10\n",
    "    noise_model = NoiseModel()\n",
    "\n",
    "    noise_model.add_all_qubit_quantum_error(depolarizing_error(p1,1), ['id'])\n",
    "    noise_model.add_all_qubit_quantum_error(depolarizing_error(p1,1), ['h'])\n",
    "    noise_model.add_all_qubit_quantum_error(depolarizing_error(p2,2), ['cx'])\n",
    "\n",
    "    # 0.5% chance of flipping 0 <-> 1\n",
    "    readout_err = ReadoutError([[1-p2, p2],  # P(measured 0 | actual 0), P(1 | 0)\n",
    "                                [p2, 1-p2]]) # P(0 | 1), P(1 | 1)\n",
    "\n",
    "    # Apply to all qubits being measured\n",
    "    noise_model.add_readout_error(readout_err, [7]) \n",
    "    noise_model.add_readout_error(readout_err, [8])\n",
    "    noise_model.add_readout_error(readout_err, [9])\n",
    "    #################################################################################\n",
    "    # Encoding + 1 Round of EC and running shots\n",
    "    qc = QuantumCircuit(10)\n",
    "\n",
    "    c1 = ClassicalRegister(3, \"c1\")\n",
    "    c2 = ClassicalRegister(3, \"c2\")\n",
    "\n",
    "    qc.add_register(c1, c2)\n",
    "\n",
    "    encoding(qc, 0)\n",
    "    QEC(qc, 0, c1, c2)\n",
    "\n",
    "    qc.save_statevector(label='statevector_post', pershot=True, conditional=True)\n",
    "\n",
    "    backend = AerSimulator(noise_model=noise_model)\n",
    "    transpiled = transpile(qc, backend, optimization_level=0)\n",
    "    job = backend.run(transpiled, shots=300_000, memory=True)\n",
    "    result = job.result()\n",
    "    memory = result.get_memory()\n",
    "    #################################################################################\n",
    "    # Create array with keys (hex results) and values (statevectors)\n",
    "    hex_to_sv = []\n",
    "    hex_mem = result.data()['memory']\n",
    "\n",
    "    seen = defaultdict(int)\n",
    "    for mem in hex_mem:\n",
    "        idx = seen[mem]\n",
    "        val = result.data()['statevector_post'][mem][idx]\n",
    "        hex_to_sv.append({mem:val})\n",
    "        seen[mem] += 1\n",
    "    #################################################################################\n",
    "    # Apply corrections to each statevector in above array\n",
    "    sv_correction = []\n",
    "    for i, result in enumerate(hex_to_sv):\n",
    "        hex, sv10 = next(iter(result.items()))\n",
    "        correction_x, correction_z = lookup(memory[i])\n",
    "        if (correction_x is None or correction_z is None):\n",
    "            continue\n",
    "        correction_z = \"I\"*3 + correction_z[::-1]\n",
    "        correction_x = \"I\"*3 + correction_x[::-1]\n",
    "        Pauli_cz = Pauli(correction_z)\n",
    "        Pauli_cx = Pauli(correction_x)\n",
    "        sv10 = sv10.evolve(Pauli_cz)\n",
    "        sv10 = sv10.evolve(Pauli_cx)\n",
    "        sv_correction.append(sv10)\n",
    "    #################################################################################\n",
    "    # Count the correct outputs\n",
    "    sum = 0\n",
    "    for sv in sv_correction:\n",
    "        sv = partial_trace(sv, [7, 8, 9])\n",
    "        if (sv == ideal):\n",
    "        #if (np.round(state_fidelity(sv, ideal)) == 1.0):\n",
    "            sum += 1\n",
    "    #################################################################################\n",
    "    # Computing uncertainty and add to uncertainty array\n",
    "    num_meas = len(sv_correction)\n",
    "    error_rate = sum / num_meas\n",
    "    unc.append(1.96 * np.sqrt( (error_rate * (1 - error_rate) / num_meas) ))\n",
    "    #################################################################################\n",
    "    # Add logical error rate to resulting array\n",
    "    logical_error_rates.append(1 - (sum / len(sv_correction)))"
   ]
  },
  {
   "cell_type": "code",
   "execution_count": 15,
   "metadata": {},
   "outputs": [
    {
     "data": {
      "image/png": "[encoded data removed]",
      "text/plain": [
       "<Figure size 700x500 with 1 Axes>"
      ]
     },
     "metadata": {},
     "output_type": "display_data"
    }
   ],
   "source": [
    "plt.figure(figsize=(7, 5))\n",
    "plt.errorbar(\n",
    "    err_rates,\n",
    "    logical_error_rates,\n",
    "    yerr=unc,\n",
    "    fmt='o-',           # circle marker and solid line\n",
    "    capsize=3,          # length of the little “T” caps on each bar\n",
    "    elinewidth=1,       # width of the error‐bar lines\n",
    "    markeredgewidth=1\n",
    ")\n",
    "plt.xlabel(\"Depolarizing Noise Probability for 1Q Gates\", fontsize=12)\n",
    "plt.ylabel(\"Encoding Logical Error Rates\", fontsize=12)\n",
    "plt.title(f\"$P_2 = 10 * P_1$\")\n",
    "plt.grid(True)\n",
    "plt.tight_layout()\n",
    "plt.yscale('log')\n",
    "plt.xscale('log')\n",
    "plt.show()"
   ]
  },
  {
   "cell_type": "code",
   "execution_count": null,
   "metadata": {},
   "outputs": [],
   "source": []
  }
 ],
 "metadata": {
  "kernelspec": {
   "display_name": "qiskit-kernel",
   "language": "python",
   "name": "qiskit"
  },
  "language_info": {
   "codemirror_mode": {
    "name": "ipython",
    "version": 3
   },
   "file_extension": ".py",
   "mimetype": "text/x-python",
   "name": "python",
   "nbconvert_exporter": "python",
   "pygments_lexer": "ipython3",
   "version": "3.12.9"
  },
  "orig_nbformat": 4
 },
 "nbformat": 4,
 "nbformat_minor": 2
}
