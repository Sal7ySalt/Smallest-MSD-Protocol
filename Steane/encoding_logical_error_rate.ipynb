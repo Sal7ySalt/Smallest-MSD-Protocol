{
 "cells": [
  {
   "cell_type": "code",
   "execution_count": 4,
   "metadata": {},
   "outputs": [
    {
     "name": "stdout",
     "output_type": "stream",
     "text": [
      "1.4.2\n"
     ]
    }
   ],
   "source": [
    "from qiskit import __version__\n",
    "print(__version__)"
   ]
  },
  {
   "cell_type": "code",
   "execution_count": 302,
   "metadata": {},
   "outputs": [],
   "source": [
    "from qiskit import QuantumCircuit, ClassicalRegister\n",
    "from qiskit.quantum_info import Statevector, state_fidelity, partial_trace\n",
    "from qiskit_aer import AerSimulator\n",
    "from qiskit.visualization import plot_histogram\n",
    "from qiskit import transpile \n",
    "import numpy as np\n",
    "from qiskit_aer.noise import NoiseModel, depolarizing_error, ReadoutError \n",
    "from qiskit.circuit.controlflow import IfElseOp\n",
    "import matplotlib.pyplot as plt"
   ]
  },
  {
   "cell_type": "code",
   "execution_count": 410,
   "metadata": {},
   "outputs": [],
   "source": [
    "import importlib\n",
    "import steane_ec_decoder\n",
    "importlib.reload(steane_ec_decoder)\n",
    "from steane_ec_decoder import lookup"
   ]
  },
  {
   "attachments": {},
   "cell_type": "markdown",
   "metadata": {},
   "source": [
    "# Logical Error Rate for Encoding Circuit"
   ]
  },
  {
   "attachments": {},
   "cell_type": "markdown",
   "metadata": {},
   "source": [
    "# Stabilizer Extraction Circuits"
   ]
  },
  {
   "cell_type": "code",
   "execution_count": 396,
   "metadata": {},
   "outputs": [],
   "source": [
    "def flag1(qc: QuantumCircuit, first_qubit: int, c1: ClassicalRegister):\n",
    "    # Setting first ancilla to |+>\n",
    "    qc.h(first_qubit+7)\n",
    "    \n",
    "    qc.cx(first_qubit+7, first_qubit+3)\n",
    "    qc.cx(first_qubit+2, first_qubit+9)\n",
    "    qc.cx(first_qubit+5, first_qubit+8)\n",
    "    qc.cx(first_qubit+7, first_qubit+8)\n",
    "    qc.cx(first_qubit+7, first_qubit)\n",
    "    qc.cx(first_qubit+3, first_qubit+9)\n",
    "    qc.cx(first_qubit+4, first_qubit+8)\n",
    "    qc.cx(first_qubit+7, first_qubit+1)\n",
    "    qc.cx(first_qubit+6, first_qubit+9)\n",
    "    qc.cx(first_qubit+2, first_qubit+8)\n",
    "    qc.cx(first_qubit+7, first_qubit+9)\n",
    "    qc.cx(first_qubit+7, first_qubit+2)\n",
    "    qc.cx(first_qubit+5, first_qubit+9)\n",
    "    qc.cx(first_qubit+1, first_qubit+8)\n",
    "    \n",
    "    # Measure first ancilla in X-basis\n",
    "    qc.h(first_qubit+7)\n",
    "    \n",
    "    qc.measure([first_qubit+7, first_qubit+8, first_qubit+9], c1)"
   ]
  },
  {
   "cell_type": "code",
   "execution_count": 397,
   "metadata": {},
   "outputs": [],
   "source": [
    "def unflag(qc: QuantumCircuit, first_qubit: int, c2: ClassicalRegister):\n",
    "    qc.h(first_qubit+7)\n",
    "    qc.h(first_qubit+11)\n",
    "    qc.h(first_qubit+12)\n",
    "    \n",
    "    qc.cx(first_qubit+7, first_qubit+3)\n",
    "    qc.cx(first_qubit+2, first_qubit+9)\n",
    "    qc.cx(first_qubit+5, first_qubit+8)\n",
    "    qc.cx(first_qubit+7, first_qubit)\n",
    "    qc.cx(first_qubit+3, first_qubit+9)\n",
    "    qc.cx(first_qubit+4, first_qubit+8)\n",
    "    qc.cx(first_qubit+7, first_qubit+1)\n",
    "    qc.cx(first_qubit+6, first_qubit+9)\n",
    "    qc.cx(first_qubit+2, first_qubit+8)\n",
    "    qc.cx(first_qubit+7, first_qubit+2)\n",
    "    qc.cx(first_qubit+5, first_qubit+9)\n",
    "    qc.cx(first_qubit+1, first_qubit+8)\n",
    "    \n",
    "    qc.cx(first_qubit+3, first_qubit+10)\n",
    "    qc.cx(first_qubit+12, first_qubit+2)\n",
    "    qc.cx(first_qubit+11, first_qubit+5)\n",
    "    qc.cx(first_qubit, first_qubit+10)\n",
    "    qc.cx(first_qubit+12, first_qubit+3)\n",
    "    qc.cx(first_qubit+11, first_qubit+4)\n",
    "    qc.cx(first_qubit+1, first_qubit+10)\n",
    "    qc.cx(first_qubit+12, first_qubit+6)\n",
    "    qc.cx(first_qubit+11, first_qubit+2)\n",
    "    qc.cx(first_qubit+2, first_qubit+10)\n",
    "    qc.cx(first_qubit+12, first_qubit+5)\n",
    "    qc.cx(first_qubit+11, first_qubit+1)\n",
    "    \n",
    "    \n",
    "    qc.h(first_qubit+7)\n",
    "    qc.h(first_qubit+11)\n",
    "    qc.h(first_qubit+12)\n",
    "    \n",
    "    qc.measure([first_qubit+7, first_qubit+8, first_qubit+9, first_qubit+10, first_qubit+11, first_qubit+12], c2)\n"
   ]
  },
  {
   "cell_type": "code",
   "execution_count": 398,
   "metadata": {},
   "outputs": [],
   "source": [
    "def flag2(qc: QuantumCircuit, first_qubit: int, c3: ClassicalRegister):\n",
    "    # Setting last two ancillas to |+>\n",
    "    qc.h(first_qubit+8)\n",
    "    qc.h(first_qubit+9)\n",
    "    \n",
    "    qc.cx(first_qubit+3, first_qubit+7)\n",
    "    qc.cx(first_qubit+9, first_qubit+2)\n",
    "    qc.cx(first_qubit+8, first_qubit+5)\n",
    "    qc.cx(first_qubit+8, first_qubit+7)\n",
    "    qc.cx(first_qubit, first_qubit+7)\n",
    "    qc.cx(first_qubit+9, first_qubit+3)\n",
    "    qc.cx(first_qubit+8, first_qubit+4)\n",
    "    qc.cx(first_qubit+1, first_qubit+7)\n",
    "    qc.cx(first_qubit+9, first_qubit+6)\n",
    "    qc.cx(first_qubit+8, first_qubit+2)\n",
    "    qc.cx(first_qubit+9, first_qubit+7)\n",
    "    qc.cx(first_qubit+2, first_qubit+7)\n",
    "    qc.cx(first_qubit+9, first_qubit+5)\n",
    "    qc.cx(first_qubit+8, first_qubit+1)\n",
    "    \n",
    "    # Measrue last two ancillas in the X-basis\n",
    "    qc.h(first_qubit+8)\n",
    "    qc.h(first_qubit+9)\n",
    "    \n",
    "    qc.measure([first_qubit+7, first_qubit+8, first_qubit+9], c3)"
   ]
  },
  {
   "attachments": {},
   "cell_type": "markdown",
   "metadata": {},
   "source": [
    "# Encoding + 1 Round of EC"
   ]
  },
  {
   "cell_type": "code",
   "execution_count": 399,
   "metadata": {},
   "outputs": [],
   "source": [
    "noise_model = NoiseModel()\n",
    "\n",
    "noise_model.add_all_qubit_quantum_error(depolarizing_error(0.005,1), ['id'])\n",
    "noise_model.add_all_qubit_quantum_error(depolarizing_error(0.005,1), ['h'])\n",
    "noise_model.add_all_qubit_quantum_error(depolarizing_error(0.05,2), ['cx'])\n",
    "\n",
    "# 5% chance of flipping 0 <-> 1\n",
    "readout_err = ReadoutError([[0.995, 0.005],  # P(measured 0 | actual 0), P(1 | 0)\n",
    "                            [0.005, 0.995]]) # P(0 | 1), P(1 | 1)\n",
    "\n",
    "# Apply to all qubits being measured\n",
    "noise_model.add_readout_error(readout_err, [7])\n",
    "noise_model.add_readout_error(readout_err, [8])\n",
    "noise_model.add_readout_error(readout_err, [9])\n",
    "noise_model.add_readout_error(readout_err, [10])\n",
    "noise_model.add_readout_error(readout_err, [11])\n",
    "noise_model.add_readout_error(readout_err, [12])"
   ]
  },
  {
   "cell_type": "code",
   "execution_count": 425,
   "metadata": {},
   "outputs": [],
   "source": [
    "qc = QuantumCircuit(13)\n",
    "# Classical Register for flag1 measurements\n",
    "c1 = ClassicalRegister(3, \"c1\")\n",
    "# Classical Register for unflag1 measurements \n",
    "c2 = ClassicalRegister(6, \"c2\")\n",
    "# Classical Register for flag2 measurements\n",
    "c3 = ClassicalRegister(3, \"c3\")\n",
    "qc.add_register(c1, c2, c3)\n",
    "\n",
    "# Encoding data qubits\n",
    "theta = np.arctan(np.sqrt((np.sqrt(5) - 1) / 2))\n",
    "amp_0 = np.cos(theta/2)\n",
    "amp_1 = np.sin(theta/2)\n",
    "qc.initialize([amp_0, amp_1], 0)\n",
    "for i in range(7):\n",
    "    qc.id(i)\n",
    "for i in range(4, 7):\n",
    "    qc.h(i)\n",
    "qc.cx(0, 1)\n",
    "qc.cx(0, 2)\n",
    "qc.cx(6, 0)\n",
    "qc.cx(6, 1)\n",
    "qc.cx(6, 3)\n",
    "qc.cx(5, 0)\n",
    "qc.cx(5, 2)\n",
    "qc.cx(5, 3)\n",
    "qc.cx(4, 1)\n",
    "qc.cx(4, 2)\n",
    "qc.cx(4, 3)\n",
    "\n",
    "# Measuring flag1 circuit\n",
    "flag1(qc, 0, c1)\n",
    "qc.reset([7,8,9])\n",
    "\n",
    "# body is what's appended if flag1 measures 0,0,0\n",
    "body = QuantumCircuit(13)\n",
    "body.add_register(c1, c2, c3)\n",
    "flag2(body, 0, c3)\n",
    "body.reset([7,8,9])\n",
    "\n",
    "# if flag1 and flag2 both measure 0,0,0 do nothing\n",
    "do_nothing = QuantumCircuit(13)\n",
    "do_nothing.add_register(c1, c2, c3)\n",
    "\n",
    "# if flag1 measures 0,0,0 and flag2 doesn't measure 0,0,0 then do unflag\n",
    "do_unflag = QuantumCircuit(13)\n",
    "do_unflag.add_register(c1, c2, c3)\n",
    "unflag(do_unflag, 0, c2)\n",
    "\n",
    "nested_if = IfElseOp((c3, 0), true_body=do_nothing, false_body=do_unflag)\n",
    "body.append(nested_if, list(range(13)), c1[:] + c2[:] + c3[:]) \n",
    "\n",
    "# if flag1 isn't 0,0,0 then do unflag\n",
    "else_body = QuantumCircuit(13)\n",
    "else_body.add_register(c1, c2, c3)\n",
    "unflag(else_body, 0, c2)\n",
    "\n",
    "top_if = IfElseOp((c1, 0), true_body=body, false_body=else_body)\n",
    "qc.append(top_if, list(range(13)), c1[:] + c2[:] + c3[:])\n",
    "\n",
    "\n",
    "backend = AerSimulator(noise_model=noise_model, method=\"statevector\")\n",
    "transpiled = transpile(qc, backend, optimization_level=0)\n",
    "job = backend.run(transpiled, shots=1, memory=True)\n",
    "result = job.result()\n",
    "memory = result.get_memory()[0]\n",
    "\n",
    "correction = lookup(memory)"
   ]
  },
  {
   "cell_type": "code",
   "execution_count": 426,
   "metadata": {},
   "outputs": [
    {
     "name": "stdout",
     "output_type": "stream",
     "text": [
      "000 011100 101\n",
      "['000', '011100', '101']\n",
      "[1, 0, 1]\n",
      "[0, 0, 1, 1, 1, 0]\n",
      "[0, 0, 0]\n",
      "('IIIIZZZ', 'IIIIIII')\n"
     ]
    }
   ],
   "source": [
    "print(memory)\n",
    "split = memory.split()\n",
    "print(split)\n",
    "\n",
    "syndrome_flag1 = [int(b) for b in split[2]][::-1] \n",
    "syndrome_unflag = [int(b) for b in split[1]][::-1]\n",
    "syndrome_flag2 = [int(b) for b in split[0]][::-1]\n",
    "\n",
    "print(syndrome_flag1)\n",
    "print(syndrome_unflag)\n",
    "print(syndrome_flag2)\n",
    "\n",
    "print(correction)"
   ]
  },
  {
   "cell_type": "code",
   "execution_count": null,
   "metadata": {},
   "outputs": [],
   "source": []
  }
 ],
 "metadata": {
  "kernelspec": {
   "display_name": "Python (algos)",
   "language": "python",
   "name": "my-env"
  },
  "language_info": {
   "codemirror_mode": {
    "name": "ipython",
    "version": 3
   },
   "file_extension": ".py",
   "mimetype": "text/x-python",
   "name": "python",
   "nbconvert_exporter": "python",
   "pygments_lexer": "ipython3",
   "version": "3.12.4"
  },
  "orig_nbformat": 4
 },
 "nbformat": 4,
 "nbformat_minor": 2
}
