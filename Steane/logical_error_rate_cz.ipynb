{
 "cells": [
  {
   "cell_type": "code",
   "execution_count": 1,
   "metadata": {},
   "outputs": [
    {
     "name": "stdout",
     "output_type": "stream",
     "text": [
      "1.15.0\n"
     ]
    }
   ],
   "source": [
    "from stim import __version__\n",
    "print(__version__)"
   ]
  },
  {
   "cell_type": "code",
   "execution_count": 2,
   "metadata": {},
   "outputs": [],
   "source": [
    "import stim\n",
    "import numpy as np\n",
    "import matplotlib.pyplot as plt"
   ]
  },
  {
   "attachments": {},
   "cell_type": "markdown",
   "metadata": {},
   "source": [
    "# Encoding Cirucuit"
   ]
  },
  {
   "cell_type": "code",
   "execution_count": 3,
   "metadata": {},
   "outputs": [],
   "source": [
    "def logical_plus(qc: stim.Circuit, first_qubit: int, p1_err: float, p2_err: float, meas_err: float, encoding_num: int):\n",
    "    for i in [0, 1, 3]:\n",
    "        qc.append(\"H\", [first_qubit+i])\n",
    "        qc.append(\"DEPOLARIZE1\", [first_qubit+i], p1_err)\n",
    "    \n",
    "    cx_list = [[first_qubit, first_qubit+4], [first_qubit+1, first_qubit+2], [first_qubit+3, first_qubit+5], [first_qubit, first_qubit+6], [first_qubit+3, first_qubit+4], [first_qubit+1, first_qubit+5], [first_qubit, first_qubit+2], [first_qubit+5, first_qubit+6]]\n",
    "    for cx in cx_list:\n",
    "        qc.append(\"CX\", cx)\n",
    "        qc.append(\"DEPOLARIZE2\", cx, p2_err)\n",
    "        \n",
    "    list = [[first_qubit+4, first_qubit+7], [first_qubit+2, first_qubit+7], [first_qubit+5, first_qubit+7]]\n",
    "    for cx in list:\n",
    "        qc.append(\"CX\", cx)\n",
    "        qc.append(\"DEPOLARIZE2\", cx, p2_err)\n",
    "    \n",
    "    qc.append(\"X_ERROR\", [first_qubit+7], meas_err)\n",
    "    qc.append(\"MR\", [first_qubit+7])\n",
    "    qc.append(\"DETECTOR\", [stim.target_rec(encoding_num)])\n",
    "    \n",
    "    for i in range(7):\n",
    "        qc.append(\"H\", [first_qubit+i])\n",
    "        qc.append(\"DEPOLARIZE1\", [first_qubit+i], p1_err)"
   ]
  },
  {
   "attachments": {},
   "cell_type": "markdown",
   "metadata": {},
   "source": [
    "# Measurement Circuit"
   ]
  },
  {
   "cell_type": "code",
   "execution_count": 4,
   "metadata": {},
   "outputs": [],
   "source": [
    "def final_measurements(qc: stim.Circuit, meas_err: float):\n",
    "    qc.append(\"X_ERROR\", range(14), meas_err)\n",
    "    qc.append(\"MR\", range(14))\n",
    "    # Stabilizers for block1\n",
    "    qc.append(\"OBSERVABLE_INCLUDE\", [stim.target_rec(-14), stim.target_rec(-12), stim.target_rec(-10), stim.target_rec(-8)], 0)\n",
    "    qc.append(\"OBSERVABLE_INCLUDE\", [stim.target_rec(-11), stim.target_rec(-10), stim.target_rec(-9),  stim.target_rec(-8)], 1)\n",
    "    qc.append(\"OBSERVABLE_INCLUDE\", [stim.target_rec(-13), stim.target_rec(-12), stim.target_rec(-9),  stim.target_rec(-8)], 2)\n",
    "    # Stabilizers for block2\n",
    "    qc.append(\"OBSERVABLE_INCLUDE\", [stim.target_rec(-7), stim.target_rec(-5), stim.target_rec(-3), stim.target_rec(-1)], 3)\n",
    "    qc.append(\"OBSERVABLE_INCLUDE\", [stim.target_rec(-4), stim.target_rec(-3), stim.target_rec(-2), stim.target_rec(-1)], 4)\n",
    "    qc.append(\"OBSERVABLE_INCLUDE\", [stim.target_rec(-6), stim.target_rec(-5), stim.target_rec(-2), stim.target_rec(-1)], 5)\n",
    "    # Logical Operator for block1\n",
    "    qc.append(\"OBSERVABLE_INCLUDE\", [stim.target_rec(-14), stim.target_rec(-13), stim.target_rec(-12)], 6)\n",
    "    # Logical Operator for block2\n",
    "    qc.append(\"OBSERVABLE_INCLUDE\", [stim.target_rec(-7), stim.target_rec(-6), stim.target_rec(-5)], 7)"
   ]
  },
  {
   "attachments": {},
   "cell_type": "markdown",
   "metadata": {},
   "source": [
    "# Entire CZ Circuit"
   ]
  },
  {
   "cell_type": "code",
   "execution_count": 16,
   "metadata": {},
   "outputs": [],
   "source": [
    "def cz_circuit(qc: stim.Circuit, p1_err: float, p2_err: float, meas_err: float, rep: int):\n",
    "    logical_plus(qc, first_qubit=0, p1_err=p1_err, p2_err=p2_err, meas_err=p2_err, encoding_num=-1)\n",
    "    logical_plus(qc, first_qubit=7, p1_err=p1_err, p2_err=p2_err, meas_err=p2_err, encoding_num=-2)\n",
    "    \n",
    "    for r in range(rep):\n",
    "        for i in range(7):\n",
    "            qc.append(\"CZ\", [i, i+7])\n",
    "            qc.append(\"DEPOLARIZE2\", [i, i+7], p2_err)\n",
    "            qc.append(\"H\", [i])\n",
    "            qc.append(\"DEPOLARIZE1\", [i], p1_err)\n",
    "    final_measurements(qc, meas_err)"
   ]
  },
  {
   "attachments": {},
   "cell_type": "markdown",
   "metadata": {},
   "source": [
    "# Decoder"
   ]
  },
  {
   "cell_type": "code",
   "execution_count": 6,
   "metadata": {},
   "outputs": [],
   "source": [
    "def decoder(dets, obs):\n",
    "    shots = obs.shape[0]\n",
    "    error = 0\n",
    "    erase = 0\n",
    "    \n",
    "    for i in range(shots):\n",
    "        if (not dets[i][0] and not dets[i][1]):\n",
    "            b1_checks = obs[i][0:3]\n",
    "            b2_checks = obs[i][3:6]\n",
    "            b1_op = obs[i][6]\n",
    "            b2_op = obs[i][7]\n",
    "            if (b1_checks[1]):\n",
    "                pass\n",
    "            elif (b1_checks[0] or b1_checks[2]):\n",
    "                b1_op = not b1_op\n",
    "\n",
    "            if (b2_checks[1]):\n",
    "                pass\n",
    "            elif (b2_checks[0] or b2_checks[2]):\n",
    "                b2_op = not b2_op\n",
    "        \n",
    "            if (b1_op != b2_op):\n",
    "                error += 1\n",
    "        else:\n",
    "            erase += 1\n",
    "    err_rate = error/(shots - erase)\n",
    "    unc = 1.96 * np.sqrt( (err_rate * (1 - err_rate) / (shots - erase) ))\n",
    "    return err_rate, unc"
   ]
  },
  {
   "attachments": {},
   "cell_type": "markdown",
   "metadata": {},
   "source": [
    "# Simulations"
   ]
  },
  {
   "cell_type": "code",
   "execution_count": 17,
   "metadata": {},
   "outputs": [
    {
     "data": {
      "text/plain": [
       "Text(0, 0.5, 'logical error')"
      ]
     },
     "execution_count": 17,
     "metadata": {},
     "output_type": "execute_result"
    },
    {
     "data": {
      "image/png": "[encoded data removed]",
      "text/plain": [
       "<Figure size 640x480 with 1 Axes>"
      ]
     },
     "metadata": {},
     "output_type": "display_data"
    }
   ],
   "source": [
    "noise_list = [0.0001, 0.0002, 0.0003, 0.0004, 0.0005, 0.0006, 0.0007, 0.0008, 0.0009, 0.001]\n",
    "shots = int(1e6)\n",
    "\n",
    "for rep in range(6):\n",
    "    logical_err = []\n",
    "    unc = []\n",
    "    for p1 in noise_list:\n",
    "        qc = stim.Circuit()\n",
    "        cz_circuit(qc, p1_err=p1, p2_err=p1*10, meas_err=p1*10, rep=rep)\n",
    "\n",
    "        dets, obs = qc.compile_detector_sampler().sample(shots=shots,separate_observables=True)\n",
    "        err_rate, u = decoder(dets, obs)\n",
    "        logical_err.append(err_rate)\n",
    "        unc.append(u)\n",
    "    plt.errorbar(\n",
    "        noise_list,\n",
    "        logical_err,\n",
    "        yerr=unc,\n",
    "        fmt='-x',\n",
    "        label=f'rep={rep}',\n",
    "        capsize=3  # little horizontal caps on the error bars\n",
    "    )\n",
    "\n",
    "plt.title('Logical CZ')\n",
    "plt.xscale('log')\n",
    "plt.yscale('log')\n",
    "plt.legend()\n",
    "plt.xlabel('physical error')\n",
    "plt.ylabel('logical error')"
   ]
  },
  {
   "cell_type": "code",
   "execution_count": null,
   "metadata": {},
   "outputs": [],
   "source": []
  }
 ],
 "metadata": {
  "kernelspec": {
   "display_name": "stim",
   "language": "python",
   "name": "python3"
  },
  "language_info": {
   "codemirror_mode": {
    "name": "ipython",
    "version": 3
   },
   "file_extension": ".py",
   "mimetype": "text/x-python",
   "name": "python",
   "nbconvert_exporter": "python",
   "pygments_lexer": "ipython3",
   "version": "3.13.5"
  },
  "orig_nbformat": 4
 },
 "nbformat": 4,
 "nbformat_minor": 2
}
