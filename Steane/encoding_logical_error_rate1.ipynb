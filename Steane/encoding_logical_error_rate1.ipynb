{
 "cells": [
  {
   "attachments": {},
   "cell_type": "markdown",
   "metadata": {},
   "source": [
    "# Using Pauli Frame Update"
   ]
  },
  {
   "cell_type": "code",
   "execution_count": 4,
   "metadata": {},
   "outputs": [
    {
     "name": "stdout",
     "output_type": "stream",
     "text": [
      "1.4.2\n"
     ]
    }
   ],
   "source": [
    "from qiskit import __version__\n",
    "print(__version__)"
   ]
  },
  {
   "cell_type": "code",
   "execution_count": 605,
   "metadata": {},
   "outputs": [],
   "source": [
    "from qiskit import QuantumCircuit, ClassicalRegister\n",
    "from qiskit.quantum_info import Statevector, state_fidelity, partial_trace, DensityMatrix\n",
    "from qiskit_aer import AerSimulator\n",
    "from qiskit.visualization import plot_histogram\n",
    "from qiskit import transpile \n",
    "import numpy as np\n",
    "from qiskit_aer.noise import NoiseModel, depolarizing_error, ReadoutError\n",
    "from qiskit.circuit.controlflow import IfElseOp\n",
    "from qiskit.circuit.library import XGate, ZGate\n",
    "import matplotlib.pyplot as plt"
   ]
  },
  {
   "cell_type": "code",
   "execution_count": 650,
   "metadata": {},
   "outputs": [],
   "source": [
    "import importlib\n",
    "import steane_ec_decoder1\n",
    "importlib.reload(steane_ec_decoder1)\n",
    "from steane_ec_decoder1 import lookup"
   ]
  },
  {
   "attachments": {},
   "cell_type": "markdown",
   "metadata": {},
   "source": [
    "# Function for Encoding"
   ]
  },
  {
   "cell_type": "code",
   "execution_count": 651,
   "metadata": {},
   "outputs": [],
   "source": [
    "def encoding(qc: QuantumCircuit):\n",
    "    theta = np.arctan(np.sqrt((np.sqrt(5) - 1) / 2))\n",
    "    amp_0 = np.cos(theta/2)\n",
    "    amp_1 = np.sin(theta/2)\n",
    "    qc.initialize([amp_0, amp_1], 0)\n",
    "    for i in range(7):\n",
    "        qc.id(i)\n",
    "    for i in range(4, 7):\n",
    "        qc.h(i)\n",
    "    qc.cx(0, 1)\n",
    "    qc.cx(0, 2)\n",
    "    qc.cx(6, 0)\n",
    "    qc.cx(6, 1)\n",
    "    qc.cx(6, 3)\n",
    "    qc.cx(5, 0)\n",
    "    qc.cx(5, 2)\n",
    "    qc.cx(5, 3)\n",
    "    qc.cx(4, 1)\n",
    "    qc.cx(4, 2)\n",
    "    qc.cx(4, 3)"
   ]
  },
  {
   "attachments": {},
   "cell_type": "markdown",
   "metadata": {},
   "source": [
    "# Functions for Stabilizer Extraction"
   ]
  },
  {
   "cell_type": "code",
   "execution_count": 652,
   "metadata": {},
   "outputs": [],
   "source": [
    "def flag1(qc: QuantumCircuit, first_qubit: int, c1: ClassicalRegister):\n",
    "    # Setting first ancilla to |+>\n",
    "    qc.h(first_qubit+7)\n",
    "    \n",
    "    qc.cx(first_qubit+7, first_qubit+3)\n",
    "    qc.cx(first_qubit+2, first_qubit+9)\n",
    "    qc.cx(first_qubit+5, first_qubit+8)\n",
    "    qc.cx(first_qubit+7, first_qubit+8)\n",
    "    qc.cx(first_qubit+7, first_qubit)\n",
    "    qc.cx(first_qubit+3, first_qubit+9)\n",
    "    qc.cx(first_qubit+4, first_qubit+8)\n",
    "    qc.cx(first_qubit+7, first_qubit+1)\n",
    "    qc.cx(first_qubit+6, first_qubit+9)\n",
    "    qc.cx(first_qubit+2, first_qubit+8)\n",
    "    qc.cx(first_qubit+7, first_qubit+9)\n",
    "    qc.cx(first_qubit+7, first_qubit+2)\n",
    "    qc.cx(first_qubit+5, first_qubit+9)\n",
    "    qc.cx(first_qubit+1, first_qubit+8)\n",
    "    \n",
    "    # Measure first ancilla in X-basis\n",
    "    qc.h(first_qubit+7)\n",
    "    \n",
    "    qc.measure([first_qubit+7, first_qubit+8, first_qubit+9], c1)"
   ]
  },
  {
   "cell_type": "code",
   "execution_count": 653,
   "metadata": {},
   "outputs": [],
   "source": [
    "def unflag(qc: QuantumCircuit, first_qubit: int, c2: ClassicalRegister):\n",
    "    qc.h(first_qubit+7)\n",
    "    qc.h(first_qubit+11)\n",
    "    qc.h(first_qubit+12)\n",
    "    \n",
    "    qc.cx(first_qubit+7, first_qubit+3)\n",
    "    qc.cx(first_qubit+2, first_qubit+9)\n",
    "    qc.cx(first_qubit+5, first_qubit+8)\n",
    "    qc.cx(first_qubit+7, first_qubit)\n",
    "    qc.cx(first_qubit+3, first_qubit+9)\n",
    "    qc.cx(first_qubit+4, first_qubit+8)\n",
    "    qc.cx(first_qubit+7, first_qubit+1)\n",
    "    qc.cx(first_qubit+6, first_qubit+9)\n",
    "    qc.cx(first_qubit+2, first_qubit+8)\n",
    "    qc.cx(first_qubit+7, first_qubit+2)\n",
    "    qc.cx(first_qubit+5, first_qubit+9)\n",
    "    qc.cx(first_qubit+1, first_qubit+8)\n",
    "    \n",
    "    qc.cx(first_qubit+3, first_qubit+10)\n",
    "    qc.cx(first_qubit+12, first_qubit+2)\n",
    "    qc.cx(first_qubit+11, first_qubit+5)\n",
    "    qc.cx(first_qubit, first_qubit+10)\n",
    "    qc.cx(first_qubit+12, first_qubit+3)\n",
    "    qc.cx(first_qubit+11, first_qubit+4)\n",
    "    qc.cx(first_qubit+1, first_qubit+10)\n",
    "    qc.cx(first_qubit+12, first_qubit+6)\n",
    "    qc.cx(first_qubit+11, first_qubit+2)\n",
    "    qc.cx(first_qubit+2, first_qubit+10)\n",
    "    qc.cx(first_qubit+12, first_qubit+5)\n",
    "    qc.cx(first_qubit+11, first_qubit+1)\n",
    "    \n",
    "    \n",
    "    qc.h(first_qubit+7)\n",
    "    qc.h(first_qubit+11)\n",
    "    qc.h(first_qubit+12)\n",
    "    \n",
    "    qc.measure([first_qubit+7, first_qubit+8, first_qubit+9, first_qubit+10, first_qubit+11, first_qubit+12], c2)\n"
   ]
  },
  {
   "cell_type": "code",
   "execution_count": 654,
   "metadata": {},
   "outputs": [],
   "source": [
    "def flag2(qc: QuantumCircuit, first_qubit: int, c3: ClassicalRegister):\n",
    "    # Setting last two ancillas to |+>\n",
    "    qc.h(first_qubit+8)\n",
    "    qc.h(first_qubit+9)\n",
    "    \n",
    "    qc.cx(first_qubit+3, first_qubit+7)\n",
    "    qc.cx(first_qubit+9, first_qubit+2)\n",
    "    qc.cx(first_qubit+8, first_qubit+5)\n",
    "    qc.cx(first_qubit+8, first_qubit+7)\n",
    "    qc.cx(first_qubit, first_qubit+7)\n",
    "    qc.cx(first_qubit+9, first_qubit+3)\n",
    "    qc.cx(first_qubit+8, first_qubit+4)\n",
    "    qc.cx(first_qubit+1, first_qubit+7)\n",
    "    qc.cx(first_qubit+9, first_qubit+6)\n",
    "    qc.cx(first_qubit+8, first_qubit+2)\n",
    "    qc.cx(first_qubit+9, first_qubit+7)\n",
    "    qc.cx(first_qubit+2, first_qubit+7)\n",
    "    qc.cx(first_qubit+9, first_qubit+5)\n",
    "    qc.cx(first_qubit+8, first_qubit+1)\n",
    "    \n",
    "    # Measrue last two ancillas in the X-basis\n",
    "    qc.h(first_qubit+8)\n",
    "    qc.h(first_qubit+9)\n",
    "    \n",
    "    qc.measure([first_qubit+7, first_qubit+8, first_qubit+9], c3)"
   ]
  },
  {
   "attachments": {},
   "cell_type": "markdown",
   "metadata": {},
   "source": [
    "# Function for QEC"
   ]
  },
  {
   "cell_type": "code",
   "execution_count": 655,
   "metadata": {},
   "outputs": [],
   "source": [
    "def QEC(qc: QuantumCircuit, c1: ClassicalRegister, c2: ClassicalRegister, c3: ClassicalRegister):\n",
    "    # Measuring flag1 circuit\n",
    "    flag1(qc, 0, c1)\n",
    "    qc.reset([7,8,9])\n",
    "\n",
    "    # body is what's appended if flag1 measures 0,0,0\n",
    "    body = QuantumCircuit(13)\n",
    "    body.add_register(c1, c2, c3)\n",
    "    flag2(body, 0, c3)\n",
    "    body.reset([7,8,9])\n",
    "\n",
    "    # if flag1 and flag2 both measure 0,0,0 do nothing\n",
    "    do_nothing = QuantumCircuit(13)\n",
    "    do_nothing.add_register(c1, c2, c3)\n",
    "\n",
    "    # if flag1 measures 0,0,0 and flag2 doesn't measure 0,0,0 then do unflag\n",
    "    do_unflag = QuantumCircuit(13)\n",
    "    do_unflag.add_register(c1, c2, c3)\n",
    "    unflag(do_unflag, 0, c2)\n",
    "\n",
    "    nested_if = IfElseOp((c3, 0), true_body=do_nothing, false_body=do_unflag)\n",
    "    body.append(nested_if, list(range(13)), c1[:] + c2[:] + c3[:]) \n",
    "\n",
    "    # if flag1 isn't 0,0,0 then do unflag\n",
    "    else_body = QuantumCircuit(13)\n",
    "    else_body.add_register(c1, c2, c3)\n",
    "    unflag(else_body, 0, c2)\n",
    "\n",
    "    top_if = IfElseOp((c1, 0), true_body=body, false_body=else_body)\n",
    "    \n",
    "    qc.append(top_if, list(range(13)), c1[:] + c2[:] + c3[:])"
   ]
  },
  {
   "attachments": {},
   "cell_type": "markdown",
   "metadata": {},
   "source": [
    "# Encoding + 1 Round of EC "
   ]
  },
  {
   "cell_type": "code",
   "execution_count": 656,
   "metadata": {},
   "outputs": [],
   "source": [
    "noise_model = NoiseModel()\n",
    "\n",
    "noise_model.add_all_qubit_quantum_error(depolarizing_error(0.005,1), ['id'])\n",
    "noise_model.add_all_qubit_quantum_error(depolarizing_error(0.005,1), ['h'])\n",
    "noise_model.add_all_qubit_quantum_error(depolarizing_error(0.05,2), ['cx'])\n",
    "\n",
    "# 5% chance of flipping 0 <-> 1\n",
    "readout_err = ReadoutError([[0.995, 0.005],  # P(measured 0 | actual 0), P(1 | 0)\n",
    "                            [0.005, 0.995]]) # P(0 | 1), P(1 | 1)\n",
    "\n",
    "# Apply to all qubits being measured\n",
    "noise_model.add_readout_error(readout_err, [7]) \n",
    "noise_model.add_readout_error(readout_err, [8])\n",
    "noise_model.add_readout_error(readout_err, [9])\n",
    "noise_model.add_readout_error(readout_err, [10])\n",
    "noise_model.add_readout_error(readout_err, [11])\n",
    "noise_model.add_readout_error(readout_err, [12])"
   ]
  },
  {
   "cell_type": "code",
   "execution_count": 657,
   "metadata": {},
   "outputs": [
    {
     "name": "stdout",
     "output_type": "stream",
     "text": [
      "Result(backend_name='aer_simulator', backend_version='0.14.2', qobj_id='', job_id='2589aa76-983f-4021-adaa-2d7281db5b20', success=True, results=[ExperimentResult(shots=4, success=True, meas_level=2, data=ExperimentResultData(counts={'0xef': 1, '0x0': 1, '0x35': 1, '0x15c': 1}, memory=['0x15c', '0x0', '0xef', '0x35'], statevector_post={'0xef': [Statevector([0.+0.j, 0.+0.j, 0.+0.j, ..., 0.+0.j, 0.+0.j, 0.+0.j],\n",
      "            dims=(2, 2, 2, 2, 2, 2, 2, 2, 2, 2, 2, 2, 2))], '0x0': [Statevector([-6.86915451e-17-0.33411744j,  0.00000000e+00+0.j        ,\n",
      "              0.00000000e+00+0.j        , ...,  0.00000000e+00+0.j        ,\n",
      "              0.00000000e+00+0.j        ,  0.00000000e+00+0.j        ],\n",
      "            dims=(2, 2, 2, 2, 2, 2, 2, 2, 2, 2, 2, 2, 2))], '0x35': [Statevector([0.+0.j, 0.+0.j, 0.+0.j, ..., 0.+0.j, 0.+0.j, 0.+0.j],\n",
      "            dims=(2, 2, 2, 2, 2, 2, 2, 2, 2, 2, 2, 2, 2))], '0x15c': [Statevector([0.+0.j, 0.+0.j, 0.+0.j, ..., 0.+0.j, 0.+0.j, 0.+0.j],\n",
      "            dims=(2, 2, 2, 2, 2, 2, 2, 2, 2, 2, 2, 2, 2))]}), header=QobjExperimentHeader(creg_sizes=[['c1', 3], ['c2', 6], ['c3', 3]], global_phase=4.71238898038469, memory_slots=12, n_qubits=13, name='circuit-2387', qreg_sizes=[['q', 13]], metadata={}), status=DONE, seed_simulator=4158596198, metadata={'num_bind_params': 1, 'runtime_parameter_bind': False, 'parallel_state_update': 3, 'parallel_shots': 4, 'noise': 'circuit', 'batched_shots_optimization': False, 'remapped_qubits': False, 'active_input_qubits': [0, 1, 2, 3, 4, 5, 6, 7, 8, 9, 10, 11, 12], 'device': 'CPU', 'time_taken': 0.013906751, 'measure_sampling': False, 'num_clbits': 12, 'max_memory_mb': 32768, 'input_qubit_map': [[12, 12], [11, 11], [10, 10], [9, 9], [8, 8], [7, 7], [6, 6], [5, 5], [4, 4], [3, 3], [2, 2], [1, 1], [0, 0]], 'num_qubits': 13, 'method': 'statevector', 'required_memory_mb': 1, 'fusion': {'applied': False, 'max_fused_qubits': 5, 'threshold': 14, 'enabled': True}, 'result_types': {'statevector_post': 'save_statevector'}, 'result_subtypes': {'statevector_post': 'c_list'}}, time_taken=0.013906751)], date=2025-07-08T19:03:33.979561, status=COMPLETED, header=None, metadata={'time_taken_parameter_binding': 7.9173e-05, 'max_memory_mb': 32768, 'time_taken_execute': 0.015497001, 'omp_enabled': True, 'max_gpu_memory_mb': 0, 'parallel_experiments': 1}, time_taken=0.038255929946899414)\n",
      "['000 101011 100', '000 000000 000', '000 011101 111', '000 000110 101']\n"
     ]
    }
   ],
   "source": [
    "qc = QuantumCircuit(13)\n",
    "# Classical Register for flag1 measurements\n",
    "c1 = ClassicalRegister(3, \"c1\")\n",
    "# Classical Register for unflag measurements \n",
    "c2 = ClassicalRegister(6, \"c2\")\n",
    "# Classical Register for flag2 measurements\n",
    "c3 = ClassicalRegister(3, \"c3\")\n",
    "qc.add_register(c1, c2, c3)\n",
    "\n",
    "encoding(qc)\n",
    "\n",
    "QEC(qc, c1, c2, c3)\n",
    "\n",
    "qc.save_statevector(label='statevector_post', pershot=True, conditional=True)\n",
    "\n",
    "backend = AerSimulator(noise_model=noise_model)\n",
    "transpiled = transpile(qc, backend, optimization_level=0)\n",
    "job = backend.run(transpiled, shots=4, memory=True)\n",
    "result = job.result()\n",
    "memory = result.get_memory()\n",
    "\n",
    "print(result)\n",
    "print(memory)\n",
    "#correction = lookup(memory)"
   ]
  },
  {
   "cell_type": "code",
   "execution_count": 658,
   "metadata": {},
   "outputs": [
    {
     "name": "stdout",
     "output_type": "stream",
     "text": [
      "['0x15c', '0x0', '0xef', '0x35']\n"
     ]
    }
   ],
   "source": [
    "hex_mem = result.data()['memory']\n",
    "print(hex_mem)"
   ]
  },
  {
   "cell_type": "code",
   "execution_count": 659,
   "metadata": {},
   "outputs": [
    {
     "name": "stdout",
     "output_type": "stream",
     "text": [
      "[{'0x15c': Statevector([0.+0.j, 0.+0.j, 0.+0.j, ..., 0.+0.j, 0.+0.j, 0.+0.j],\n",
      "            dims=(2, 2, 2, 2, 2, 2, 2, 2, 2, 2, 2, 2, 2))}, {'0x0': Statevector([-6.86915451e-17-0.33411744j,  0.00000000e+00+0.j        ,\n",
      "              0.00000000e+00+0.j        , ...,  0.00000000e+00+0.j        ,\n",
      "              0.00000000e+00+0.j        ,  0.00000000e+00+0.j        ],\n",
      "            dims=(2, 2, 2, 2, 2, 2, 2, 2, 2, 2, 2, 2, 2))}, {'0xef': Statevector([0.+0.j, 0.+0.j, 0.+0.j, ..., 0.+0.j, 0.+0.j, 0.+0.j],\n",
      "            dims=(2, 2, 2, 2, 2, 2, 2, 2, 2, 2, 2, 2, 2))}, {'0x35': Statevector([0.+0.j, 0.+0.j, 0.+0.j, ..., 0.+0.j, 0.+0.j, 0.+0.j],\n",
      "            dims=(2, 2, 2, 2, 2, 2, 2, 2, 2, 2, 2, 2, 2))}]\n"
     ]
    }
   ],
   "source": [
    "from collections import defaultdict\n",
    "\n",
    "ordered_result = []\n",
    "hex_mem = result.data()['memory']\n",
    "\n",
    "seen = defaultdict(int)\n",
    "for mem in hex_mem:\n",
    "    idx = seen[mem]\n",
    "    val = result.data()['statevector_post'][mem][idx]\n",
    "    ordered_result.append({mem:val})\n",
    "    seen[mem] += 1\n",
    "    \n",
    "print(ordered_result)"
   ]
  },
  {
   "cell_type": "code",
   "execution_count": 660,
   "metadata": {},
   "outputs": [
    {
     "name": "stdout",
     "output_type": "stream",
     "text": [
      "0x15c\n",
      "Statevector([0.+0.j, 0.+0.j, 0.+0.j, ..., 0.+0.j, 0.+0.j, 0.+0.j],\n",
      "            dims=(2, 2, 2, 2, 2, 2, 2, 2, 2, 2, 2, 2, 2))\n",
      "0x0\n",
      "Statevector([-6.86915451e-17-0.33411744j,  0.00000000e+00+0.j        ,\n",
      "              0.00000000e+00+0.j        , ...,  0.00000000e+00+0.j        ,\n",
      "              0.00000000e+00+0.j        ,  0.00000000e+00+0.j        ],\n",
      "            dims=(2, 2, 2, 2, 2, 2, 2, 2, 2, 2, 2, 2, 2))\n",
      "0xef\n",
      "Statevector([0.+0.j, 0.+0.j, 0.+0.j, ..., 0.+0.j, 0.+0.j, 0.+0.j],\n",
      "            dims=(2, 2, 2, 2, 2, 2, 2, 2, 2, 2, 2, 2, 2))\n",
      "0x35\n",
      "Statevector([0.+0.j, 0.+0.j, 0.+0.j, ..., 0.+0.j, 0.+0.j, 0.+0.j],\n",
      "            dims=(2, 2, 2, 2, 2, 2, 2, 2, 2, 2, 2, 2, 2))\n"
     ]
    }
   ],
   "source": [
    "for i, sv in enumerate(ordered_result):\n",
    "    bitstr_13, sv13 = next(iter(sv.items()))\n",
    "    print(bitstr_13)\n",
    "    print(sv13)"
   ]
  },
  {
   "cell_type": "code",
   "execution_count": 661,
   "metadata": {},
   "outputs": [
    {
     "name": "stdout",
     "output_type": "stream",
     "text": [
      "[Statevector([0.+0.j, 0.+0.j, 0.+0.j, ..., 0.+0.j, 0.+0.j, 0.+0.j],\n",
      "            dims=(2, 2, 2, 2, 2, 2, 2, 2, 2, 2, 2, 2, 2)), Statevector([-6.86915451e-17-0.33411744j,  0.00000000e+00+0.j        ,\n",
      "              0.00000000e+00+0.j        , ...,  0.00000000e+00+0.j        ,\n",
      "              0.00000000e+00+0.j        ,  0.00000000e+00+0.j        ],\n",
      "            dims=(2, 2, 2, 2, 2, 2, 2, 2, 2, 2, 2, 2, 2)), Statevector([0.+0.j, 0.+0.j, 0.+0.j, ..., 0.+0.j, 0.+0.j, 0.+0.j],\n",
      "            dims=(2, 2, 2, 2, 2, 2, 2, 2, 2, 2, 2, 2, 2)), Statevector([0.+0.j, 0.+0.j, 0.+0.j, ..., 0.+0.j, 0.+0.j, 0.+0.j],\n",
      "            dims=(2, 2, 2, 2, 2, 2, 2, 2, 2, 2, 2, 2, 2))]\n"
     ]
    }
   ],
   "source": [
    "sv_correction = []\n",
    "for i, sv in enumerate(ordered_result):\n",
    "    str13, sv13 = next(iter(sv.items()))\n",
    "    cz, cx = lookup(memory[i])\n",
    "    for i, op in enumerate(cz):\n",
    "        if i >= 7:\n",
    "            break\n",
    "        if op == 'Z':\n",
    "            sv13 = sv13.evolve(ZGate(), [i])\n",
    "    \n",
    "    for i, op in enumerate(cx):\n",
    "        if i >= 7:\n",
    "            break\n",
    "        if op == 'X':\n",
    "            sv13 = sv13.evolve(XGate(), [i])\n",
    "    sv_correction.append(sv13)\n",
    "print(sv_correction)"
   ]
  },
  {
   "cell_type": "code",
   "execution_count": 673,
   "metadata": {},
   "outputs": [
    {
     "data": {
      "text/latex": [
       "$$\n",
       "\n",
       "\\begin{bmatrix}\n",
       "0.1116344611 & 0 & 0 & 0 & \\cdots & 0 & 0 & \\frac{2^{\\frac{9}{65}} \\cdot 3^{\\frac{19}{65}} \\cdot 5^{\\frac{602}{715}} \\cdot 7^{\\frac{51}{715}}}{175}  \\\\\n",
       " 0 & 0 & 0 & 0 & \\cdots & 0 & 0 & 0  \\\\\n",
       " 0 & 0 & 0 & 0 & \\cdots & 0 & 0 & 0  \\\\\n",
       " 0 & 0 & 0 & 0 & \\cdots & 0 & 0 & 0  \\\\\n",
       " \\vdots & \\vdots & \\vdots & \\vdots & \\ddots & \\vdots & \\vdots & \\vdots \\\\\n",
       " 0 & 0 & 0 & 0 & \\cdots & 0 & 0 & 0  \\\\\n",
       " 0 & 0 & 0 & 0 & \\cdots & 0 & 0 & 0  \\\\\n",
       " \\frac{2^{\\frac{9}{65}} \\cdot 3^{\\frac{19}{65}} \\cdot 5^{\\frac{602}{715}} \\cdot 7^{\\frac{51}{715}}}{175} & 0 & 0 & 0 & \\cdots & 0 & 0 & 0.0133655389  \\\\\n",
       " \\end{bmatrix}\n",
       "$$"
      ],
      "text/plain": [
       "<IPython.core.display.Latex object>"
      ]
     },
     "metadata": {},
     "output_type": "display_data"
    }
   ],
   "source": [
    "example = sv_correction[1]\n",
    "red_sv = partial_trace(example, [7, 8, 9, 10, 11, 12])\n",
    "#sv = red_sv.to_statevector()\n",
    "display(red_sv.draw(\"latex\"))"
   ]
  },
  {
   "cell_type": "code",
   "execution_count": 663,
   "metadata": {},
   "outputs": [
    {
     "data": {
      "text/latex": [
       "$$\n",
       "\n",
       "\\begin{bmatrix}\n",
       "0.1116344611 & 0 & 0 & 0 & \\cdots & 0 & 0 & \\frac{2^{\\frac{9}{65}} \\cdot 3^{\\frac{19}{65}} \\cdot 5^{\\frac{602}{715}} \\cdot 7^{\\frac{51}{715}}}{175}  \\\\\n",
       " 0 & 0 & 0 & 0 & \\cdots & 0 & 0 & 0  \\\\\n",
       " 0 & 0 & 0 & 0 & \\cdots & 0 & 0 & 0  \\\\\n",
       " 0 & 0 & 0 & 0 & \\cdots & 0 & 0 & 0  \\\\\n",
       " \\vdots & \\vdots & \\vdots & \\vdots & \\ddots & \\vdots & \\vdots & \\vdots \\\\\n",
       " 0 & 0 & 0 & 0 & \\cdots & 0 & 0 & 0  \\\\\n",
       " 0 & 0 & 0 & 0 & \\cdots & 0 & 0 & 0  \\\\\n",
       " \\frac{2^{\\frac{9}{65}} \\cdot 3^{\\frac{19}{65}} \\cdot 5^{\\frac{602}{715}} \\cdot 7^{\\frac{51}{715}}}{175} & 0 & 0 & 0 & \\cdots & 0 & 0 & 0.0133655389  \\\\\n",
       " \\end{bmatrix}\n",
       "$$"
      ],
      "text/plain": [
       "<IPython.core.display.Latex object>"
      ]
     },
     "metadata": {},
     "output_type": "display_data"
    }
   ],
   "source": [
    "test = QuantumCircuit(7)\n",
    "encoding(test)\n",
    "test = DensityMatrix(test)\n",
    "display(test.draw(\"latex\"))"
   ]
  },
  {
   "cell_type": "code",
   "execution_count": 674,
   "metadata": {},
   "outputs": [
    {
     "name": "stdout",
     "output_type": "stream",
     "text": [
      "False\n"
     ]
    }
   ],
   "source": [
    "print(red_sv == test)"
   ]
  },
  {
   "cell_type": "code",
   "execution_count": null,
   "metadata": {},
   "outputs": [],
   "source": []
  }
 ],
 "metadata": {
  "kernelspec": {
   "display_name": "Python (algos)",
   "language": "python",
   "name": "my-env"
  },
  "language_info": {
   "codemirror_mode": {
    "name": "ipython",
    "version": 3
   },
   "file_extension": ".py",
   "mimetype": "text/x-python",
   "name": "python",
   "nbconvert_exporter": "python",
   "pygments_lexer": "ipython3",
   "version": "3.12.4"
  },
  "orig_nbformat": 4
 },
 "nbformat": 4,
 "nbformat_minor": 2
}
