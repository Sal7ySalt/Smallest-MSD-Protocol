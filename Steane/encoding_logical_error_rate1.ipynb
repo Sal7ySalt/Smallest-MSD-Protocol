{
 "cells": [
  {
   "attachments": {},
   "cell_type": "markdown",
   "metadata": {},
   "source": [
    "# Using Pauli Frame Update"
   ]
  },
  {
   "cell_type": "code",
   "execution_count": 43,
   "metadata": {},
   "outputs": [
    {
     "name": "stdout",
     "output_type": "stream",
     "text": [
      "1.4.2\n"
     ]
    }
   ],
   "source": [
    "from qiskit import __version__\n",
    "print(__version__)"
   ]
  },
  {
   "cell_type": "code",
   "execution_count": 44,
   "metadata": {},
   "outputs": [],
   "source": [
    "from qiskit import QuantumCircuit, ClassicalRegister\n",
    "from qiskit.quantum_info import Statevector, state_fidelity, partial_trace, DensityMatrix, Pauli\n",
    "from qiskit.quantum_info.operators import Operator\n",
    "from qiskit_aer import AerSimulator\n",
    "from qiskit.visualization import plot_histogram\n",
    "from qiskit import transpile \n",
    "import numpy as np\n",
    "from qiskit_aer.noise import NoiseModel, depolarizing_error, ReadoutError\n",
    "from qiskit.circuit.controlflow import IfElseOp\n",
    "from qiskit.circuit.library import XGate, ZGate\n",
    "import matplotlib.pyplot as plt"
   ]
  },
  {
   "cell_type": "code",
   "execution_count": 180,
   "metadata": {},
   "outputs": [],
   "source": [
    "import importlib\n",
    "import steane_ec_decoder1\n",
    "importlib.reload(steane_ec_decoder1)\n",
    "from steane_ec_decoder1 import lookup"
   ]
  },
  {
   "attachments": {},
   "cell_type": "markdown",
   "metadata": {},
   "source": [
    "# Function for Encoding"
   ]
  },
  {
   "cell_type": "code",
   "execution_count": 182,
   "metadata": {},
   "outputs": [],
   "source": [
    "def encoding(qc: QuantumCircuit):\n",
    "    \"\"\"\n",
    "    theta = np.arctan(np.sqrt((np.sqrt(5) - 1) / 2))\n",
    "    amp_0 = np.cos(theta/2)\n",
    "    amp_1 = np.sin(theta/2)\n",
    "    qc.initialize([amp_0, amp_1], 0)\n",
    "    for i in range(7):\n",
    "        qc.id(i)\n",
    "    for i in range(4, 7):\n",
    "        qc.h(i)\n",
    "    qc.cx(0, 1)\n",
    "    qc.cx(0, 2)\n",
    "    qc.cx(6, 0)\n",
    "    qc.cx(6, 1)\n",
    "    qc.cx(5, 0)\n",
    "    qc.cx(6, 3)\n",
    "    qc.cx(5, 2)\n",
    "    qc.cx(4, 1)\n",
    "    qc.cx(5, 3)\n",
    "    qc.cx(4, 2)\n",
    "    qc.cx(4, 3)\n",
    "    \"\"\""
   ]
  },
  {
   "attachments": {},
   "cell_type": "markdown",
   "metadata": {},
   "source": [
    "# Functions for Stabilizer Extraction"
   ]
  },
  {
   "cell_type": "code",
   "execution_count": 183,
   "metadata": {},
   "outputs": [],
   "source": [
    "def flag1(qc: QuantumCircuit, first_qubit: int, c1: ClassicalRegister):\n",
    "    # Setting first ancilla to |+>\n",
    "    qc.h(first_qubit+7)\n",
    "    \n",
    "    qc.cx(first_qubit+7, first_qubit+3)\n",
    "    qc.cx(first_qubit+2, first_qubit+9)\n",
    "    qc.cx(first_qubit+5, first_qubit+8)\n",
    "    qc.cx(first_qubit+7, first_qubit+8)\n",
    "    qc.cx(first_qubit+7, first_qubit)\n",
    "    qc.cx(first_qubit+3, first_qubit+9)\n",
    "    qc.cx(first_qubit+4, first_qubit+8)\n",
    "    qc.cx(first_qubit+7, first_qubit+1)\n",
    "    qc.cx(first_qubit+6, first_qubit+9)\n",
    "    qc.cx(first_qubit+2, first_qubit+8)\n",
    "    qc.cx(first_qubit+7, first_qubit+9)\n",
    "    qc.cx(first_qubit+7, first_qubit+2)\n",
    "    qc.cx(first_qubit+5, first_qubit+9)\n",
    "    qc.cx(first_qubit+1, first_qubit+8)\n",
    "    \n",
    "    # Measure first ancilla in X-basis\n",
    "    qc.h(first_qubit+7)\n",
    "    \n",
    "    qc.measure([first_qubit+7, first_qubit+8, first_qubit+9], c1)"
   ]
  },
  {
   "cell_type": "code",
   "execution_count": 184,
   "metadata": {},
   "outputs": [],
   "source": [
    "def unflag(qc: QuantumCircuit, first_qubit: int, c2: ClassicalRegister):\n",
    "    qc.h(first_qubit+7)\n",
    "    qc.h(first_qubit+11)\n",
    "    qc.h(first_qubit+12)\n",
    "    \n",
    "    qc.cx(first_qubit+7, first_qubit+3)\n",
    "    qc.cx(first_qubit+2, first_qubit+9)\n",
    "    qc.cx(first_qubit+5, first_qubit+8)\n",
    "    qc.cx(first_qubit+7, first_qubit)\n",
    "    qc.cx(first_qubit+3, first_qubit+9)\n",
    "    qc.cx(first_qubit+4, first_qubit+8)\n",
    "    qc.cx(first_qubit+7, first_qubit+1)\n",
    "    qc.cx(first_qubit+6, first_qubit+9)\n",
    "    qc.cx(first_qubit+2, first_qubit+8)\n",
    "    qc.cx(first_qubit+7, first_qubit+2)\n",
    "    qc.cx(first_qubit+5, first_qubit+9)\n",
    "    qc.cx(first_qubit+1, first_qubit+8)\n",
    "    \n",
    "    qc.cx(first_qubit+3, first_qubit+10)\n",
    "    qc.cx(first_qubit+12, first_qubit+2)\n",
    "    qc.cx(first_qubit+11, first_qubit+5)\n",
    "    qc.cx(first_qubit, first_qubit+10)\n",
    "    qc.cx(first_qubit+12, first_qubit+3)\n",
    "    qc.cx(first_qubit+11, first_qubit+4)\n",
    "    qc.cx(first_qubit+1, first_qubit+10)\n",
    "    qc.cx(first_qubit+12, first_qubit+6)\n",
    "    qc.cx(first_qubit+11, first_qubit+2)\n",
    "    qc.cx(first_qubit+2, first_qubit+10)\n",
    "    qc.cx(first_qubit+12, first_qubit+5)\n",
    "    qc.cx(first_qubit+11, first_qubit+1)\n",
    "    \n",
    "    \n",
    "    qc.h(first_qubit+7)\n",
    "    qc.h(first_qubit+11)\n",
    "    qc.h(first_qubit+12)\n",
    "    \n",
    "    qc.measure([first_qubit+7, first_qubit+8, first_qubit+9, first_qubit+10, first_qubit+11, first_qubit+12], c2)\n"
   ]
  },
  {
   "cell_type": "code",
   "execution_count": 185,
   "metadata": {},
   "outputs": [],
   "source": [
    "def flag2(qc: QuantumCircuit, first_qubit: int, c3: ClassicalRegister):\n",
    "    # Setting last two ancillas to |+>\n",
    "    qc.h(first_qubit+8)\n",
    "    qc.h(first_qubit+9)\n",
    "    \n",
    "    qc.cx(first_qubit+3, first_qubit+7)\n",
    "    qc.cx(first_qubit+9, first_qubit+2)\n",
    "    qc.cx(first_qubit+8, first_qubit+5)\n",
    "    qc.cx(first_qubit+8, first_qubit+7)\n",
    "    qc.cx(first_qubit, first_qubit+7)\n",
    "    qc.cx(first_qubit+9, first_qubit+3)\n",
    "    qc.cx(first_qubit+8, first_qubit+4)\n",
    "    qc.cx(first_qubit+1, first_qubit+7)\n",
    "    qc.cx(first_qubit+9, first_qubit+6)\n",
    "    qc.cx(first_qubit+8, first_qubit+2)\n",
    "    qc.cx(first_qubit+9, first_qubit+7)\n",
    "    qc.cx(first_qubit+2, first_qubit+7)\n",
    "    qc.cx(first_qubit+9, first_qubit+5)\n",
    "    qc.cx(first_qubit+8, first_qubit+1)\n",
    "    \n",
    "    # Measrue last two ancillas in the X-basis\n",
    "    qc.h(first_qubit+8)\n",
    "    qc.h(first_qubit+9)\n",
    "    \n",
    "    qc.measure([first_qubit+7, first_qubit+8, first_qubit+9], c3)"
   ]
  },
  {
   "attachments": {},
   "cell_type": "markdown",
   "metadata": {},
   "source": [
    "# Function for QEC"
   ]
  },
  {
   "cell_type": "code",
   "execution_count": 203,
   "metadata": {},
   "outputs": [],
   "source": [
    "def QEC(qc: QuantumCircuit, c1: ClassicalRegister, c2: ClassicalRegister, c3: ClassicalRegister):\n",
    "    # Measuring flag1 circuit\n",
    "    flag1(qc, 0, c1)\n",
    "    qc.reset([7,8,9])\n",
    "    \n",
    "    # Path 1, flag1 measures 000\n",
    "    path1 = QuantumCircuit(13)\n",
    "    path1.add_register(c1, c2, c3)\n",
    "    flag2(path1, 0, c3)\n",
    "    path1.reset([7,8,9])\n",
    "    # Path 2, flag1 measures anything but 000\n",
    "    path2 = QuantumCircuit(13)\n",
    "    path2.add_register(c1, c2, c3)\n",
    "    unflag(path2, 0, c2)\n",
    "    path2.reset([7,8,9,10,11,12])\n",
    "    \n",
    "    # Inside Path 1, Path 3: if flag2 measures 000\n",
    "    path3 = QuantumCircuit(13)\n",
    "    path3.add_register(c1, c2, c3)\n",
    "    path3.reset([7,8,9,10,11,12])\n",
    "    # Inside Path 1, Path 4: if flag2 measures anything but 000\n",
    "    path4 = QuantumCircuit(13)\n",
    "    path4.add_register(c1, c2, c3)\n",
    "    unflag(path4, 0, c2)\n",
    "    path4.reset([7,8,9,10,11,12])\n",
    "    \n",
    "    # Nested if\n",
    "    nested_if = IfElseOp((c3, 0), true_body=path3, false_body=path4)\n",
    "    # Add nested if to path1\n",
    "    path1.append(nested_if, list(range(13)), c1[:] + c2[:] + c3[:])\n",
    "    # First if\n",
    "    first_if = IfElseOp((c1, 0), true_body=path1, false_body=path2)\n",
    "    \n",
    "    qc.append(first_if, list(range(13)), c1[:] + c2[:] + c3[:])"
   ]
  },
  {
   "attachments": {},
   "cell_type": "markdown",
   "metadata": {},
   "source": [
    "# Encoding + 1 Round of EC "
   ]
  },
  {
   "cell_type": "code",
   "execution_count": 199,
   "metadata": {},
   "outputs": [
    {
     "data": {
      "text/plain": [
       "\"\\nnoise_model.add_all_qubit_quantum_error(depolarizing_error(0.005,1), ['id'])\\nnoise_model.add_all_qubit_quantum_error(depolarizing_error(0.005,1), ['h'])\\nnoise_model.add_all_qubit_quantum_error(depolarizing_error(0.05,2), ['cx'])\\n\\n# 5% chance of flipping 0 <-> 1\\nreadout_err = ReadoutError([[0.995, 0.005],  # P(measured 0 | actual 0), P(1 | 0)\\n                            [0.005, 0.995]]) # P(0 | 1), P(1 | 1)\\n\\n# Apply to all qubits being measured\\nnoise_model.add_readout_error(readout_err, [7]) \\nnoise_model.add_readout_error(readout_err, [8])\\nnoise_model.add_readout_error(readout_err, [9])\\nnoise_model.add_readout_error(readout_err, [10])\\nnoise_model.add_readout_error(readout_err, [11])\\nnoise_model.add_readout_error(readout_err, [12])\\n\""
      ]
     },
     "execution_count": 199,
     "metadata": {},
     "output_type": "execute_result"
    }
   ],
   "source": [
    "noise_model = NoiseModel()\n",
    "\"\"\"\n",
    "noise_model.add_all_qubit_quantum_error(depolarizing_error(0.005,1), ['id'])\n",
    "noise_model.add_all_qubit_quantum_error(depolarizing_error(0.005,1), ['h'])\n",
    "noise_model.add_all_qubit_quantum_error(depolarizing_error(0.05,2), ['cx'])\n",
    "\n",
    "# 5% chance of flipping 0 <-> 1\n",
    "readout_err = ReadoutError([[0.995, 0.005],  # P(measured 0 | actual 0), P(1 | 0)\n",
    "                            [0.005, 0.995]]) # P(0 | 1), P(1 | 1)\n",
    "\n",
    "# Apply to all qubits being measured\n",
    "noise_model.add_readout_error(readout_err, [7]) \n",
    "noise_model.add_readout_error(readout_err, [8])\n",
    "noise_model.add_readout_error(readout_err, [9])\n",
    "noise_model.add_readout_error(readout_err, [10])\n",
    "noise_model.add_readout_error(readout_err, [11])\n",
    "noise_model.add_readout_error(readout_err, [12])\n",
    "\"\"\""
   ]
  },
  {
   "cell_type": "code",
   "execution_count": 230,
   "metadata": {},
   "outputs": [
    {
     "name": "stdout",
     "output_type": "stream",
     "text": [
      "Result(backend_name='aer_simulator', backend_version='0.14.2', qobj_id='', job_id='890486a8-1a7e-4cda-9ffd-a34be7b8e6da', success=True, results=[ExperimentResult(shots=1, success=True, meas_level=2, data=ExperimentResultData(counts={'0x79': 1}, memory=['0x79'], statevector_post={'0x79': [Statevector([0.+0.j, 0.+0.j, 0.+0.j, ..., 0.+0.j, 0.+0.j, 0.+0.j],\n",
      "            dims=(2, 2, 2, 2, 2, 2, 2, 2, 2, 2, 2, 2, 2))]}), header=QobjExperimentHeader(creg_sizes=[['c1', 3], ['c2', 6], ['c3', 3]], global_phase=1.5707963267948966, memory_slots=12, n_qubits=13, name='circuit-1584', qreg_sizes=[['q', 13]], metadata={}), status=DONE, seed_simulator=1804674223, metadata={'num_bind_params': 1, 'runtime_parameter_bind': False, 'parallel_state_update': 12, 'parallel_shots': 1, 'noise': 'ideal', 'batched_shots_optimization': False, 'remapped_qubits': False, 'active_input_qubits': [0, 1, 2, 3, 4, 5, 6, 7, 8, 9, 10, 11, 12], 'device': 'CPU', 'time_taken': 0.009375412, 'measure_sampling': False, 'num_clbits': 12, 'max_memory_mb': 32768, 'input_qubit_map': [[12, 12], [11, 11], [10, 10], [9, 9], [8, 8], [7, 7], [6, 6], [5, 5], [4, 4], [3, 3], [2, 2], [1, 1], [0, 0]], 'num_qubits': 13, 'method': 'statevector', 'required_memory_mb': 1, 'result_types': {'statevector_post': 'save_statevector'}, 'result_subtypes': {'statevector_post': 'c_list'}, 'fusion': {'enabled': True, 'threshold': 14, 'applied': False, 'max_fused_qubits': 5}}, time_taken=0.009375412)], date=2025-07-09T18:07:47.189030, status=COMPLETED, header=None, metadata={'time_taken_parameter_binding': 4.6453e-05, 'max_memory_mb': 32768, 'time_taken_execute': 0.009494893, 'omp_enabled': True, 'max_gpu_memory_mb': 0, 'parallel_experiments': 1}, time_taken=0.022890090942382812)\n",
      "['000 001111 001']\n"
     ]
    }
   ],
   "source": [
    "qc = QuantumCircuit(13)\n",
    "# Classical Register for flag1 measurements\n",
    "c1 = ClassicalRegister(3, \"c1\")\n",
    "# Classical Register for unflag measurements \n",
    "c2 = ClassicalRegister(6, \"c2\")\n",
    "# Classical Register for flag2 measurements\n",
    "c3 = ClassicalRegister(3, \"c3\")\n",
    "qc.add_register(c1, c2, c3)\n",
    "\n",
    "encoding(qc)\n",
    "\n",
    "QEC(qc, c1, c2, c3)\n",
    "\n",
    "qc.save_statevector(label='statevector_post', pershot=True, conditional=True)\n",
    "\n",
    "backend = AerSimulator(noise_model=noise_model)\n",
    "transpiled = transpile(qc, backend, optimization_level=0)\n",
    "job = backend.run(transpiled, shots=1, memory=True)\n",
    "result = job.result()\n",
    "memory = result.get_memory()\n",
    "\n",
    "print(result)\n",
    "print(memory)"
   ]
  },
  {
   "cell_type": "code",
   "execution_count": 231,
   "metadata": {},
   "outputs": [
    {
     "name": "stdout",
     "output_type": "stream",
     "text": [
      "[{'0x79': Statevector([0.+0.j, 0.+0.j, 0.+0.j, ..., 0.+0.j, 0.+0.j, 0.+0.j],\n",
      "            dims=(2, 2, 2, 2, 2, 2, 2, 2, 2, 2, 2, 2, 2))}]\n"
     ]
    }
   ],
   "source": [
    "from collections import defaultdict\n",
    "\n",
    "hex_to_sv = []\n",
    "hex_mem = result.data()['memory']\n",
    "\n",
    "seen = defaultdict(int)\n",
    "for mem in hex_mem:\n",
    "    idx = seen[mem]\n",
    "    val = result.data()['statevector_post'][mem][idx]\n",
    "    hex_to_sv.append({mem:val})\n",
    "    seen[mem] += 1\n",
    "    \n",
    "print(hex_to_sv)"
   ]
  },
  {
   "cell_type": "code",
   "execution_count": 232,
   "metadata": {},
   "outputs": [
    {
     "name": "stdout",
     "output_type": "stream",
     "text": [
      "0x79\n",
      "Statevector([0.+0.j, 0.+0.j, 0.+0.j, ..., 0.+0.j, 0.+0.j, 0.+0.j],\n",
      "            dims=(2, 2, 2, 2, 2, 2, 2, 2, 2, 2, 2, 2, 2))\n"
     ]
    }
   ],
   "source": [
    "for i, dict in enumerate(hex_to_sv):\n",
    "    bitstr_13, sv13 = next(iter(dict.items()))\n",
    "    print(bitstr_13)\n",
    "    print(sv13)"
   ]
  },
  {
   "cell_type": "code",
   "execution_count": 233,
   "metadata": {},
   "outputs": [
    {
     "name": "stdout",
     "output_type": "stream",
     "text": [
      "[Statevector([0.+0.j, 0.+0.j, 0.+0.j, ..., 0.+0.j, 0.+0.j, 0.+0.j],\n",
      "            dims=(2, 2, 2, 2, 2, 2, 2, 2, 2, 2, 2, 2, 2))]\n"
     ]
    }
   ],
   "source": [
    "sv_correction = []\n",
    "for i, result in enumerate(hex_to_sv):\n",
    "    str13, sv13 = next(iter(result.items()))\n",
    "    cz, cx = lookup(memory[i])\n",
    "    cz = cz + \"I\"*6\n",
    "    cx = cx + \"I\"*6\n",
    "    Pauli_cz = Pauli(cz)\n",
    "    Pauli_cx = Pauli(cx)\n",
    "    U_cz = Operator(Pauli_cz)\n",
    "    U_cx = Operator(Pauli_cx)\n",
    "    sv13 = sv13.evolve(U_cz)\n",
    "    sv13 = sv13.evolve(U_cx)\n",
    "    sv_correction.append(sv13)\n",
    "print(sv_correction)"
   ]
  },
  {
   "cell_type": "code",
   "execution_count": 234,
   "metadata": {},
   "outputs": [
    {
     "data": {
      "text/latex": [
       "$$\n",
       "\n",
       "\\begin{bmatrix}\n",
       "0 & 0 & 0 & 0 & \\cdots & 0 & 0 & 0  \\\\\n",
       " 0 & 0 & 0 & 0 & \\cdots & 0 & 0 & 0  \\\\\n",
       " 0 & 0 & 0 & 0 & \\cdots & 0 & 0 & 0  \\\\\n",
       " 0 & 0 & 0 & 0 & \\cdots & 0 & 0 & 0  \\\\\n",
       " \\vdots & \\vdots & \\vdots & \\vdots & \\ddots & \\vdots & \\vdots & \\vdots \\\\\n",
       " 0 & 0 & 0 & 0 & \\cdots & 0 & 0 & 0  \\\\\n",
       " 0 & 0 & 0 & 0 & \\cdots & 0 & 0 & 0  \\\\\n",
       " 0 & 0 & 0 & 0 & \\cdots & 0 & 0 & 0  \\\\\n",
       " \\end{bmatrix}\n",
       "$$"
      ],
      "text/plain": [
       "<IPython.core.display.Latex object>"
      ]
     },
     "metadata": {},
     "output_type": "display_data"
    }
   ],
   "source": [
    "example = sv_correction[0]\n",
    "red_sv = partial_trace(example, [7, 8, 9, 10, 11, 12])\n",
    "display(red_sv.draw(\"latex\"))"
   ]
  },
  {
   "cell_type": "code",
   "execution_count": 229,
   "metadata": {},
   "outputs": [
    {
     "data": {
      "text/latex": [
       "$$\n",
       "\n",
       "\\begin{bmatrix}\n",
       "1 & 0 & 0 & 0 & \\cdots & 0 & 0 & 0  \\\\\n",
       " 0 & 0 & 0 & 0 & \\cdots & 0 & 0 & 0  \\\\\n",
       " 0 & 0 & 0 & 0 & \\cdots & 0 & 0 & 0  \\\\\n",
       " 0 & 0 & 0 & 0 & \\cdots & 0 & 0 & 0  \\\\\n",
       " \\vdots & \\vdots & \\vdots & \\vdots & \\ddots & \\vdots & \\vdots & \\vdots \\\\\n",
       " 0 & 0 & 0 & 0 & \\cdots & 0 & 0 & 0  \\\\\n",
       " 0 & 0 & 0 & 0 & \\cdots & 0 & 0 & 0  \\\\\n",
       " 0 & 0 & 0 & 0 & \\cdots & 0 & 0 & 0  \\\\\n",
       " \\end{bmatrix}\n",
       "$$"
      ],
      "text/plain": [
       "<IPython.core.display.Latex object>"
      ]
     },
     "metadata": {},
     "output_type": "display_data"
    }
   ],
   "source": [
    "test = QuantumCircuit(7)\n",
    "encoding(test)\n",
    "test = DensityMatrix(test)\n",
    "display(test.draw(\"latex\"))"
   ]
  },
  {
   "cell_type": "code",
   "execution_count": 227,
   "metadata": {},
   "outputs": [
    {
     "data": {
      "text/plain": [
       "array([[ True,  True,  True, ...,  True,  True,  True],\n",
       "       [ True,  True,  True, ...,  True,  True,  True],\n",
       "       [ True,  True,  True, ...,  True,  True,  True],\n",
       "       ...,\n",
       "       [ True,  True,  True, ...,  True,  True,  True],\n",
       "       [ True,  True,  True, ...,  True,  True,  True],\n",
       "       [ True,  True,  True, ...,  True,  True, False]])"
      ]
     },
     "execution_count": 227,
     "metadata": {},
     "output_type": "execute_result"
    }
   ],
   "source": [
    "np.isclose(red_sv, test)"
   ]
  },
  {
   "cell_type": "code",
   "execution_count": null,
   "metadata": {},
   "outputs": [
    {
     "name": "stdout",
     "output_type": "stream",
     "text": [
      "False\n"
     ]
    }
   ],
   "source": [
    "print(red_sv == test)"
   ]
  },
  {
   "cell_type": "code",
   "execution_count": 235,
   "metadata": {},
   "outputs": [
    {
     "data": {
      "text/plain": [
       "<matplotlib.image.AxesImage at 0x138de54c0>"
      ]
     },
     "execution_count": 235,
     "metadata": {},
     "output_type": "execute_result"
    },
    {
     "data": {
      "image/png": "[encoded data removed]",
      "text/plain": [
       "<Figure size 480x480 with 1 Axes>"
      ]
     },
     "metadata": {},
     "output_type": "display_data"
    },
    {
     "data": {
      "image/png": "[encoded data removed]",
      "text/plain": [
       "<Figure size 480x480 with 1 Axes>"
      ]
     },
     "metadata": {},
     "output_type": "display_data"
    }
   ],
   "source": [
    "plt.matshow(test.data.real)\n",
    "plt.matshow(red_sv.data.real)"
   ]
  },
  {
   "cell_type": "code",
   "execution_count": null,
   "metadata": {},
   "outputs": [],
   "source": []
  }
 ],
 "metadata": {
  "kernelspec": {
   "display_name": "Python (algos)",
   "language": "python",
   "name": "my-env"
  },
  "language_info": {
   "codemirror_mode": {
    "name": "ipython",
    "version": 3
   },
   "file_extension": ".py",
   "mimetype": "text/x-python",
   "name": "python",
   "nbconvert_exporter": "python",
   "pygments_lexer": "ipython3",
   "version": "3.12.4"
  },
  "orig_nbformat": 4
 },
 "nbformat": 4,
 "nbformat_minor": 2
}
