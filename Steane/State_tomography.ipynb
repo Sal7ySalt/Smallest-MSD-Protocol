{
 "cells": [
  {
   "cell_type": "markdown",
   "id": "ab7e6e6f",
   "metadata": {},
   "source": [
    "# State Tomography of Steane"
   ]
  },
  {
   "cell_type": "code",
   "execution_count": 1,
   "id": "05b390d7",
   "metadata": {},
   "outputs": [],
   "source": [
    "from qiskit import QuantumCircuit\n",
    "import numpy as np\n",
    "from qiskit_aer import AerSimulator\n",
    "from qiskit_aer.noise import NoiseModel, depolarizing_error, ReadoutError\n",
    "from qiskit.visualization import plot_histogram \n",
    "import typing\n",
    "from qiskit import QuantumCircuit, QuantumRegister, ClassicalRegister\n",
    "\n",
    "from qiskit_aer import Aer\n",
    "from qiskit import transpile\n",
    "from qiskit_aer.primitives import Sampler\n",
    "# from qiskit.primitives.backend_sampler import BackendSampler\n",
    "from qiskit.quantum_info import Statevector\n",
    "from qiskit.circuit import Instruction\n",
    "from matplotlib import pyplot as plt\n",
    "from qiskit.quantum_info import state_fidelity"
   ]
  },
  {
   "cell_type": "code",
   "execution_count": 2,
   "id": "e436e4be",
   "metadata": {},
   "outputs": [],
   "source": [
    "import steane_encoding_module as sem"
   ]
  },
  {
   "cell_type": "code",
   "execution_count": 3,
   "id": "6bf4b015",
   "metadata": {},
   "outputs": [],
   "source": [
    "import steane_functions as sf"
   ]
  },
  {
   "cell_type": "markdown",
   "id": "17f2c4d2",
   "metadata": {},
   "source": [
    "## Theta state"
   ]
  },
  {
   "cell_type": "code",
   "execution_count": 4,
   "id": "e21c2703",
   "metadata": {},
   "outputs": [],
   "source": [
    "theta = np.arctan(np.sqrt((np.sqrt(5) - 1) / 2))\n",
    "amp_0_theta = np.cos(theta/2)\n",
    "amp_1_theta = np.sin(theta/2)"
   ]
  },
  {
   "cell_type": "markdown",
   "id": "3a03e3f1",
   "metadata": {},
   "source": [
    "get the steane encoding circuit"
   ]
  },
  {
   "cell_type": "code",
   "execution_count": 5,
   "id": "a3e9ea2a",
   "metadata": {},
   "outputs": [],
   "source": [
    "circ_ideal = sf.steane_enc_7(amp_0_theta, amp_1_theta, is_clbits=False)\n",
    "circ_noise = sf.steane_enc_7(amp_0_theta, amp_1_theta, is_clbits=False)"
   ]
  },
  {
   "cell_type": "code",
   "execution_count": null,
   "id": "42f88941",
   "metadata": {},
   "outputs": [],
   "source": []
  },
  {
   "cell_type": "markdown",
   "id": "5240aa1d",
   "metadata": {},
   "source": [
    "## Z measurements"
   ]
  },
  {
   "cell_type": "code",
   "execution_count": 22,
   "id": "53dbfa03",
   "metadata": {},
   "outputs": [],
   "source": [
    "def z_basis(qc, num_qubits):\n",
    "    qc.save_density_matrix(qubits=range(num_qubits), label=\"rho\")\n",
    "    return qc"
   ]
  },
  {
   "cell_type": "markdown",
   "id": "f67a92ce",
   "metadata": {},
   "source": [
    "## Y measurements"
   ]
  },
  {
   "cell_type": "code",
   "execution_count": 23,
   "id": "acb60903",
   "metadata": {},
   "outputs": [],
   "source": [
    "def y_basis(qc, num_qubits):\n",
    "    for qb in range(num_qubits):\n",
    "        qc.sdg(qb)\n",
    "        qc.h(qb)\n",
    "    qc.save_density_matrix(qubits=range(num_qubits), label=\"rho\")\n",
    "    return qc"
   ]
  },
  {
   "cell_type": "markdown",
   "id": "36c7bf14",
   "metadata": {},
   "source": [
    "## X measurements"
   ]
  },
  {
   "cell_type": "markdown",
   "id": "705bbb17",
   "metadata": {},
   "source": []
  },
  {
   "cell_type": "code",
   "execution_count": 24,
   "id": "6e6e4813",
   "metadata": {},
   "outputs": [],
   "source": [
    "def x_basis(qc, num_qubits):\n",
    "    for qb in range(num_qubits):\n",
    "        qc.h(qb)\n",
    "    qc.save_density_matrix(qubits=range(num_qubits), label=\"rho\")\n",
    "    return qc"
   ]
  },
  {
   "cell_type": "markdown",
   "id": "cf76a51b",
   "metadata": {},
   "source": [
    "# State tomography"
   ]
  },
  {
   "cell_type": "code",
   "execution_count": 25,
   "id": "12010b6f",
   "metadata": {},
   "outputs": [],
   "source": [
    "from qiskit.quantum_info import DensityMatrix"
   ]
  },
  {
   "cell_type": "code",
   "execution_count": 26,
   "id": "355053bd",
   "metadata": {},
   "outputs": [],
   "source": [
    "def qst_create_id_block(num: int, is_clbits: bool):\n",
    "\n",
    "    if (is_clbits == 1):\n",
    "        id_block = QuantumCircuit(num, num, name = \"id_block\")\n",
    "    else:\n",
    "        id_block = QuantumCircuit(num, name = \"id_block\")\n",
    "    \n",
    "\n",
    "    for i in range(0, num):\n",
    "        id_block.id(i)\n",
    "\n",
    "    id_block_instr = id_block.to_instruction()\n",
    "    return id_block_instr"
   ]
  },
  {
   "cell_type": "code",
   "execution_count": 27,
   "id": "d1b26f3e",
   "metadata": {},
   "outputs": [],
   "source": [
    "def qst_prepare_state(qc_prep: QuantumCircuit, encode_block: Instruction, log_block: Instruction, num: int, is_clbits: bool):\n",
    "\n",
    "        qc_prep.append(qst_create_id_block(num, is_clbits), range(0,num))\n",
    "        qc_prep.append(encode_block, range(0,num))\n",
    "        qc_prep.append(qst_create_id_block(num, is_clbits), range(0,num))\n",
    "        qc_prep.append(log_block,range(0,num))\n",
    "        qc_prep.draw('mpl')"
   ]
  },
  {
   "cell_type": "markdown",
   "id": "a2662e7c",
   "metadata": {},
   "source": [
    "## Z basis"
   ]
  },
  {
   "cell_type": "code",
   "execution_count": null,
   "id": "5b8c6a9f",
   "metadata": {},
   "outputs": [
    {
     "name": "stdout",
     "output_type": "stream",
     "text": [
      "0\n",
      "DensityMatrix([[0.10112712+0.j, 0.        +0.j, 0.        +0.j, ...,\n",
      "                0.        +0.j, 0.        +0.j, 0.04913446+0.j],\n",
      "               [0.        +0.j, 0.        +0.j, 0.        +0.j, ...,\n",
      "                0.        +0.j, 0.        +0.j, 0.        +0.j],\n",
      "               [0.        +0.j, 0.        +0.j, 0.        +0.j, ...,\n",
      "                0.        +0.j, 0.        +0.j, 0.        +0.j],\n",
      "               ...,\n",
      "               [0.        +0.j, 0.        +0.j, 0.        +0.j, ...,\n",
      "                0.        +0.j, 0.        +0.j, 0.        +0.j],\n",
      "               [0.        +0.j, 0.        +0.j, 0.        +0.j, ...,\n",
      "                0.        +0.j, 0.        +0.j, 0.        +0.j],\n",
      "               [0.04913446+0.j, 0.        +0.j, 0.        +0.j, ...,\n",
      "                0.        +0.j, 0.        +0.j, 0.02387288+0.j]],\n",
      "              dims=(2, 2, 2, 2, 2, 2, 2))\n",
      "[[ 1.01127124e-01-2.22908554e-35j -5.58779419e-34+6.19225045e-18j\n",
      "  -5.50411146e-34+6.19225045e-18j ... -1.13696171e-33+3.00861803e-18j\n",
      "  -1.13884398e-33+3.00861803e-18j  4.91344611e-02+5.69579303e-35j]\n",
      " [-5.70816481e-34-6.19225045e-18j  1.33786671e-35-1.18695319e-34j\n",
      "  -3.26648185e-51+7.69383386e-36j ...  1.72287886e-51-3.76754970e-37j\n",
      "  -5.07456006e-36-4.25064725e-35j -2.87547887e-34-3.00861803e-18j]\n",
      " [-5.62448209e-34-6.19225045e-18j  4.08569625e-52-9.46211944e-35j\n",
      "   1.33786671e-35-1.63802904e-35j ... -5.07456006e-36-3.76754970e-37j\n",
      "  -4.29084174e-51-4.25064725e-35j -2.56686212e-34-3.00861803e-18j]\n",
      " ...\n",
      " [-1.13733787e-33-3.00861803e-18j  2.39107004e-51-4.25064725e-35j\n",
      "  -5.07456006e-36-3.76754970e-37j ... -1.34160497e-36+1.42679087e-35j\n",
      "   1.93009950e-51-1.58247467e-35j -5.56429677e-34-1.46179204e-18j]\n",
      " [-1.13809166e-33-3.00861803e-18j -5.07456006e-36-4.25064725e-35j\n",
      "  -6.29541527e-51-3.76754970e-37j ...  1.59600391e-51-9.80621562e-36j\n",
      "   4.67692611e-36+8.24937761e-36j -5.46742357e-34-1.46179204e-18j]\n",
      " [ 4.91344611e-02+3.30696684e-34j -2.87547887e-34+3.00861803e-18j\n",
      "  -2.80760337e-34+3.00861803e-18j ... -5.44392615e-34+1.46179204e-18j\n",
      "  -5.58779419e-34+1.46179204e-18j  2.38728757e-02+5.93098225e-35j]]\n"
     ]
    }
   ],
   "source": [
    "qc = QuantumCircuit(7)\n",
    "z_intr_ideal = circ_ideal.to_instruction()\n",
    "num = 7\n",
    "shots = 10\n",
    "print(z_intr_ideal._num_clbits)\n",
    "qst_prepare_state(qc, z_intr_ideal, qst_create_id_block(7,is_clbits=False), 7, is_clbits=False)\n",
    "\n",
    "z_dm = DensityMatrix.from_instruction(qc)\n",
    "print(z_dm)\n",
    "\n",
    "\n",
    "\n",
    "z_basis(qc, 7)\n",
    "\n",
    "# print(qc)\n",
    "\n",
    "\n",
    "simulator = AerSimulator(method='density_matrix')\n",
    "#simulator = Aer.get_backend('density_matrix')\n",
    "\n",
    "steane_t = transpile(qc, simulator)\n",
    "\n",
    "# #print(steane_t)\n",
    "# st_dm = DensityMatrix.from_instruction(steane_t)\n",
    "\n",
    "# print(st_dm)\n",
    "\n",
    "job = simulator.run(steane_t, shots=1)\n",
    "\n",
    "result = job.result().data()\n",
    "\n",
    "# dm = result.get('density_matrix')\n",
    "\n",
    "print(np.array(result['rho']))\n",
    "\n",
    "\n",
    "\n",
    "\n",
    "# print(st_dm)\n",
    "# print(dm)\n",
    "# counts = result.get_counts()\n",
    "# state_ideal = result.get_statevector()\n",
    "# sv_ideal = Statevector(state_ideal)"
   ]
  },
  {
   "cell_type": "code",
   "execution_count": 39,
   "id": "b9af6873",
   "metadata": {},
   "outputs": [
    {
     "name": "stdout",
     "output_type": "stream",
     "text": [
      "DensityMatrix([[0.10112712+0.j, 0.        +0.j, 0.        +0.j, ...,\n",
      "                0.        +0.j, 0.        +0.j, 0.04913446+0.j],\n",
      "               [0.        +0.j, 0.        +0.j, 0.        +0.j, ...,\n",
      "                0.        +0.j, 0.        +0.j, 0.        +0.j],\n",
      "               [0.        +0.j, 0.        +0.j, 0.        +0.j, ...,\n",
      "                0.        +0.j, 0.        +0.j, 0.        +0.j],\n",
      "               ...,\n",
      "               [0.        +0.j, 0.        +0.j, 0.        +0.j, ...,\n",
      "                0.        +0.j, 0.        +0.j, 0.        +0.j],\n",
      "               [0.        +0.j, 0.        +0.j, 0.        +0.j, ...,\n",
      "                0.        +0.j, 0.        +0.j, 0.        +0.j],\n",
      "               [0.04913446+0.j, 0.        +0.j, 0.        +0.j, ...,\n",
      "                0.        +0.j, 0.        +0.j, 0.02387288+0.j]],\n",
      "              dims=(2, 2, 2, 2, 2, 2, 2))\n",
      "[[ 4.40584525e-02+2.49083622e-19j -1.83715717e-19-7.12268189e-36j\n",
      "  -3.26916451e-19-6.39965907e-36j ... -1.75216346e-19+2.68083900e-36j\n",
      "  -5.33945727e-19+4.39172620e-36j  1.21161397e-02-1.65298234e-19j]\n",
      " [-2.54519214e-19+7.12268189e-36j  2.91589901e-03-2.49083622e-19j\n",
      "  -1.30307393e-19-5.30309105e-52j ... -2.29669835e-19-1.42230545e-35j\n",
      "   1.22987827e-08+1.65298234e-19j  3.07402155e-19-4.39172620e-36j]\n",
      " [-1.17936275e-19-6.39965907e-36j -1.13737060e-19+6.05782944e-52j\n",
      "   7.84368256e-03+1.10945957e-19j ...  1.21767173e-04-5.50994114e-20j\n",
      "  -3.32003084e-19-2.86178158e-36j -1.46640550e-19+4.18207516e-36j]\n",
      " ...\n",
      " [-1.46579880e-19-2.68083900e-36j -2.03893198e-19-2.83316377e-36j\n",
      "   1.21767173e-04+5.50994114e-20j ...  3.68190819e-03-1.10945957e-19j\n",
      "  -1.49214666e-19-8.90847623e-36j  3.24907558e-19+6.39965907e-36j]\n",
      " [ 2.16396435e-19+4.39172620e-36j  1.22987827e-08-1.65298234e-19j\n",
      "  -1.78374328e-19+8.52810912e-36j ... -1.76045986e-19-1.19320388e-37j\n",
      "   1.99318257e-03+2.49083622e-19j  1.68632352e-19-4.20279455e-36j]\n",
      " [ 1.21161397e-02+1.65298234e-19j -3.39800191e-19-4.39172620e-36j\n",
      "  -2.90429588e-19-4.18207516e-36j ...  3.86052805e-19+6.39965907e-36j\n",
      "  -1.84808037e-19+4.20279455e-36j  1.67714174e-02-2.49083622e-19j]]\n"
     ]
    }
   ],
   "source": [
    "qc = QuantumCircuit(7)\n",
    "z_intr_noise = circ_noise.to_instruction()\n",
    "err_list_size = 6\n",
    "error_list = np.logspace((-3), (-2), err_list_size)\n",
    "factor = 10\n",
    "\n",
    "qst_prepare_state(qc, z_intr_noise, qst_create_id_block(7,is_clbits=False), 7, is_clbits=False)\n",
    "\n",
    "noise_list = []\n",
    "for error in error_list:\n",
    "        # readout_err = ReadoutError([[0.98, 0.02],  # P(measured 0 | actual 0), P(1 | 0)\n",
    "        #                             [0.02, 0.98]]) # P(0 | 1), P(1 | 1)\n",
    "\n",
    "        noise_model = NoiseModel()\n",
    "\n",
    "        error2 = error*factor\n",
    "\n",
    "        noise_model.add_all_qubit_quantum_error(depolarizing_error(error,1), ['id'])\n",
    "        noise_model.add_all_qubit_quantum_error(depolarizing_error(error,1), ['h'])\n",
    "        noise_model.add_all_qubit_quantum_error(depolarizing_error(error2,2),['cz'])\n",
    "        noise_model.add_all_qubit_quantum_error(depolarizing_error(error2,2),['cx'])\n",
    "\n",
    "        readout_err = ReadoutError([[1-error2, error2],  # P(measured 0 | actual 0), P(1 | 0)\n",
    "                                [error2, 1-error2]]) # P(0 | 1), P(1 | 1)\n",
    "        \n",
    "        for i in range(0,7):\n",
    "            noise_model.add_readout_error(readout_err, [i])\n",
    "        \n",
    "        noise_list.append(noise_model)\n",
    "\n",
    "z_dm = DensityMatrix.from_instruction(qc)\n",
    "print(z_dm)\n",
    "\n",
    "\n",
    "z_basis(qc, 7)\n",
    "\n",
    "\n",
    "simulator = AerSimulator(method='density_matrix', noise_model=noise_list[5])\n",
    "#simulator = Aer.get_backend('density_matrix')\n",
    "\n",
    "steane_t = transpile(qc, simulator)\n",
    "\n",
    "# #print(steane_t)\n",
    "# st_dm = DensityMatrix.from_instruction(steane_t)\n",
    "\n",
    "\n",
    "# # print(z_dm)\n",
    "# print(st_dm)\n",
    "\n",
    "\n",
    "\n",
    "steane_t = transpile(qc, simulator)\n",
    "job = simulator.run(steane_t, shots=1)\n",
    "result = job.result().data()\n",
    "\n",
    "\n",
    "\n",
    "# dm = result.get('density_matrix')\n",
    "\n",
    "\n",
    "print(np.array(result['rho']))\n"
   ]
  },
  {
   "cell_type": "code",
   "execution_count": 19,
   "id": "950237d6",
   "metadata": {},
   "outputs": [
    {
     "data": {
      "text/plain": [
       "<NoiseModel on ['h', 'cz', 'cx', 'id', 'measure']>"
      ]
     },
     "execution_count": 19,
     "metadata": {},
     "output_type": "execute_result"
    }
   ],
   "source": [
    "noise_list[1]"
   ]
  },
  {
   "cell_type": "markdown",
   "id": "c4ee73eb",
   "metadata": {},
   "source": [
    "## X basis"
   ]
  },
  {
   "cell_type": "code",
   "execution_count": 40,
   "id": "333d5995",
   "metadata": {},
   "outputs": [
    {
     "name": "stdout",
     "output_type": "stream",
     "text": [
      "DensityMatrix([[0.10112712+0.j, 0.        +0.j, 0.        +0.j, ...,\n",
      "                0.        +0.j, 0.        +0.j, 0.04913446+0.j],\n",
      "               [0.        +0.j, 0.        +0.j, 0.        +0.j, ...,\n",
      "                0.        +0.j, 0.        +0.j, 0.        +0.j],\n",
      "               [0.        +0.j, 0.        +0.j, 0.        +0.j, ...,\n",
      "                0.        +0.j, 0.        +0.j, 0.        +0.j],\n",
      "               ...,\n",
      "               [0.        +0.j, 0.        +0.j, 0.        +0.j, ...,\n",
      "                0.        +0.j, 0.        +0.j, 0.        +0.j],\n",
      "               [0.        +0.j, 0.        +0.j, 0.        +0.j, ...,\n",
      "                0.        +0.j, 0.        +0.j, 0.        +0.j],\n",
      "               [0.04913446+0.j, 0.        +0.j, 0.        +0.j, ...,\n",
      "                0.        +0.j, 0.        +0.j, 0.02387288+0.j]],\n",
      "              dims=(2, 2, 2, 2, 2, 2, 2))\n",
      "[[0.11163446+0.j 0.        +0.j 0.        +0.j ... 0.        +0.j\n",
      "  0.        +0.j 0.03862712+0.j]\n",
      " [0.        +0.j 0.        +0.j 0.        +0.j ... 0.        +0.j\n",
      "  0.        +0.j 0.        +0.j]\n",
      " [0.        +0.j 0.        +0.j 0.        +0.j ... 0.        +0.j\n",
      "  0.        +0.j 0.        +0.j]\n",
      " ...\n",
      " [0.        +0.j 0.        +0.j 0.        +0.j ... 0.        +0.j\n",
      "  0.        +0.j 0.        +0.j]\n",
      " [0.        +0.j 0.        +0.j 0.        +0.j ... 0.        +0.j\n",
      "  0.        +0.j 0.        +0.j]\n",
      " [0.03862712+0.j 0.        +0.j 0.        +0.j ... 0.        +0.j\n",
      "  0.        +0.j 0.01336554+0.j]]\n"
     ]
    }
   ],
   "source": [
    "qc = QuantumCircuit(7)\n",
    "x_intr_ideal = circ_ideal.to_instruction()\n",
    "num = 7\n",
    "shots = 10\n",
    "\n",
    "qst_prepare_state(qc, x_intr_ideal, qst_create_id_block(7,is_clbits=False), 7, is_clbits=False)\n",
    "\n",
    "x_dm = DensityMatrix.from_instruction(qc)\n",
    "print(x_dm)\n",
    "\n",
    "\n",
    "x_basis(qc, 7)\n",
    "\n",
    "\n",
    "simulator = AerSimulator(method='density_matrix')\n",
    "steane_t = transpile(qc, simulator)\n",
    "job = simulator.run(steane_t, shots=1)\n",
    "result = job.result().data()\n",
    "\n",
    "\n",
    "print(np.array(result['rho']))\n",
    "x_dm = np.array(result['rho'])\n"
   ]
  },
  {
   "cell_type": "code",
   "execution_count": 44,
   "id": "97276974",
   "metadata": {},
   "outputs": [
    {
     "name": "stdout",
     "output_type": "stream",
     "text": [
      "DensityMatrix([[0.10112712+0.j, 0.        +0.j, 0.        +0.j, ...,\n",
      "                0.        +0.j, 0.        +0.j, 0.04913446+0.j],\n",
      "               [0.        +0.j, 0.        +0.j, 0.        +0.j, ...,\n",
      "                0.        +0.j, 0.        +0.j, 0.        +0.j],\n",
      "               [0.        +0.j, 0.        +0.j, 0.        +0.j, ...,\n",
      "                0.        +0.j, 0.        +0.j, 0.        +0.j],\n",
      "               ...,\n",
      "               [0.        +0.j, 0.        +0.j, 0.        +0.j, ...,\n",
      "                0.        +0.j, 0.        +0.j, 0.        +0.j],\n",
      "               [0.        +0.j, 0.        +0.j, 0.        +0.j, ...,\n",
      "                0.        +0.j, 0.        +0.j, 0.        +0.j],\n",
      "               [0.04913446+0.j, 0.        +0.j, 0.        +0.j, ...,\n",
      "                0.        +0.j, 0.        +0.j, 0.02387288+0.j]],\n",
      "              dims=(2, 2, 2, 2, 2, 2, 2))\n",
      "[[0.05307356+0.j 0.        +0.j 0.        +0.j ... 0.        +0.j\n",
      "  0.        +0.j 0.01141225+0.j]\n",
      " [0.        +0.j 0.00802576+0.j 0.        +0.j ... 0.        +0.j\n",
      "  0.        +0.j 0.        +0.j]\n",
      " [0.        +0.j 0.        +0.j 0.00259391+0.j ... 0.        +0.j\n",
      "  0.        +0.j 0.        +0.j]\n",
      " ...\n",
      " [0.        +0.j 0.        +0.j 0.        +0.j ... 0.00458533+0.j\n",
      "  0.        +0.j 0.        +0.j]\n",
      " [0.        +0.j 0.        +0.j 0.        +0.j ... 0.        +0.j\n",
      "  0.00199337+0.j 0.        +0.j]\n",
      " [0.01141225+0.j 0.        +0.j 0.        +0.j ... 0.        +0.j\n",
      "  0.        +0.j 0.00866308+0.j]]\n"
     ]
    }
   ],
   "source": [
    "qc = QuantumCircuit(7)\n",
    "x_intr_noise = circ_noise.to_instruction()\n",
    "err_list_size = 6\n",
    "error_list = np.logspace((-3), (-2), err_list_size)\n",
    "factor = 10\n",
    "\n",
    "qst_prepare_state(qc, x_intr_noise, qst_create_id_block(7,is_clbits=False), 7, is_clbits=False)\n",
    "\n",
    "noise_list = []\n",
    "for error in error_list:\n",
    "        # readout_err = ReadoutError([[0.98, 0.02],  # P(measured 0 | actual 0), P(1 | 0)\n",
    "        #                             [0.02, 0.98]]) # P(0 | 1), P(1 | 1)\n",
    "\n",
    "        noise_model = NoiseModel()\n",
    "\n",
    "        error2 = error*factor\n",
    "\n",
    "        noise_model.add_all_qubit_quantum_error(depolarizing_error(error,1), ['id'])\n",
    "        noise_model.add_all_qubit_quantum_error(depolarizing_error(error,1), ['h'])\n",
    "        noise_model.add_all_qubit_quantum_error(depolarizing_error(error2,2),['cz'])\n",
    "        noise_model.add_all_qubit_quantum_error(depolarizing_error(error2,2),['cx'])\n",
    "\n",
    "        readout_err = ReadoutError([[1-error2, error2],  # P(measured 0 | actual 0), P(1 | 0)\n",
    "                                [error2, 1-error2]]) # P(0 | 1), P(1 | 1)\n",
    "        \n",
    "        for i in range(0,7):\n",
    "            noise_model.add_readout_error(readout_err, [i])\n",
    "        \n",
    "        noise_list.append(noise_model)\n",
    "\n",
    "x_dm = DensityMatrix.from_instruction(qc)\n",
    "print(x_dm)\n",
    "\n",
    "x_basis(qc, 7)\n",
    "\n",
    "\n",
    "simulator = AerSimulator(method='density_matrix', noise_model=noise_list[5])\n",
    "steane_t = transpile(qc, simulator)\n",
    "\n",
    "\n",
    "job = simulator.run(steane_t, shots=1)\n",
    "result = job.result().data()\n",
    "\n",
    "\n",
    "\n",
    "print(np.array(result['rho']))\n",
    "x_dm = np.array(result['rho'])\n"
   ]
  },
  {
   "cell_type": "markdown",
   "id": "7d894271",
   "metadata": {},
   "source": [
    "## Y basis"
   ]
  },
  {
   "cell_type": "code",
   "execution_count": 43,
   "id": "95b14514",
   "metadata": {},
   "outputs": [
    {
     "name": "stdout",
     "output_type": "stream",
     "text": [
      "DensityMatrix([[0.10112712+0.j, 0.        +0.j, 0.        +0.j, ...,\n",
      "                0.        +0.j, 0.        +0.j, 0.04913446+0.j],\n",
      "               [0.        +0.j, 0.        +0.j, 0.        +0.j, ...,\n",
      "                0.        +0.j, 0.        +0.j, 0.        +0.j],\n",
      "               [0.        +0.j, 0.        +0.j, 0.        +0.j, ...,\n",
      "                0.        +0.j, 0.        +0.j, 0.        +0.j],\n",
      "               ...,\n",
      "               [0.        +0.j, 0.        +0.j, 0.        +0.j, ...,\n",
      "                0.        +0.j, 0.        +0.j, 0.        +0.j],\n",
      "               [0.        +0.j, 0.        +0.j, 0.        +0.j, ...,\n",
      "                0.        +0.j, 0.        +0.j, 0.        +0.j],\n",
      "               [0.04913446+0.j, 0.        +0.j, 0.        +0.j, ...,\n",
      "                0.        +0.j, 0.        +0.j, 0.02387288+0.j]],\n",
      "              dims=(2, 2, 2, 2, 2, 2, 2))\n",
      "[[ 6.25000000e-02+1.30061031e-34j  1.91351062e-18+1.79056418e-34j\n",
      "   1.91351062e-18+1.61944795e-34j ... -1.18261460e-18-1.50430901e-18j\n",
      "  -1.18261460e-18-1.50430901e-18j  3.86271243e-02+4.91344611e-02j]\n",
      " [ 1.91351062e-18-1.79056418e-34j -6.01853108e-36+2.17593164e-35j\n",
      "  -1.67047794e-51-9.85526664e-36j ... -9.02779661e-36+3.61111865e-35j\n",
      "  -4.94898536e-35+3.54175390e-35j  1.18261460e-18+1.50430901e-18j]\n",
      " [ 1.91351062e-18-2.10093044e-34j -5.67962501e-51-2.56193210e-35j\n",
      "   3.10040706e-49-5.32407348e-36j ...  5.48245986e-35+8.20898738e-36j\n",
      "   4.21297175e-35+2.40741243e-35j  1.18261460e-18+1.50430901e-18j]\n",
      " ...\n",
      " [-1.18261460e-18+1.50430901e-18j  9.02779661e-36-2.40741243e-35j\n",
      "   6.38523952e-35+3.82807477e-36j ...  3.10374802e-49-5.32407348e-36j\n",
      "  -5.01143383e-51+1.72281232e-35j -1.91351062e-18+7.87964477e-35j]\n",
      " [-1.18261460e-18+1.50430901e-18j -8.56010400e-35-8.35657876e-35j\n",
      "   3.00926554e-36-2.40741243e-35j ... -1.50463277e-36-2.26100555e-35j\n",
      "   3.06031559e-49+2.17593164e-35j -1.91351062e-18+9.59080699e-35j]\n",
      " [ 3.86271243e-02-4.91344611e-02j  1.18261460e-18-1.50430901e-18j\n",
      "   1.18261460e-18-1.50430901e-18j ... -1.91351062e-18-2.71389442e-34j\n",
      "  -1.91351062e-18+3.88427271e-37j  6.25000000e-02+1.07328512e-34j]]\n"
     ]
    }
   ],
   "source": [
    "qc = QuantumCircuit(7)\n",
    "y_intr_ideal = circ_ideal.to_instruction()\n",
    "num = 7\n",
    "shots = 10\n",
    "\n",
    "qst_prepare_state(qc, y_intr_ideal, qst_create_id_block(7,is_clbits=False), 7, is_clbits=False)\n",
    "\n",
    "y_dm = DensityMatrix.from_instruction(qc)\n",
    "print(y_dm)\n",
    "\n",
    "\n",
    "y_basis(qc, 7)\n",
    "\n",
    "\n",
    "simulator = AerSimulator(method='density_matrix')\n",
    "steane_t = transpile(qc, simulator)\n",
    "job = simulator.run(steane_t, shots=1)\n",
    "result = job.result().data()\n",
    "\n",
    "\n",
    "print(np.array(result['rho']))\n",
    "x_dm = np.array(result['rho'])"
   ]
  },
  {
   "cell_type": "code",
   "execution_count": 45,
   "id": "72e82b7f",
   "metadata": {},
   "outputs": [
    {
     "name": "stdout",
     "output_type": "stream",
     "text": [
      "DensityMatrix([[0.10112712+0.j, 0.        +0.j, 0.        +0.j, ...,\n",
      "                0.        +0.j, 0.        +0.j, 0.04913446+0.j],\n",
      "               [0.        +0.j, 0.        +0.j, 0.        +0.j, ...,\n",
      "                0.        +0.j, 0.        +0.j, 0.        +0.j],\n",
      "               [0.        +0.j, 0.        +0.j, 0.        +0.j, ...,\n",
      "                0.        +0.j, 0.        +0.j, 0.        +0.j],\n",
      "               ...,\n",
      "               [0.        +0.j, 0.        +0.j, 0.        +0.j, ...,\n",
      "                0.        +0.j, 0.        +0.j, 0.        +0.j],\n",
      "               [0.        +0.j, 0.        +0.j, 0.        +0.j, ...,\n",
      "                0.        +0.j, 0.        +0.j, 0.        +0.j],\n",
      "               [0.04913446+0.j, 0.        +0.j, 0.        +0.j, ...,\n",
      "                0.        +0.j, 0.        +0.j, 0.02387288+0.j]],\n",
      "              dims=(2, 2, 2, 2, 2, 2, 2))\n",
      "[[ 2.68300982e-02+0.00000000e+00j  1.42182984e-18+1.21972744e-19j\n",
      "   1.28194860e-18+2.50721752e-19j ... -6.99385030e-19-1.11952639e-18j\n",
      "  -6.31841452e-19-1.10784833e-18j  1.24267308e-02+1.67252252e-02j]\n",
      " [ 1.42182984e-18+4.74338450e-20j  4.49517300e-03+3.00926554e-36j\n",
      "  -1.35525272e-20-2.71050543e-19j ...  2.37169225e-20+2.71050543e-19j\n",
      "   3.26648368e-04+4.81992731e-04j  8.75786940e-19+1.05363822e-18j]\n",
      " [ 1.28194860e-18-8.80914265e-20j  4.06575815e-20+2.71050543e-19j\n",
      "   5.89428871e-03+3.00926554e-36j ... -4.51582592e-04-2.12608338e-04j\n",
      "  -2.37169225e-20+2.71050543e-19j  8.41686565e-19+9.56896061e-19j]\n",
      " ...\n",
      " [-6.24846130e-19+1.06531628e-18j  2.37169225e-20-2.16840434e-19j\n",
      "  -4.51582592e-04+2.12608338e-04j ...  5.89428871e-03+0.00000000e+00j\n",
      "  -2.71050543e-20+1.62630326e-19j -1.28194860e-18+8.80914265e-20j]\n",
      " [-6.86051560e-19+1.05363822e-18j  3.26648368e-04-4.81992731e-04j\n",
      "  -2.37169225e-20-2.16840434e-19j ...  2.71050543e-20-1.62630326e-19j\n",
      "   4.49517300e-03+0.00000000e+00j -1.31340962e-18-4.74338450e-20j]\n",
      " [ 1.24267308e-02-1.67252252e-02j  9.29997049e-19-9.99428110e-19j\n",
      "   7.67147665e-19-9.02685953e-19j ... -1.28194860e-18-2.50721752e-19j\n",
      "  -1.31340962e-18-1.21972744e-19j  2.68300982e-02+0.00000000e+00j]]\n"
     ]
    }
   ],
   "source": [
    "qc = QuantumCircuit(7)\n",
    "y_intr_noise = circ_noise.to_instruction()\n",
    "err_list_size = 6\n",
    "error_list = np.logspace((-3), (-2), err_list_size)\n",
    "factor = 10\n",
    "\n",
    "qst_prepare_state(qc, y_intr_noise, qst_create_id_block(7,is_clbits=False), 7, is_clbits=False)\n",
    "\n",
    "noise_list = []\n",
    "for error in error_list:\n",
    "        # readout_err = ReadoutError([[0.98, 0.02],  # P(measured 0 | actual 0), P(1 | 0)\n",
    "        #                             [0.02, 0.98]]) # P(0 | 1), P(1 | 1)\n",
    "\n",
    "        noise_model = NoiseModel()\n",
    "\n",
    "        error2 = error*factor\n",
    "\n",
    "        noise_model.add_all_qubit_quantum_error(depolarizing_error(error,1), ['id'])\n",
    "        noise_model.add_all_qubit_quantum_error(depolarizing_error(error,1), ['h'])\n",
    "        noise_model.add_all_qubit_quantum_error(depolarizing_error(error2,2),['cz'])\n",
    "        noise_model.add_all_qubit_quantum_error(depolarizing_error(error2,2),['cx'])\n",
    "\n",
    "        readout_err = ReadoutError([[1-error2, error2],  # P(measured 0 | actual 0), P(1 | 0)\n",
    "                                [error2, 1-error2]]) # P(0 | 1), P(1 | 1)\n",
    "        \n",
    "        for i in range(0,7):\n",
    "            noise_model.add_readout_error(readout_err, [i])\n",
    "        \n",
    "        noise_list.append(noise_model)\n",
    "\n",
    "y_dm = DensityMatrix.from_instruction(qc)\n",
    "print(y_dm)\n",
    "\n",
    "y_basis(qc, 7)\n",
    "\n",
    "\n",
    "simulator = AerSimulator(method='density_matrix', noise_model=noise_list[5])\n",
    "steane_t = transpile(qc, simulator)\n",
    "\n",
    "\n",
    "job = simulator.run(steane_t, shots=1)\n",
    "result = job.result().data()\n",
    "\n",
    "\n",
    "\n",
    "print(np.array(result['rho']))\n",
    "y_dm = np.array(result['rho'])\n"
   ]
  },
  {
   "cell_type": "code",
   "execution_count": null,
   "id": "ad6e1ff9",
   "metadata": {},
   "outputs": [],
   "source": []
  }
 ],
 "metadata": {
  "kernelspec": {
   "display_name": "base",
   "language": "python",
   "name": "python3"
  },
  "language_info": {
   "codemirror_mode": {
    "name": "ipython",
    "version": 3
   },
   "file_extension": ".py",
   "mimetype": "text/x-python",
   "name": "python",
   "nbconvert_exporter": "python",
   "pygments_lexer": "ipython3",
   "version": "3.10.18"
  }
 },
 "nbformat": 4,
 "nbformat_minor": 5
}
