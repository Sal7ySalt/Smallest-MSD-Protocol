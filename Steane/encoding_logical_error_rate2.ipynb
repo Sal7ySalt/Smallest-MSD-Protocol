{
 "cells": [
  {
   "attachments": {},
   "cell_type": "markdown",
   "metadata": {},
   "source": [
    "# Not Using Pauli Frame Update"
   ]
  },
  {
   "cell_type": "code",
   "execution_count": 1141,
   "metadata": {},
   "outputs": [
    {
     "name": "stdout",
     "output_type": "stream",
     "text": [
      "1.4.2\n"
     ]
    }
   ],
   "source": [
    "from qiskit import __version__\n",
    "print(__version__)"
   ]
  },
  {
   "cell_type": "code",
   "execution_count": 1142,
   "metadata": {},
   "outputs": [],
   "source": [
    "from qiskit import QuantumCircuit, ClassicalRegister\n",
    "from qiskit.quantum_info import Statevector, state_fidelity, partial_trace, DensityMatrix, Pauli\n",
    "from qiskit.quantum_info.operators import Operator\n",
    "from qiskit_aer import AerSimulator\n",
    "from qiskit.visualization import plot_histogram\n",
    "from qiskit import transpile \n",
    "import numpy as np\n",
    "from qiskit_aer.noise import NoiseModel, depolarizing_error, ReadoutError\n",
    "from qiskit.circuit.controlflow import IfElseOp\n",
    "from qiskit.circuit.library import XGate, ZGate\n",
    "import matplotlib.pyplot as plt"
   ]
  },
  {
   "cell_type": "code",
   "execution_count": 1143,
   "metadata": {},
   "outputs": [],
   "source": [
    "import importlib\n",
    "import steane_ec_decoder2\n",
    "importlib.reload(steane_ec_decoder2)\n",
    "from steane_ec_decoder2 import lookup"
   ]
  },
  {
   "attachments": {},
   "cell_type": "markdown",
   "metadata": {},
   "source": [
    "# Function for Encoding"
   ]
  },
  {
   "cell_type": "code",
   "execution_count": 1144,
   "metadata": {},
   "outputs": [],
   "source": [
    "def encoding(qc: QuantumCircuit):\n",
    "    theta = np.arctan(np.sqrt((np.sqrt(5) - 1) / 2))\n",
    "    amp_0 = np.cos(theta/2)\n",
    "    amp_1 = np.sin(theta/2)\n",
    "    qc.initialize([amp_0, amp_1], 0)\n",
    "    for i in range(7):\n",
    "        qc.id(i)\n",
    "    for i in range(4, 7):\n",
    "        qc.h(i)\n",
    "    qc.cx(0, 1)\n",
    "    qc.cx(0, 2)\n",
    "    qc.cx(6, 0)\n",
    "    qc.cx(6, 1)\n",
    "    qc.cx(5, 0)\n",
    "    qc.cx(6, 3)\n",
    "    qc.cx(5, 2)\n",
    "    qc.cx(4, 1)\n",
    "    qc.cx(5, 3)\n",
    "    qc.cx(4, 2)\n",
    "    qc.cx(4, 3)"
   ]
  },
  {
   "attachments": {},
   "cell_type": "markdown",
   "metadata": {},
   "source": [
    "# Functions for Logical |0> and Logical |+>"
   ]
  },
  {
   "cell_type": "code",
   "execution_count": 1145,
   "metadata": {},
   "outputs": [],
   "source": [
    "# — Custom Hadamard —\n",
    "h_sub = QuantumCircuit(1, name='H_custom')\n",
    "h_sub.h(0)\n",
    "H_custom = h_sub.to_gate()\n",
    "\n",
    "# — Custom CNOT —\n",
    "cx_sub = QuantumCircuit(2, name='CX_custom')\n",
    "cx_sub.cx(0, 1)\n",
    "CX_custom = cx_sub.to_gate()"
   ]
  },
  {
   "cell_type": "code",
   "execution_count": 1146,
   "metadata": {},
   "outputs": [],
   "source": [
    "def logical_zero(qc: QuantumCircuit, first_qubit: int):\n",
    "    for i in [0, 1, 3]:\n",
    "        qc.append(H_custom, [first_qubit+i])\n",
    "    \n",
    "    qc.append(CX_custom, [first_qubit, first_qubit+4])\n",
    "    qc.append(CX_custom, [first_qubit+1, first_qubit+2])\n",
    "    qc.append(CX_custom, [first_qubit+3, first_qubit+5])\n",
    "    qc.append(CX_custom, [first_qubit, first_qubit+6])\n",
    "    qc.append(CX_custom, [first_qubit+3, first_qubit+4])\n",
    "    qc.append(CX_custom, [first_qubit+1, first_qubit+5])\n",
    "    qc.append(CX_custom, [first_qubit, first_qubit+2])\n",
    "    qc.append(CX_custom, [first_qubit+5, first_qubit+6])"
   ]
  },
  {
   "cell_type": "code",
   "execution_count": 1147,
   "metadata": {},
   "outputs": [],
   "source": [
    "def logical_plus(qc: QuantumCircuit, first_qubit: int):\n",
    "    logical_zero(qc, first_qubit)\n",
    "    for i in range(7):\n",
    "        qc.append(H_custom, [first_qubit+i])"
   ]
  },
  {
   "attachments": {},
   "cell_type": "markdown",
   "metadata": {},
   "source": [
    "# Functions for Stabilizer Extraction "
   ]
  },
  {
   "cell_type": "code",
   "execution_count": 1148,
   "metadata": {},
   "outputs": [],
   "source": [
    "def unflag(qc: QuantumCircuit, c1: ClassicalRegister, c2: ClassicalRegister):\n",
    "    logical_plus(qc, 7)\n",
    "    \n",
    "    for i in range(7):\n",
    "        qc.cx(i, i+7)\n",
    "    qc.measure([7,8,9,10,11,12,13], c1)\n",
    "    \n",
    "    qc.reset([7,8,9,10,11,12,13])\n",
    "    \n",
    "    logical_zero(qc, 7)\n",
    "    \n",
    "    for i in range(7):\n",
    "        qc.cx(i+7, i)\n",
    "        qc.h(i+7)\n",
    "    qc.measure([7,8,9,10,11,12,13], c2)"
   ]
  },
  {
   "cell_type": "code",
   "execution_count": 1149,
   "metadata": {},
   "outputs": [],
   "source": [
    "def flag(qc: QuantumCircuit, first_qubit: int, c: ClassicalRegister):\n",
    "    for i in [first_qubit+7, first_qubit+11, first_qubit+12]:\n",
    "        qc.h(i)\n",
    "        \n",
    "    qc.cx(first_qubit+7, first_qubit+4)\n",
    "    qc.cx(first_qubit+6, first_qubit+8)\n",
    "    qc.cx(first_qubit+5, first_qubit+9)\n",
    "    qc.cx(first_qubit+7, first_qubit+9)\n",
    "    qc.cx(first_qubit+7, first_qubit)\n",
    "    qc.cx(first_qubit+4, first_qubit+8)\n",
    "    qc.cx(first_qubit+1, first_qubit+9)\n",
    "    qc.cx(first_qubit+7, first_qubit+2)\n",
    "    qc.cx(first_qubit+3, first_qubit+8)\n",
    "    qc.cx(first_qubit+6, first_qubit+9)\n",
    "    qc.cx(first_qubit+7, first_qubit+8)\n",
    "    qc.cx(first_qubit+7, first_qubit+6)\n",
    "    qc.cx(first_qubit+5, first_qubit+8)\n",
    "    qc.cx(first_qubit+2, first_qubit+9)\n",
    "    \n",
    "    qc.cx(first_qubit+4, first_qubit+10)\n",
    "    qc.cx(first_qubit+11, first_qubit+6)\n",
    "    qc.cx(first_qubit+12, first_qubit+5)\n",
    "    qc.cx(first_qubit+12, first_qubit+10)\n",
    "    qc.cx(first_qubit, first_qubit+10)\n",
    "    qc.cx(first_qubit+11, first_qubit+4)\n",
    "    qc.cx(first_qubit+12, first_qubit+1)\n",
    "    qc.cx(first_qubit+2, first_qubit+10)\n",
    "    qc.cx(first_qubit+11, first_qubit+3)\n",
    "    qc.cx(first_qubit+12, first_qubit+6)\n",
    "    qc.cx(first_qubit+11, first_qubit+10)\n",
    "    qc.cx(first_qubit+6, first_qubit+10)\n",
    "    qc.cx(first_qubit+11, first_qubit+5)\n",
    "    qc.cx(first_qubit+12, first_qubit+2)\n",
    "    \n",
    "    for i in [first_qubit+7, first_qubit+11, first_qubit+12]:\n",
    "        qc.h(i)\n",
    "    \n",
    "    qc.measure([first_qubit+7, first_qubit+8, first_qubit+9, first_qubit+10, first_qubit+11, first_qubit+12], c)"
   ]
  },
  {
   "attachments": {},
   "cell_type": "markdown",
   "metadata": {},
   "source": [
    "# Function for QEC"
   ]
  },
  {
   "cell_type": "code",
   "execution_count": 1150,
   "metadata": {},
   "outputs": [],
   "source": [
    "def QEC(qc: QuantumCircuit, c: ClassicalRegister, c1: ClassicalRegister, c2: ClassicalRegister):\n",
    "    flag(qc, 0, c)\n",
    "    qc.reset([7,8,9,10,11,12])\n",
    "    \n",
    "    # Path 1: if c is all 0, then do nothing\n",
    "    path1 = QuantumCircuit(14)\n",
    "    path1.add_register(c, c1, c2)\n",
    "    # Path 2: if c is anything else\n",
    "    path2 = QuantumCircuit(14)\n",
    "    path2.add_register(c, c1, c2)\n",
    "    unflag(path2, c1, c2)\n",
    "    \n",
    "    first_if = IfElseOp((c, 0), true_body=path1, false_body=path2)\n",
    "    qc.append(first_if, list(range(14)), c[:] + c1[:] + c2[:])"
   ]
  },
  {
   "attachments": {},
   "cell_type": "markdown",
   "metadata": {},
   "source": [
    "# Encoding + 1 Round of EC"
   ]
  },
  {
   "cell_type": "code",
   "execution_count": 1151,
   "metadata": {},
   "outputs": [],
   "source": [
    "noise_model = NoiseModel()\n",
    "\n",
    "noise_model.add_all_qubit_quantum_error(depolarizing_error(0.005,1), ['id'])\n",
    "noise_model.add_all_qubit_quantum_error(depolarizing_error(0.005,1), ['h'])\n",
    "noise_model.add_all_qubit_quantum_error(depolarizing_error(0.05,2), ['cx'])\n",
    "\n",
    "# 5% chance of flipping 0 <-> 1\n",
    "readout_err = ReadoutError([[0.995, 0.005],  # P(measured 0 | actual 0), P(1 | 0)\n",
    "                            [0.005, 0.995]]) # P(0 | 1), P(1 | 1)\n",
    "\n",
    "# Apply to all qubits being measured\n",
    "noise_model.add_readout_error(readout_err, [7]) \n",
    "noise_model.add_readout_error(readout_err, [8])\n",
    "noise_model.add_readout_error(readout_err, [9])\n",
    "noise_model.add_readout_error(readout_err, [10])\n",
    "noise_model.add_readout_error(readout_err, [11])\n",
    "noise_model.add_readout_error(readout_err, [12])\n",
    "noise_model.add_readout_error(readout_err, [13])\n"
   ]
  },
  {
   "cell_type": "code",
   "execution_count": 1152,
   "metadata": {},
   "outputs": [
    {
     "name": "stdout",
     "output_type": "stream",
     "text": [
      "['1100111 0111000 000011', '0011111 1111011 001100', '0000000 0000000 000000', '0000000 0000000 000000', '0001110 1000110 100000', '0000000 0000000 000000', '1010010 1101100 001001', '0100000 1000000 110010', '1100110 0001110 001000', '1101110 0110010 011010', '0000000 0000000 000000', '0000000 0000000 000000', '0000000 0000000 000000', '0101010 1111111 011000', '1110111 0111000 001000', '1010110 1110010 110010', '1101110 1100100 011101', '1001100 1010110 001100', '0100000 1101001 110101', '0000000 0000000 000000', '1100111 0010100 110000', '0100111 0101010 101010', '0000000 0000000 000000', '1101110 1110101 011011', '1111100 0101010 111010', '1000001 1001111 110010', '0101011 0000001 001000', '1111100 0001111 001000', '0011000 1100111 111100', '1111110 0011100 000111', '0011111 0111011 100110', '0000111 0101101 000101', '0101010 0000011 000010', '0000000 0000000 000000', '1111110 1010100 001001', '1000000 0101110 100000', '0101000 1100101 001100', '1100110 1000000 101001', '1101100 1001111 111101', '0010100 1101100 010111', '0000000 0000000 000000', '1011010 1101010 110100', '1010101 0101010 100011', '0010111 1110100 011111', '0111010 1110011 001000', '0000000 0000000 000010', '0000000 0000000 000000', '0011100 0110001 010101', '0010111 0111110 010000', '1001011 1000010 111000', '1001011 1101001 000001', '0000000 0000000 000000', '1100010 0101000 000100', '0100100 1011011 110000', '0000101 1000010 111001', '0110100 1010010 010001', '0011110 1011110 001100', '0000000 0000000 000000', '0110011 1000111 001100', '0110110 1111010 000100', '1011110 1110100 111001', '1110000 0101101 110001', '0000000 0000000 000000', '1110000 0010100 111000', '1111111 0011100 000100', '0101011 1000101 001110', '0000100 0101000 000110', '0000011 1101111 011001', '1010010 1011111 100110', '0000100 1100001 010001', '0101011 1001011 100000', '0010001 0110010 001000', '0011011 0110110 110100', '0110010 0100001 111000', '0000000 0000000 000000', '0000000 0000000 000000', '0000000 0000000 000000', '0110100 1101011 001000', '1011110 1110010 010100', '1111001 1001111 010010', '1110000 0001101 100000', '0000000 0000000 000000', '0011010 1111111 100000', '1101101 1011011 010110', '1110100 0010011 010000', '0011101 1001011 010000', '0001011 0101010 000100', '0100011 1011100 010000', '0000000 0000000 000000', '1010010 0110100 000001', '1011101 0110111 101100', '0000000 0000000 000000', '0000000 0000000 000000', '0111110 1000111 110000', '0100000 0111000 111000', '0111100 1001100 010010', '1000011 1010100 111000', '1001010 0000110 011000', '1110110 1110001 011000', '0000000 0000000 000000']\n"
     ]
    }
   ],
   "source": [
    "qc = QuantumCircuit(14)\n",
    "\n",
    "c = ClassicalRegister(6, \"c\")\n",
    "c1 = ClassicalRegister(7, \"c1\")\n",
    "c2 = ClassicalRegister(7, \"c2\")\n",
    "\n",
    "qc.add_register(c, c1, c2)\n",
    "\n",
    "encoding(qc)\n",
    "QEC(qc, c, c1, c2)\n",
    "\n",
    "qc.save_statevector(label='statevector_post', pershot=True, conditional=True)\n",
    "\n",
    "backend = AerSimulator(noise_model=noise_model)\n",
    "transpiled = transpile(qc, backend, optimization_level=0)\n",
    "job = backend.run(transpiled, shots=100, memory=True)\n",
    "result = job.result()\n",
    "memory = result.get_memory()\n",
    "\n",
    "#print(result)\n",
    "print(memory)"
   ]
  },
  {
   "cell_type": "code",
   "execution_count": 1153,
   "metadata": {},
   "outputs": [],
   "source": [
    "from collections import defaultdict"
   ]
  },
  {
   "cell_type": "code",
   "execution_count": 1154,
   "metadata": {},
   "outputs": [],
   "source": [
    "hex_to_sv = []\n",
    "hex_mem = result.data()['memory']\n",
    "\n",
    "seen = defaultdict(int)\n",
    "for mem in hex_mem:\n",
    "    idx = seen[mem]\n",
    "    val = result.data()['statevector_post'][mem][idx]\n",
    "    hex_to_sv.append({mem:val})\n",
    "    seen[mem] += 1\n",
    "    \n",
    "#print(hex_to_sv)"
   ]
  },
  {
   "cell_type": "code",
   "execution_count": 1155,
   "metadata": {},
   "outputs": [],
   "source": [
    "sv_correction = []\n",
    "for i, result in enumerate(hex_to_sv):\n",
    "    str13, sv13 = next(iter(result.items()))\n",
    "    cx, cz = lookup(memory[i])\n",
    "    cz = cz + \"I\"*7\n",
    "    cx = cx + \"I\"*7\n",
    "    Pauli_cz = Pauli(cz)\n",
    "    Pauli_cx = Pauli(cx)\n",
    "    U_cz = Operator(Pauli_cz)\n",
    "    U_cx = Operator(Pauli_cx)\n",
    "    sv13 = sv13.evolve(U_cz)\n",
    "    sv13 = sv13.evolve(U_cx)\n",
    "    sv_correction.append(sv13)\n",
    "#print(sv_correction)"
   ]
  },
  {
   "cell_type": "code",
   "execution_count": 1156,
   "metadata": {},
   "outputs": [],
   "source": [
    "test = QuantumCircuit(7)\n",
    "encoding(test)\n",
    "test = DensityMatrix(test)\n",
    "\n",
    "sum = 0\n",
    "for sv in sv_correction:\n",
    "    sv = partial_trace(sv, [7, 8, 9, 10, 11, 12, 13])\n",
    "    if (np.round(state_fidelity(sv, test)) == 1.0):\n",
    "        sum += 1"
   ]
  },
  {
   "cell_type": "code",
   "execution_count": 1157,
   "metadata": {},
   "outputs": [
    {
     "name": "stdout",
     "output_type": "stream",
     "text": [
      "21\n"
     ]
    }
   ],
   "source": [
    "print(sum)"
   ]
  },
  {
   "cell_type": "code",
   "execution_count": null,
   "metadata": {},
   "outputs": [],
   "source": []
  }
 ],
 "metadata": {
  "kernelspec": {
   "display_name": "Python (algos)",
   "language": "python",
   "name": "my-env"
  },
  "language_info": {
   "codemirror_mode": {
    "name": "ipython",
    "version": 3
   },
   "file_extension": ".py",
   "mimetype": "text/x-python",
   "name": "python",
   "nbconvert_exporter": "python",
   "pygments_lexer": "ipython3",
   "version": "3.12.4"
  },
  "orig_nbformat": 4
 },
 "nbformat": 4,
 "nbformat_minor": 2
}
