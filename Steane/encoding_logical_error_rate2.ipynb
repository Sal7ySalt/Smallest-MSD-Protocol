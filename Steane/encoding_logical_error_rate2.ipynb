{
 "cells": [
  {
   "attachments": {},
   "cell_type": "markdown",
   "metadata": {},
   "source": [
    "# Not Using Pauli Frame Update"
   ]
  },
  {
   "cell_type": "code",
   "execution_count": 627,
   "metadata": {},
   "outputs": [
    {
     "name": "stdout",
     "output_type": "stream",
     "text": [
      "1.4.2\n"
     ]
    }
   ],
   "source": [
    "from qiskit import __version__\n",
    "print(__version__)"
   ]
  },
  {
   "cell_type": "code",
   "execution_count": 628,
   "metadata": {},
   "outputs": [],
   "source": [
    "from qiskit import QuantumCircuit, ClassicalRegister\n",
    "from qiskit.quantum_info import Statevector, state_fidelity, partial_trace, DensityMatrix\n",
    "from qiskit_aer import AerSimulator\n",
    "from qiskit.visualization import plot_histogram\n",
    "from qiskit import transpile \n",
    "import numpy as np\n",
    "from qiskit_aer.noise import NoiseModel, depolarizing_error, ReadoutError\n",
    "from qiskit.circuit.controlflow import IfElseOp\n",
    "from qiskit.circuit.library import XGate, ZGate\n",
    "import matplotlib.pyplot as plt"
   ]
  },
  {
   "cell_type": "code",
   "execution_count": 639,
   "metadata": {},
   "outputs": [],
   "source": [
    "import importlib\n",
    "import steane_ec_decoder2\n",
    "importlib.reload(steane_ec_decoder2)\n",
    "from steane_ec_decoder2 import allstab_lookup"
   ]
  },
  {
   "attachments": {},
   "cell_type": "markdown",
   "metadata": {},
   "source": [
    "# Function for Encoding"
   ]
  },
  {
   "cell_type": "code",
   "execution_count": 629,
   "metadata": {},
   "outputs": [],
   "source": [
    "def encoding(qc: QuantumCircuit):\n",
    "    theta = np.arctan(np.sqrt((np.sqrt(5) - 1) / 2))\n",
    "    amp_0 = np.cos(theta/2)\n",
    "    amp_1 = np.sin(theta/2)\n",
    "    qc.initialize([amp_0, amp_1], 0)\n",
    "    for i in range(7):\n",
    "        qc.id(i)\n",
    "    for i in range(4, 7):\n",
    "        qc.h(i)\n",
    "    qc.cx(0, 1)\n",
    "    qc.cx(0, 2)\n",
    "    qc.cx(6, 0)\n",
    "    qc.cx(6, 1)\n",
    "    qc.cx(6, 3)\n",
    "    qc.cx(5, 0)\n",
    "    qc.cx(5, 2)\n",
    "    qc.cx(5, 3)\n",
    "    qc.cx(4, 1)\n",
    "    qc.cx(4, 2)\n",
    "    qc.cx(4, 3)"
   ]
  },
  {
   "attachments": {},
   "cell_type": "markdown",
   "metadata": {},
   "source": [
    "# Functions for Stabilizer Extraction "
   ]
  },
  {
   "cell_type": "code",
   "execution_count": 632,
   "metadata": {},
   "outputs": [],
   "source": [
    "def stabilizer6(qc: QuantumCircuit, first_qubit: int, cs: ClassicalRegister):\n",
    "    # Measuring XXXXIII to qubit 7\n",
    "    for i in range(4):\n",
    "        qc.h(first_qubit+i)\n",
    "        qc.cx(first_qubit+i, first_qubit+7)\n",
    "        qc.h(first_qubit+i)\n",
    "        \n",
    "    # Measuring IXXIXXI to qubit 8\n",
    "    for i in range([1, 2, 4, 5]):\n",
    "        qc.h(first_qubit+i)\n",
    "        qc.cx(first_qubit+i, first_qubit+8)\n",
    "        qc.h(first_qubit+i)\n",
    "    \n",
    "    # Measuring IIXXIXX to qubit 9\n",
    "    for i in range([2, 3, 5, 6]):\n",
    "        qc.h(first_qubit+i)\n",
    "        qc.cx(first_qubit+i, first_qubit+9)\n",
    "        qc.h(first_qubit+i)\n",
    "        \n",
    "    # Measuring ZZZZIII to qubit 10\n",
    "    for i in range(4):\n",
    "        qc.cx(first_qubit+i, first_qubit+7)\n",
    "\n",
    "    # Measuring IZZIZZI to qubit 11\n",
    "    for i in range([1, 2, 4, 5]):\n",
    "        qc.cx(first_qubit+i, first_qubit+8)\n",
    "\n",
    "    # Measuring IIZZIZZ to qubit 12\n",
    "    for i in range([2, 3, 5, 6]):\n",
    "        qc.cx(first_qubit+i, first_qubit+9)\n",
    "        \n",
    "    # Measure\n",
    "    qc.measure([first_qubit+i for i in range(7, 13)], cs)"
   ]
  },
  {
   "cell_type": "code",
   "execution_count": 631,
   "metadata": {},
   "outputs": [],
   "source": [
    "def flag1(qc: QuantumCircuit, first_qubit: int, c1: ClassicalRegister):\n",
    "    qc.h(first_qubit+8)\n",
    "    \n",
    "    for i in range(4):\n",
    "        qc.h(first_qubit+i)\n",
    "        \n",
    "    for i in range([0, 8, 1, 2, 8, 3]):\n",
    "        qc.cx(first_qubit+i, first_qubit+7)\n",
    "    \n",
    "    for i in range(4):\n",
    "        qc.h(first_qubit+i)\n",
    "    \n",
    "    qc.h(first_qubit+8)\n",
    "    qc.measure([first_qubit+7, first_qubit+8], c1)"
   ]
  },
  {
   "cell_type": "code",
   "execution_count": 635,
   "metadata": {},
   "outputs": [],
   "source": [
    "def flag2(qc: QuantumCircuit, first_qubit: int, c2: ClassicalRegister):\n",
    "    qc.h(first_qubit+8)\n",
    "    \n",
    "    for i in range([1, 2, 4, 5]):\n",
    "        qc.h(first_qubit+i)\n",
    "        \n",
    "    for i in range([1, 8, 2, 4, 8, 5]):\n",
    "        qc.cx(first_qubit+i, first_qubit+7)\n",
    "    \n",
    "    for i in range([1, 2, 4, 5]):\n",
    "        qc.h(first_qubit+i)\n",
    "        \n",
    "    qc.h(first_qubit+8)\n",
    "    qc.measure([first_qubit+7, first_qubit+8], c2)"
   ]
  },
  {
   "cell_type": "code",
   "execution_count": 634,
   "metadata": {},
   "outputs": [],
   "source": [
    "def flag3(qc: QuantumCircuit, first_qubit: int, c3: ClassicalRegister):\n",
    "    qc.h(first_qubit+8)\n",
    "    \n",
    "    for i in range([2, 3, 5, 6]):\n",
    "        qc.h(first_qubit+i)\n",
    "    \n",
    "    for i in range([2, 8, 3, 5, 8, 6]):\n",
    "        qc.cx(first_qubit+i, first_qubit+7)\n",
    "        \n",
    "    for i in range([2, 3, 5, 6]):\n",
    "        qc.h(first_qubit+i)\n",
    "        \n",
    "    qc.h(first_qubit+8)\n",
    "    qc.measure([first_qubit+7, first_qubit+8], c3)"
   ]
  },
  {
   "cell_type": "code",
   "execution_count": 636,
   "metadata": {},
   "outputs": [],
   "source": [
    "def flag4(qc: QuantumCircuit, first_qubit: int, c4: ClassicalRegister):\n",
    "    qc.h(first_qubit+8)\n",
    "    \n",
    "    for i in range([0, 8, 1, 2, 8, 3]):\n",
    "        qc.cx(first_qubit+i, first_qubit+7)\n",
    "        \n",
    "    qc.h(first_qubit+8)\n",
    "    qc.measure([first_qubit+7, first_qubit+8], c4)"
   ]
  },
  {
   "cell_type": "code",
   "execution_count": 637,
   "metadata": {},
   "outputs": [],
   "source": [
    "def flag5(qc: QuantumCircuit, first_qubit: int, c5):\n",
    "    qc.h(first_qubit+8)\n",
    "        \n",
    "    for i in range([1, 8, 2, 4, 8, 5]):\n",
    "        qc.cx(first_qubit+i, first_qubit+7)\n",
    "        \n",
    "    qc.h(first_qubit+8)\n",
    "    qc.measure([first_qubit+7, first_qubit+8], c5)"
   ]
  },
  {
   "cell_type": "code",
   "execution_count": 638,
   "metadata": {},
   "outputs": [],
   "source": [
    "def flag6(qc: QuantumCircuit, first_qubit: int, c6):\n",
    "    qc.h(first_qubit+8)\n",
    "    \n",
    "    for i in range([2, 8, 3, 5, 8, 6]):\n",
    "        qc.cx(first_qubit+i, first_qubit+7)\n",
    "        \n",
    "    qc.h(first_qubit+8)\n",
    "    qc.measure([first_qubit+7, first_qubit+8], c6)"
   ]
  },
  {
   "attachments": {},
   "cell_type": "markdown",
   "metadata": {},
   "source": [
    "# Function for QEC"
   ]
  },
  {
   "cell_type": "code",
   "execution_count": 640,
   "metadata": {},
   "outputs": [],
   "source": [
    "def QEC(qc: QuantumCircuit, c1: ClassicalRegister, c2: ClassicalRegister, c3: ClassicalRegister, c4: ClassicalRegister, c5: ClassicalRegister, c6: ClassicalRegister, cs1: ClassicalRegister, cs2: ClassicalRegister, cs3: ClassicalRegister, cs4: ClassicalRegister, cs5: ClassicalRegister, cs6: ClassicalRegister):\n",
    "    # Measure flag1 circuit\n",
    "    flag1(qc, 0, c1)\n",
    "    qc.reset([7,8])\n",
    "    \n",
    "    # Path 1, flag and syndrome are 0 for flag1\n",
    "    do_nothing = QuantumCircuit(13)\n",
    "    do_nothing.add_register(c1, c2, c3, c4, c5, c6, cs1, cs2, cs3, cs4, cs5, cs6)\n",
    "    \n",
    "    # Path 2, flag or syndrome are 1 for flag1\n",
    "    all_stab1 = QuantumCircuit(13)\n",
    "    all_stab1.add_register(c1, c2, c3, c4, c5, c6, cs1, cs2, cs3, cs4, cs5, cs6)\n",
    "    stabilizer6(qc, 0, cs1)\n",
    "    \n",
    "    first_if = IfElseOp((c1, 0), true_body=do_nothing, false_body=all_stab1)\n",
    "    qc.append(first_if, list(range(13)), c1[:] + c2[:] + c3[:] + c4[:] + c5[:] + c6[:] + cs1[:] + cs2[:] + cs3[:] +cs4[:] + cs5[:] + cs6[:])\n",
    "    \n",
    "    # Path 1, flag and syndrome are 0 for flag2\n",
    "    # Path 2, flag or syndrome are 1 for flag2\n",
    "    all_stab2 = QuantumCircuit(13)\n",
    "    all_stab2.add_register(c1, c2, c3, c4, c5, c6, cs1, cs2, cs3, cs4, cs5, cs6)\n",
    "    stabilizer6(qc, 0, cs2)\n",
    "    \n",
    "    second_if = IfElseOp((c2, 0), true_body=do_nothing, false_body=all_stab2)\n",
    "    qc.append(second_if, list(range(13)), c1[:] + c2[:] + c3[:] + c4[:] + c5[:] + c6[:] + cs1[:] + cs2[:] + cs3[:] +cs4[:] + cs5[:] + cs6[:])\n",
    "    \n",
    "    # Path 1, flag and syndrome are 0 for flag3\n",
    "    # Path 2, flag or syndrome are 1 for flag3\n",
    "    all_stab3 = QuantumCircuit(13)\n",
    "    all_stab3.add_register(c1, c2, c3, c4, c5, c6, cs1, cs2, cs3, cs4, cs5, cs6)\n",
    "    stabilizer6(qc, 0, cs3)\n",
    "    \n",
    "    third_if = IfElseOp((c3, 0), true_body=do_nothing, false_body=all_stab3)\n",
    "    qc.append(third_if, list(range(13)), c1[:] + c2[:] + c3[:] + c4[:] + c5[:] + c6[:] + cs1[:] + cs2[:] + cs3[:] +cs4[:] + cs5[:] + cs6[:])\n",
    "    \n",
    "    # Path 1, flag and syndrome are 0 for flag4\n",
    "    # Path 2, flag or syndrome are 1 for flag4\n",
    "    all_stab4 = QuantumCircuit(13)\n",
    "    all_stab4.add_register(c1, c2, c3, c4, c5, c6, cs1, cs2, cs3, cs4, cs5, cs6)\n",
    "    stabilizer6(qc, 0, cs4)\n",
    "    \n",
    "    fourth_if = IfElseOp((c4, 0), true_body=do_nothing, false_body=all_stab4)\n",
    "    qc.append(fourth_if, list(range(13)), c1[:] + c2[:] + c3[:] + c4[:] + c5[:] + c6[:] + cs1[:] + cs2[:] + cs3[:] +cs4[:] + cs5[:] + cs6[:])\n",
    "    \n",
    "    # Path 1, flag and syndrome are 0 for flag5\n",
    "    # Path 2, flag or syndrome are 1 for flag5\n",
    "    all_stab5 = QuantumCircuit(13)\n",
    "    all_stab5.add_register(c1, c2, c3, c4, c5, c6, cs1, cs2, cs3, cs4, cs5, cs6)\n",
    "    stabilizer6(qc, 0, cs5)\n",
    "    \n",
    "    fifth_if = IfElseOp((c5, 0), true_body=do_nothing, false_body=all_stab5)\n",
    "    qc.append(fifth_if, list(range(13)), c1[:] + c2[:] + c3[:] + c4[:] + c5[:] + c6[:] + cs1[:] + cs2[:] + cs3[:] +cs4[:] + cs5[:] + cs6[:])\n",
    "    \n",
    "    # Path 1, flag and syndrome are 0 for flag6\n",
    "    # Path 2, flag or syndrome are 1 for flag6\n",
    "    all_stab6 = QuantumCircuit(13)\n",
    "    all_stab6.add_register(c1, c2, c3, c4, c5, c6, cs1, cs2, cs3, cs4, cs5, cs6)\n",
    "    stabilizer6(qc, 0, cs6)\n",
    "    \n",
    "    sixth_if = IfElseOp((c6, 0), true_body=do_nothing, false_body=all_stab6)\n",
    "    qc.append(sixth_if, list(range(13)), c1[:] + c2[:] + c3[:] + c4[:] + c5[:] + c6[:] + cs1[:] + cs2[:] + cs3[:] +cs4[:] + cs5[:] + cs6[:])\n",
    "    "
   ]
  },
  {
   "attachments": {},
   "cell_type": "markdown",
   "metadata": {},
   "source": [
    "# Encoding + 1 Round of EC"
   ]
  },
  {
   "cell_type": "code",
   "execution_count": null,
   "metadata": {},
   "outputs": [],
   "source": []
  }
 ],
 "metadata": {
  "kernelspec": {
   "display_name": "Python (algos)",
   "language": "python",
   "name": "my-env"
  },
  "language_info": {
   "codemirror_mode": {
    "name": "ipython",
    "version": 3
   },
   "file_extension": ".py",
   "mimetype": "text/x-python",
   "name": "python",
   "nbconvert_exporter": "python",
   "pygments_lexer": "ipython3",
   "version": "3.12.4"
  },
  "orig_nbformat": 4
 },
 "nbformat": 4,
 "nbformat_minor": 2
}
