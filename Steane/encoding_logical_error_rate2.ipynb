{
 "cells": [
  {
   "attachments": {},
   "cell_type": "markdown",
   "metadata": {},
   "source": [
    "# Not Using Pauli Frame Update"
   ]
  },
  {
   "cell_type": "code",
   "execution_count": 627,
   "metadata": {},
   "outputs": [
    {
     "name": "stdout",
     "output_type": "stream",
     "text": [
      "1.4.2\n"
     ]
    }
   ],
   "source": [
    "from qiskit import __version__\n",
    "print(__version__)"
   ]
  },
  {
   "cell_type": "code",
   "execution_count": 739,
   "metadata": {},
   "outputs": [],
   "source": [
    "from qiskit import QuantumCircuit, ClassicalRegister\n",
    "from qiskit.quantum_info import Statevector, state_fidelity, partial_trace, DensityMatrix, Pauli\n",
    "from qiskit.quantum_info.operators import Operator\n",
    "from qiskit_aer import AerSimulator\n",
    "from qiskit.visualization import plot_histogram\n",
    "from qiskit import transpile \n",
    "import numpy as np\n",
    "from qiskit_aer.noise import NoiseModel, depolarizing_error, ReadoutError\n",
    "from qiskit.circuit.controlflow import IfElseOp\n",
    "from qiskit.circuit.library import XGate, ZGate\n",
    "import matplotlib.pyplot as plt"
   ]
  },
  {
   "cell_type": "code",
   "execution_count": 726,
   "metadata": {},
   "outputs": [],
   "source": [
    "import importlib\n",
    "import steane_ec_decoder2\n",
    "importlib.reload(steane_ec_decoder2)\n",
    "from steane_ec_decoder2 import allstab_lookup"
   ]
  },
  {
   "attachments": {},
   "cell_type": "markdown",
   "metadata": {},
   "source": [
    "# Function for Encoding"
   ]
  },
  {
   "cell_type": "code",
   "execution_count": 676,
   "metadata": {},
   "outputs": [],
   "source": [
    "def encoding(qc: QuantumCircuit):\n",
    "    theta = np.arctan(np.sqrt((np.sqrt(5) - 1) / 2))\n",
    "    amp_0 = np.cos(theta/2)\n",
    "    amp_1 = np.sin(theta/2)\n",
    "    qc.initialize([amp_0, amp_1], 0)\n",
    "    for i in range(7):\n",
    "        qc.id(i)\n",
    "    for i in range(4, 7):\n",
    "        qc.h(i)\n",
    "    qc.cx(0, 1)\n",
    "    qc.cx(0, 2)\n",
    "    qc.cx(6, 0)\n",
    "    qc.cx(6, 1)\n",
    "    qc.cx(6, 3)\n",
    "    qc.cx(5, 0)\n",
    "    qc.cx(5, 2)\n",
    "    qc.cx(5, 3)\n",
    "    qc.cx(4, 1)\n",
    "    qc.cx(4, 2)\n",
    "    qc.cx(4, 3)"
   ]
  },
  {
   "attachments": {},
   "cell_type": "markdown",
   "metadata": {},
   "source": [
    "# Functions for Stabilizer Extraction "
   ]
  },
  {
   "cell_type": "code",
   "execution_count": 692,
   "metadata": {},
   "outputs": [],
   "source": [
    "def stabilizer6(qc: QuantumCircuit, first_qubit: int, cs: ClassicalRegister):\n",
    "    # Measuring XXXXIII to qubit 7\n",
    "    for i in range(4):\n",
    "        qc.h(first_qubit+i)\n",
    "        qc.cx(first_qubit+i, first_qubit+7)\n",
    "        qc.h(first_qubit+i)\n",
    "        \n",
    "    # Measuring IXXIXXI to qubit 8\n",
    "    for i in [1, 2, 4, 5]:\n",
    "        qc.h(first_qubit+i)\n",
    "        qc.cx(first_qubit+i, first_qubit+8)\n",
    "        qc.h(first_qubit+i)\n",
    "    \n",
    "    # Measuring IIXXIXX to qubit 9\n",
    "    for i in [2, 3, 5, 6]:\n",
    "        qc.h(first_qubit+i)\n",
    "        qc.cx(first_qubit+i, first_qubit+9)\n",
    "        qc.h(first_qubit+i)\n",
    "        \n",
    "    # Measuring ZZZZIII to qubit 10\n",
    "    for i in range(4):\n",
    "        qc.cx(first_qubit+i, first_qubit+7)\n",
    "\n",
    "    # Measuring IZZIZZI to qubit 11\n",
    "    for i in [1, 2, 4, 5]:\n",
    "        qc.cx(first_qubit+i, first_qubit+8)\n",
    "\n",
    "    # Measuring IIZZIZZ to qubit 12\n",
    "    for i in [2, 3, 5, 6]:\n",
    "        qc.cx(first_qubit+i, first_qubit+9)\n",
    "        \n",
    "    # Measure\n",
    "    qc.measure([first_qubit+i for i in range(7, 13)], cs)"
   ]
  },
  {
   "cell_type": "code",
   "execution_count": 693,
   "metadata": {},
   "outputs": [],
   "source": [
    "def flag1(qc: QuantumCircuit, first_qubit: int, c1: ClassicalRegister):\n",
    "    qc.h(first_qubit+8)\n",
    "    \n",
    "    for i in range(4):\n",
    "        qc.h(first_qubit+i)\n",
    "        \n",
    "    for i in [0, 8, 1, 2, 8, 3]:\n",
    "        qc.cx(first_qubit+i, first_qubit+7)\n",
    "    \n",
    "    for i in range(4):\n",
    "        qc.h(first_qubit+i)\n",
    "    \n",
    "    qc.h(first_qubit+8)\n",
    "    qc.measure([first_qubit+7, first_qubit+8], c1)"
   ]
  },
  {
   "cell_type": "code",
   "execution_count": 694,
   "metadata": {},
   "outputs": [],
   "source": [
    "def flag2(qc: QuantumCircuit, first_qubit: int, c2: ClassicalRegister):\n",
    "    qc.h(first_qubit+8)\n",
    "    \n",
    "    for i in [1, 2, 4, 5]:\n",
    "        qc.h(first_qubit+i)\n",
    "        \n",
    "    for i in [1, 8, 2, 4, 8, 5]:\n",
    "        qc.cx(first_qubit+i, first_qubit+7)\n",
    "    \n",
    "    for i in [1, 2, 4, 5]:\n",
    "        qc.h(first_qubit+i)\n",
    "        \n",
    "    qc.h(first_qubit+8)\n",
    "    qc.measure([first_qubit+7, first_qubit+8], c2)"
   ]
  },
  {
   "cell_type": "code",
   "execution_count": 695,
   "metadata": {},
   "outputs": [],
   "source": [
    "def flag3(qc: QuantumCircuit, first_qubit: int, c3: ClassicalRegister):\n",
    "    qc.h(first_qubit+8)\n",
    "    \n",
    "    for i in [2, 3, 5, 6]:\n",
    "        qc.h(first_qubit+i)\n",
    "    \n",
    "    for i in [2, 8, 3, 5, 8, 6]:\n",
    "        qc.cx(first_qubit+i, first_qubit+7)\n",
    "        \n",
    "    for i in [2, 3, 5, 6]:\n",
    "        qc.h(first_qubit+i)\n",
    "        \n",
    "    qc.h(first_qubit+8)\n",
    "    qc.measure([first_qubit+7, first_qubit+8], c3)"
   ]
  },
  {
   "cell_type": "code",
   "execution_count": 696,
   "metadata": {},
   "outputs": [],
   "source": [
    "def flag4(qc: QuantumCircuit, first_qubit: int, c4: ClassicalRegister):\n",
    "    qc.h(first_qubit+8)\n",
    "    \n",
    "    for i in [0, 8, 1, 2, 8, 3]:\n",
    "        qc.cx(first_qubit+i, first_qubit+7)\n",
    "        \n",
    "    qc.h(first_qubit+8)\n",
    "    qc.measure([first_qubit+7, first_qubit+8], c4)"
   ]
  },
  {
   "cell_type": "code",
   "execution_count": 697,
   "metadata": {},
   "outputs": [],
   "source": [
    "def flag5(qc: QuantumCircuit, first_qubit: int, c5):\n",
    "    qc.h(first_qubit+8)\n",
    "        \n",
    "    for i in [1, 8, 2, 4, 8, 5]:\n",
    "        qc.cx(first_qubit+i, first_qubit+7)\n",
    "        \n",
    "    qc.h(first_qubit+8)\n",
    "    qc.measure([first_qubit+7, first_qubit+8], c5)"
   ]
  },
  {
   "cell_type": "code",
   "execution_count": 699,
   "metadata": {},
   "outputs": [],
   "source": [
    "def flag6(qc: QuantumCircuit, first_qubit: int, c6):\n",
    "    qc.h(first_qubit+8)\n",
    "    \n",
    "    for i in [2, 8, 3, 5, 8, 6]:\n",
    "        qc.cx(first_qubit+i, first_qubit+7)\n",
    "        \n",
    "    qc.h(first_qubit+8)\n",
    "    qc.measure([first_qubit+7, first_qubit+8], c6)"
   ]
  },
  {
   "attachments": {},
   "cell_type": "markdown",
   "metadata": {},
   "source": [
    "# Function for QEC"
   ]
  },
  {
   "cell_type": "code",
   "execution_count": 708,
   "metadata": {},
   "outputs": [],
   "source": [
    "def QEC(qc: QuantumCircuit, c1: ClassicalRegister, c2: ClassicalRegister, c3: ClassicalRegister, c4: ClassicalRegister, c5: ClassicalRegister, c6: ClassicalRegister, cs1: ClassicalRegister, cs2: ClassicalRegister, cs3: ClassicalRegister, cs4: ClassicalRegister, cs5: ClassicalRegister, cs6: ClassicalRegister):\n",
    "    # Measure flag1 circuit\n",
    "    flag1(qc, 0, c1)\n",
    "    qc.reset([7,8])\n",
    "    \n",
    "    # Path 1, flag and syndrome are 0 for flag1\n",
    "    do_nothing = QuantumCircuit(13)\n",
    "    do_nothing.add_register(c1, c2, c3, c4, c5, c6, cs1, cs2, cs3, cs4, cs5, cs6)\n",
    "    \n",
    "    # Path 2, flag or syndrome are 1 for flag1\n",
    "    all_stab1 = QuantumCircuit(13)\n",
    "    all_stab1.add_register(c1, c2, c3, c4, c5, c6, cs1, cs2, cs3, cs4, cs5, cs6)\n",
    "    stabilizer6(all_stab1, 0, cs1)\n",
    "    \n",
    "    first_if = IfElseOp((c1, 0), true_body=do_nothing, false_body=all_stab1)\n",
    "    qc.append(first_if, list(range(13)), c1[:] + c2[:] + c3[:] + c4[:] + c5[:] + c6[:] + cs1[:] + cs2[:] + cs3[:] +cs4[:] + cs5[:] + cs6[:])\n",
    "    \n",
    "    # Measure flag2 circuit\n",
    "    flag2(qc, 0, c2)\n",
    "    qc.reset([7,8])\n",
    "    \n",
    "    # Path 1, flag and syndrome are 0 for flag2\n",
    "    # Path 2, flag or syndrome are 1 for flag2\n",
    "    all_stab2 = QuantumCircuit(13)\n",
    "    all_stab2.add_register(c1, c2, c3, c4, c5, c6, cs1, cs2, cs3, cs4, cs5, cs6)\n",
    "    stabilizer6(all_stab2, 0, cs2)\n",
    "    \n",
    "    second_if = IfElseOp((c2, 0), true_body=do_nothing, false_body=all_stab2)\n",
    "    qc.append(second_if, list(range(13)), c1[:] + c2[:] + c3[:] + c4[:] + c5[:] + c6[:] + cs1[:] + cs2[:] + cs3[:] +cs4[:] + cs5[:] + cs6[:])\n",
    "    \n",
    "    # Measure flag3 circuit\n",
    "    flag3(qc, 0, c3)\n",
    "    qc.reset([7,8])\n",
    "    \n",
    "    # Path 1, flag and syndrome are 0 for flag3\n",
    "    # Path 2, flag or syndrome are 1 for flag3\n",
    "    all_stab3 = QuantumCircuit(13)\n",
    "    all_stab3.add_register(c1, c2, c3, c4, c5, c6, cs1, cs2, cs3, cs4, cs5, cs6)\n",
    "    stabilizer6(all_stab3, 0, cs3)\n",
    "    \n",
    "    third_if = IfElseOp((c3, 0), true_body=do_nothing, false_body=all_stab3)\n",
    "    qc.append(third_if, list(range(13)), c1[:] + c2[:] + c3[:] + c4[:] + c5[:] + c6[:] + cs1[:] + cs2[:] + cs3[:] +cs4[:] + cs5[:] + cs6[:])\n",
    "    \n",
    "    # Measure flag4 circuit\n",
    "    flag4(qc, 0, c4)\n",
    "    qc.reset([7,8])\n",
    "    \n",
    "    # Path 1, flag and syndrome are 0 for flag4\n",
    "    # Path 2, flag or syndrome are 1 for flag4\n",
    "    all_stab4 = QuantumCircuit(13)\n",
    "    all_stab4.add_register(c1, c2, c3, c4, c5, c6, cs1, cs2, cs3, cs4, cs5, cs6)\n",
    "    stabilizer6(all_stab4, 0, cs4)\n",
    "    \n",
    "    fourth_if = IfElseOp((c4, 0), true_body=do_nothing, false_body=all_stab4)\n",
    "    qc.append(fourth_if, list(range(13)), c1[:] + c2[:] + c3[:] + c4[:] + c5[:] + c6[:] + cs1[:] + cs2[:] + cs3[:] +cs4[:] + cs5[:] + cs6[:])\n",
    "    \n",
    "    # Measure flag5 circuit\n",
    "    flag5(qc, 0, c5)\n",
    "    qc.reset([7,8])\n",
    "    \n",
    "    # Path 1, flag and syndrome are 0 for flag5\n",
    "    # Path 2, flag or syndrome are 1 for flag5\n",
    "    all_stab5 = QuantumCircuit(13)\n",
    "    all_stab5.add_register(c1, c2, c3, c4, c5, c6, cs1, cs2, cs3, cs4, cs5, cs6)\n",
    "    stabilizer6(all_stab5, 0, cs5)\n",
    "    \n",
    "    fifth_if = IfElseOp((c5, 0), true_body=do_nothing, false_body=all_stab5)\n",
    "    qc.append(fifth_if, list(range(13)), c1[:] + c2[:] + c3[:] + c4[:] + c5[:] + c6[:] + cs1[:] + cs2[:] + cs3[:] +cs4[:] + cs5[:] + cs6[:])\n",
    "    \n",
    "    # Measure flag6 circuit\n",
    "    flag6(qc, 0, c6)\n",
    "    qc.reset([7,8])\n",
    "    \n",
    "    # Path 1, flag and syndrome are 0 for flag6\n",
    "    # Path 2, flag or syndrome are 1 for flag6\n",
    "    all_stab6 = QuantumCircuit(13)\n",
    "    all_stab6.add_register(c1, c2, c3, c4, c5, c6, cs1, cs2, cs3, cs4, cs5, cs6)\n",
    "    stabilizer6(all_stab6, 0, cs6)\n",
    "    \n",
    "    sixth_if = IfElseOp((c6, 0), true_body=do_nothing, false_body=all_stab6)\n",
    "    qc.append(sixth_if, list(range(13)), c1[:] + c2[:] + c3[:] + c4[:] + c5[:] + c6[:] + cs1[:] + cs2[:] + cs3[:] +cs4[:] + cs5[:] + cs6[:])\n",
    "    "
   ]
  },
  {
   "attachments": {},
   "cell_type": "markdown",
   "metadata": {},
   "source": [
    "# Encoding + 1 Round of EC"
   ]
  },
  {
   "cell_type": "code",
   "execution_count": 709,
   "metadata": {},
   "outputs": [],
   "source": [
    "noise_model = NoiseModel()\n",
    "\n",
    "noise_model.add_all_qubit_quantum_error(depolarizing_error(0.005,1), ['id'])\n",
    "noise_model.add_all_qubit_quantum_error(depolarizing_error(0.005,1), ['h'])\n",
    "noise_model.add_all_qubit_quantum_error(depolarizing_error(0.05,2), ['cx'])\n",
    "\n",
    "# 5% chance of flipping 0 <-> 1\n",
    "readout_err = ReadoutError([[0.995, 0.005],  # P(measured 0 | actual 0), P(1 | 0)\n",
    "                            [0.005, 0.995]]) # P(0 | 1), P(1 | 1)\n",
    "\n",
    "# Apply to all qubits being measured\n",
    "noise_model.add_readout_error(readout_err, [7]) \n",
    "noise_model.add_readout_error(readout_err, [8])\n",
    "noise_model.add_readout_error(readout_err, [9])\n",
    "noise_model.add_readout_error(readout_err, [10])\n",
    "noise_model.add_readout_error(readout_err, [11])\n",
    "noise_model.add_readout_error(readout_err, [12])"
   ]
  },
  {
   "cell_type": "code",
   "execution_count": 744,
   "metadata": {},
   "outputs": [
    {
     "name": "stdout",
     "output_type": "stream",
     "text": [
      "Result(backend_name='aer_simulator', backend_version='0.14.2', qobj_id='', job_id='75394de0-c576-4bd6-9978-1dd49e82a012', success=True, results=[ExperimentResult(shots=1, success=True, meas_level=2, data=ExperimentResultData(counts={'0x30b1609': 1}, memory=['0x30b1609'], statevector_post={'0x30b1609': [Statevector([2.74404926e-15+3.34117436e-01j,\n",
      "             4.55099764e-31+2.94392336e-17j,\n",
      "             0.00000000e+00+0.00000000e+00j, ...,\n",
      "             0.00000000e+00+0.00000000e+00j,\n",
      "             0.00000000e+00+0.00000000e+00j,\n",
      "             0.00000000e+00+0.00000000e+00j],\n",
      "            dims=(2, 2, 2, 2, 2, 2, 2, 2, 2, 2, 2, 2, 2))]}), header=QobjExperimentHeader(creg_sizes=[['c1', 2], ['cs1', 6], ['c2', 2], ['cs2', 6], ['c3', 2], ['cs3', 6], ['c4', 2], ['cs4', 6], ['c5', 2], ['cs5', 6], ['c6', 2], ['cs6', 6]], global_phase=4.71238898038469, memory_slots=48, n_qubits=13, name='circuit-2853', qreg_sizes=[['q', 13]], metadata={}), status=DONE, seed_simulator=1920908839, metadata={'num_bind_params': 1, 'runtime_parameter_bind': False, 'parallel_state_update': 12, 'parallel_shots': 1, 'noise': 'circuit', 'batched_shots_optimization': False, 'remapped_qubits': False, 'active_input_qubits': [0, 1, 2, 3, 4, 5, 6, 7, 8, 9, 10, 11, 12], 'device': 'CPU', 'time_taken': 0.04108724, 'measure_sampling': False, 'num_clbits': 48, 'max_memory_mb': 32768, 'input_qubit_map': [[12, 12], [11, 11], [10, 10], [9, 9], [8, 8], [7, 7], [6, 6], [5, 5], [4, 4], [3, 3], [2, 2], [1, 1], [0, 0]], 'num_qubits': 13, 'method': 'statevector', 'required_memory_mb': 1, 'fusion': {'applied': False, 'max_fused_qubits': 5, 'threshold': 14, 'enabled': True}, 'result_types': {'statevector_post': 'save_statevector'}, 'result_subtypes': {'statevector_post': 'c_list'}}, time_taken=0.04108724)], date=2025-07-08T21:48:23.491353, status=COMPLETED, header=None, metadata={'time_taken_parameter_binding': 0.000119759, 'max_memory_mb': 32768, 'time_taken_execute': 0.041408069, 'omp_enabled': True, 'max_gpu_memory_mb': 0, 'parallel_experiments': 1}, time_taken=0.08385372161865234)\n",
      "['000000 00 000000 00 000000 11 000010 11 000101 10 000010 01']\n"
     ]
    }
   ],
   "source": [
    "qc = QuantumCircuit(13)\n",
    "\n",
    "# Classical Registers for flag1 measurements\n",
    "c1 = ClassicalRegister(2, \"c1\")\n",
    "cs1 = ClassicalRegister(6, \"cs1\")\n",
    "# Classical Registers for flag2 measurements\n",
    "c2 = ClassicalRegister(2, \"c2\")\n",
    "cs2 = ClassicalRegister(6, \"cs2\")\n",
    "# Classical Registers for flag3 measurements\n",
    "c3 = ClassicalRegister(2, \"c3\")\n",
    "cs3 = ClassicalRegister(6, \"cs3\")\n",
    "# Classical Registers for flag4 measurements\n",
    "c4 = ClassicalRegister(2, \"c4\")\n",
    "cs4 = ClassicalRegister(6, \"cs4\")\n",
    "# Classical Registers for flag5 measurements\n",
    "c5 = ClassicalRegister(2, \"c5\")\n",
    "cs5 = ClassicalRegister(6, \"cs5\")\n",
    "# Classical Registers for flag6 measurements\n",
    "c6 = ClassicalRegister(2, \"c6\")\n",
    "cs6 = ClassicalRegister(6, \"cs6\")\n",
    "\n",
    "qc.add_register(c1, cs1, c2, cs2, c3, cs3, c4, cs4, c5, cs5, c6, cs6)\n",
    "\n",
    "encoding(qc)\n",
    "\n",
    "QEC(qc, c1, c2, c3, c4, c5, c6, cs1, cs2, cs3, cs4, cs5, cs6)\n",
    "\n",
    "qc.save_statevector(label='statevector_post', pershot=True, conditional=True)\n",
    "\n",
    "backend = AerSimulator(noise_model=noise_model)\n",
    "transpiled = transpile(qc, backend, optimization_level=0)\n",
    "job = backend.run(transpiled, shots=1, memory=True)\n",
    "result = job.result()\n",
    "memory = result.get_memory()\n",
    "\n",
    "print(result)\n",
    "print(memory)"
   ]
  },
  {
   "cell_type": "code",
   "execution_count": 745,
   "metadata": {},
   "outputs": [
    {
     "name": "stdout",
     "output_type": "stream",
     "text": [
      "['IIIIZII', 'IIIIIII', 'IIIIIII', 'IIIIIII', 'IIIIIII', 'IIIIIII']\n"
     ]
    }
   ],
   "source": [
    "corrections = allstab_lookup(memory)\n",
    "print(corrections)"
   ]
  },
  {
   "cell_type": "code",
   "execution_count": 748,
   "metadata": {},
   "outputs": [
    {
     "name": "stdout",
     "output_type": "stream",
     "text": [
      "Statevector([2.74404926e-15+3.34117436e-01j,\n",
      "             4.55099764e-31+2.94392336e-17j,\n",
      "             0.00000000e+00+0.00000000e+00j, ...,\n",
      "             0.00000000e+00+0.00000000e+00j,\n",
      "             0.00000000e+00+0.00000000e+00j,\n",
      "             0.00000000e+00+0.00000000e+00j],\n",
      "            dims=(2, 2, 2, 2, 2, 2, 2, 2, 2, 2, 2, 2, 2))\n"
     ]
    }
   ],
   "source": [
    "sv = result.data()['statevector_post']['0x30b1609'][0]\n",
    "print(sv)"
   ]
  },
  {
   "cell_type": "code",
   "execution_count": 749,
   "metadata": {},
   "outputs": [],
   "source": [
    "for correction in corrections:\n",
    "    pauli13_label = correction + 'I'*6\n",
    "    pauli13 = Pauli(pauli13_label)\n",
    "    U = Operator(pauli13)\n",
    "    sv = sv.evolve(U)"
   ]
  },
  {
   "cell_type": "code",
   "execution_count": 750,
   "metadata": {},
   "outputs": [],
   "source": [
    "red_sv = partial_trace(sv, [7, 8, 9, 10, 11, 12])"
   ]
  },
  {
   "cell_type": "code",
   "execution_count": 751,
   "metadata": {},
   "outputs": [
    {
     "data": {
      "text/latex": [
       "$$\n",
       "\n",
       "\\begin{bmatrix}\n",
       "0.1116344611 & 0 & 0 & 0 & \\cdots & 0 & 0 & \\frac{2^{\\frac{9}{65}} \\cdot 3^{\\frac{19}{65}} \\cdot 5^{\\frac{602}{715}} \\cdot 7^{\\frac{51}{715}}}{175}  \\\\\n",
       " 0 & 0 & 0 & 0 & \\cdots & 0 & 0 & 0  \\\\\n",
       " 0 & 0 & 0 & 0 & \\cdots & 0 & 0 & 0  \\\\\n",
       " 0 & 0 & 0 & 0 & \\cdots & 0 & 0 & 0  \\\\\n",
       " \\vdots & \\vdots & \\vdots & \\vdots & \\ddots & \\vdots & \\vdots & \\vdots \\\\\n",
       " 0 & 0 & 0 & 0 & \\cdots & 0 & 0 & 0  \\\\\n",
       " 0 & 0 & 0 & 0 & \\cdots & 0 & 0 & 0  \\\\\n",
       " \\frac{2^{\\frac{9}{65}} \\cdot 3^{\\frac{19}{65}} \\cdot 5^{\\frac{602}{715}} \\cdot 7^{\\frac{51}{715}}}{175} & 0 & 0 & 0 & \\cdots & 0 & 0 & 0.0133655389  \\\\\n",
       " \\end{bmatrix}\n",
       "$$"
      ],
      "text/plain": [
       "<IPython.core.display.Latex object>"
      ]
     },
     "metadata": {},
     "output_type": "display_data"
    }
   ],
   "source": [
    "display(red_sv.draw(\"latex\"))"
   ]
  },
  {
   "cell_type": "code",
   "execution_count": 752,
   "metadata": {},
   "outputs": [
    {
     "data": {
      "text/latex": [
       "$$\n",
       "\n",
       "\\begin{bmatrix}\n",
       "0.1116344611 & 0 & 0 & 0 & \\cdots & 0 & 0 & \\frac{2^{\\frac{9}{65}} \\cdot 3^{\\frac{19}{65}} \\cdot 5^{\\frac{602}{715}} \\cdot 7^{\\frac{51}{715}}}{175}  \\\\\n",
       " 0 & 0 & 0 & 0 & \\cdots & 0 & 0 & 0  \\\\\n",
       " 0 & 0 & 0 & 0 & \\cdots & 0 & 0 & 0  \\\\\n",
       " 0 & 0 & 0 & 0 & \\cdots & 0 & 0 & 0  \\\\\n",
       " \\vdots & \\vdots & \\vdots & \\vdots & \\ddots & \\vdots & \\vdots & \\vdots \\\\\n",
       " 0 & 0 & 0 & 0 & \\cdots & 0 & 0 & 0  \\\\\n",
       " 0 & 0 & 0 & 0 & \\cdots & 0 & 0 & 0  \\\\\n",
       " \\frac{2^{\\frac{9}{65}} \\cdot 3^{\\frac{19}{65}} \\cdot 5^{\\frac{602}{715}} \\cdot 7^{\\frac{51}{715}}}{175} & 0 & 0 & 0 & \\cdots & 0 & 0 & 0.0133655389  \\\\\n",
       " \\end{bmatrix}\n",
       "$$"
      ],
      "text/plain": [
       "<IPython.core.display.Latex object>"
      ]
     },
     "metadata": {},
     "output_type": "display_data"
    }
   ],
   "source": [
    "test = QuantumCircuit(7)\n",
    "encoding(test)\n",
    "test = DensityMatrix(test)\n",
    "display(test.draw(\"latex\"))"
   ]
  },
  {
   "cell_type": "code",
   "execution_count": 753,
   "metadata": {},
   "outputs": [
    {
     "name": "stdout",
     "output_type": "stream",
     "text": [
      "False\n"
     ]
    }
   ],
   "source": [
    "print(red_sv == test)"
   ]
  },
  {
   "cell_type": "code",
   "execution_count": null,
   "metadata": {},
   "outputs": [],
   "source": []
  }
 ],
 "metadata": {
  "kernelspec": {
   "display_name": "Python (algos)",
   "language": "python",
   "name": "my-env"
  },
  "language_info": {
   "codemirror_mode": {
    "name": "ipython",
    "version": 3
   },
   "file_extension": ".py",
   "mimetype": "text/x-python",
   "name": "python",
   "nbconvert_exporter": "python",
   "pygments_lexer": "ipython3",
   "version": "3.12.4"
  },
  "orig_nbformat": 4
 },
 "nbformat": 4,
 "nbformat_minor": 2
}
