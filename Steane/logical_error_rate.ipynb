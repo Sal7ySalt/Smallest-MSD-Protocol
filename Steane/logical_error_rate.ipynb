{
 "cells": [
  {
   "attachments": {},
   "cell_type": "markdown",
   "metadata": {},
   "source": [
    "# Not Using Pauli Frame Update"
   ]
  },
  {
   "cell_type": "code",
   "execution_count": 1,
   "metadata": {},
   "outputs": [
    {
     "name": "stdout",
     "output_type": "stream",
     "text": [
      "2.1.1\n"
     ]
    }
   ],
   "source": [
    "from qiskit import __version__\n",
    "print(__version__)"
   ]
  },
  {
   "cell_type": "code",
   "execution_count": 2,
   "metadata": {},
   "outputs": [],
   "source": [
    "from qiskit import QuantumCircuit, ClassicalRegister, QuantumRegister\n",
    "from qiskit.quantum_info import Statevector, state_fidelity, partial_trace, DensityMatrix, Pauli\n",
    "from qiskit.quantum_info.operators import Operator\n",
    "from qiskit_aer import AerSimulator\n",
    "from qiskit.visualization import plot_histogram\n",
    "from qiskit import transpile \n",
    "import numpy as np\n",
    "from qiskit_aer.noise import NoiseModel, depolarizing_error, ReadoutError\n",
    "from qiskit.circuit.controlflow import IfElseOp\n",
    "from qiskit.circuit.library import XGate, ZGate\n",
    "import matplotlib.pyplot as plt\n",
    "from collections import defaultdict"
   ]
  },
  {
   "cell_type": "code",
   "execution_count": 3,
   "metadata": {},
   "outputs": [],
   "source": [
    "import importlib\n",
    "import steane_ec_decoder2\n",
    "importlib.reload(steane_ec_decoder2)\n",
    "from steane_ec_decoder2 import lookup, transversal_cz_lookup"
   ]
  },
  {
   "cell_type": "code",
   "execution_count": 4,
   "metadata": {},
   "outputs": [],
   "source": [
    "# Custom Hadamard \n",
    "h_sub = QuantumCircuit(1, name='H_custom')\n",
    "h_sub.h(0)\n",
    "H_custom = h_sub.to_gate()\n",
    "\n",
    "# Custom CNOT \n",
    "cx_sub = QuantumCircuit(2, name='CX_custom')\n",
    "cx_sub.cx(0, 1)\n",
    "CX_custom = cx_sub.to_gate()\n",
    "\n",
    "# Custom CZ\n",
    "cz_sub = QuantumCircuit(2, name='CZ_custom')\n",
    "cz_sub.cz(0, 1)\n",
    "CZ_custom = cz_sub.to_gate()"
   ]
  },
  {
   "cell_type": "code",
   "execution_count": 5,
   "metadata": {},
   "outputs": [],
   "source": [
    "theta = np.arctan(np.sqrt((np.sqrt(5) - 1) / 2))\n",
    "amp_0 = np.cos(theta/2)\n",
    "amp_1 = np.sin(theta/2)"
   ]
  },
  {
   "attachments": {},
   "cell_type": "markdown",
   "metadata": {},
   "source": [
    "# Function for Encoding"
   ]
  },
  {
   "cell_type": "code",
   "execution_count": 6,
   "metadata": {},
   "outputs": [],
   "source": [
    "def encoding(qc: QuantumCircuit, first_qubit: int):\n",
    "    qc.initialize([amp_0, amp_1], first_qubit)\n",
    "    for i in range(7):\n",
    "        qc.id(first_qubit+i)\n",
    "    for i in range(4, 7):\n",
    "        qc.h(first_qubit+i)\n",
    "    qc.cx(first_qubit, first_qubit+1)\n",
    "    qc.cx(first_qubit, first_qubit+2)\n",
    "    qc.cx(first_qubit+6, first_qubit)\n",
    "    qc.cx(first_qubit+6, first_qubit+1)\n",
    "    qc.cx(first_qubit+5, first_qubit)\n",
    "    qc.cx(first_qubit+6, first_qubit+3)\n",
    "    qc.cx(first_qubit+5, first_qubit+2)\n",
    "    qc.cx(first_qubit+4, first_qubit+1)\n",
    "    qc.cx(first_qubit+5, first_qubit+3)\n",
    "    qc.cx(first_qubit+4, first_qubit+2)\n",
    "    qc.cx(first_qubit+4, first_qubit+3)"
   ]
  },
  {
   "cell_type": "code",
   "execution_count": 7,
   "metadata": {},
   "outputs": [],
   "source": [
    "def perfect_encoding(qc: QuantumCircuit, first_qubit: int):\n",
    "    qc.initialize([amp_0, amp_1], first_qubit)\n",
    "    for i in range(4, 7):\n",
    "        qc.append(H_custom, [first_qubit+i])\n",
    "    qc.append(CX_custom, [first_qubit, first_qubit+1])\n",
    "    qc.append(CX_custom, [first_qubit, first_qubit+2])\n",
    "    qc.append(CX_custom, [first_qubit+6, first_qubit])\n",
    "    qc.append(CX_custom, [first_qubit+6, first_qubit+1])\n",
    "    qc.append(CX_custom, [first_qubit+5, first_qubit])\n",
    "    qc.append(CX_custom, [first_qubit+6, first_qubit+3])\n",
    "    qc.append(CX_custom, [first_qubit+5, first_qubit+2])\n",
    "    qc.append(CX_custom, [first_qubit+4, first_qubit+1])\n",
    "    qc.append(CX_custom, [first_qubit+5, first_qubit+3])\n",
    "    qc.append(CX_custom, [first_qubit+4, first_qubit+2])\n",
    "    qc.append(CX_custom, [first_qubit+4, first_qubit+3])"
   ]
  },
  {
   "attachments": {},
   "cell_type": "markdown",
   "metadata": {},
   "source": [
    "# Functions for Logical |0> and Logical |+>"
   ]
  },
  {
   "cell_type": "code",
   "execution_count": 8,
   "metadata": {},
   "outputs": [],
   "source": [
    "def logical_zero(qc: QuantumCircuit, first_qubit: int):\n",
    "    for i in [0, 1, 3]:\n",
    "        qc.append(H_custom, [first_qubit+i])\n",
    "    \n",
    "    qc.append(CX_custom, [first_qubit, first_qubit+4])\n",
    "    qc.append(CX_custom, [first_qubit+1, first_qubit+2])\n",
    "    qc.append(CX_custom, [first_qubit+3, first_qubit+5])\n",
    "    qc.append(CX_custom, [first_qubit, first_qubit+6])\n",
    "    qc.append(CX_custom, [first_qubit+3, first_qubit+4])\n",
    "    qc.append(CX_custom, [first_qubit+1, first_qubit+5])\n",
    "    qc.append(CX_custom, [first_qubit, first_qubit+2])\n",
    "    qc.append(CX_custom, [first_qubit+5, first_qubit+6])"
   ]
  },
  {
   "cell_type": "code",
   "execution_count": 9,
   "metadata": {},
   "outputs": [],
   "source": [
    "def logical_plus(qc: QuantumCircuit, first_qubit: int):\n",
    "    logical_zero(qc, first_qubit)\n",
    "    for i in range(7):\n",
    "        qc.append(H_custom, [first_qubit+i])"
   ]
  },
  {
   "attachments": {},
   "cell_type": "markdown",
   "metadata": {},
   "source": [
    "# Functions for Stabilizer Extraction "
   ]
  },
  {
   "cell_type": "code",
   "execution_count": 10,
   "metadata": {},
   "outputs": [],
   "source": [
    "def unflag(qc: QuantumCircuit, first_qubit: int, c1: ClassicalRegister, c2: ClassicalRegister):\n",
    "    logical_plus(qc, first_qubit+7)\n",
    "    \n",
    "    for i in range(7):\n",
    "        qc.cx(first_qubit+i, first_qubit+i+7)\n",
    "    qc.measure([first_qubit+7, first_qubit+8, first_qubit+9, first_qubit+10, first_qubit+11, first_qubit+12, first_qubit+13], c1)\n",
    "    \n",
    "    qc.reset([first_qubit+7, first_qubit+8, first_qubit+9, first_qubit+10, first_qubit+11, first_qubit+12, first_qubit+13])\n",
    "    \n",
    "    logical_zero(qc, first_qubit+7)\n",
    "    \n",
    "    for i in range(7):\n",
    "        qc.cx(first_qubit+i+7, first_qubit+i)\n",
    "        qc.h(first_qubit+i+7)\n",
    "    qc.measure([first_qubit+7, first_qubit+8, first_qubit+9, first_qubit+10, first_qubit+11, first_qubit+12, first_qubit+13], c2)"
   ]
  },
  {
   "cell_type": "code",
   "execution_count": 11,
   "metadata": {},
   "outputs": [],
   "source": [
    "def flag(qc: QuantumCircuit, first_qubit: int, c: ClassicalRegister):\n",
    "    for i in [first_qubit+7, first_qubit+11, first_qubit+12]:\n",
    "        qc.h(i)\n",
    "        \n",
    "    qc.cx(first_qubit+7, first_qubit+4)\n",
    "    qc.cx(first_qubit+6, first_qubit+8)\n",
    "    qc.cx(first_qubit+5, first_qubit+9)\n",
    "    qc.cx(first_qubit+7, first_qubit+9)\n",
    "    qc.cx(first_qubit+7, first_qubit)\n",
    "    qc.cx(first_qubit+4, first_qubit+8)\n",
    "    qc.cx(first_qubit+1, first_qubit+9)\n",
    "    qc.cx(first_qubit+7, first_qubit+2)\n",
    "    qc.cx(first_qubit+3, first_qubit+8)\n",
    "    qc.cx(first_qubit+6, first_qubit+9)\n",
    "    qc.cx(first_qubit+7, first_qubit+8)\n",
    "    qc.cx(first_qubit+7, first_qubit+6)\n",
    "    qc.cx(first_qubit+5, first_qubit+8)\n",
    "    qc.cx(first_qubit+2, first_qubit+9)\n",
    "    \n",
    "    qc.cx(first_qubit+4, first_qubit+10)\n",
    "    qc.cx(first_qubit+11, first_qubit+6)\n",
    "    qc.cx(first_qubit+12, first_qubit+5)\n",
    "    qc.cx(first_qubit+12, first_qubit+10)\n",
    "    qc.cx(first_qubit, first_qubit+10)\n",
    "    qc.cx(first_qubit+11, first_qubit+4)\n",
    "    qc.cx(first_qubit+12, first_qubit+1)\n",
    "    qc.cx(first_qubit+2, first_qubit+10)\n",
    "    qc.cx(first_qubit+11, first_qubit+3)\n",
    "    qc.cx(first_qubit+12, first_qubit+6)\n",
    "    qc.cx(first_qubit+11, first_qubit+10)\n",
    "    qc.cx(first_qubit+6, first_qubit+10)\n",
    "    qc.cx(first_qubit+11, first_qubit+5)\n",
    "    qc.cx(first_qubit+12, first_qubit+2)\n",
    "    \n",
    "    for i in [first_qubit+7, first_qubit+11, first_qubit+12]:\n",
    "        qc.h(i)\n",
    "    \n",
    "    qc.measure([first_qubit+7, first_qubit+8, first_qubit+9, first_qubit+10, first_qubit+11, first_qubit+12], c)"
   ]
  },
  {
   "attachments": {},
   "cell_type": "markdown",
   "metadata": {},
   "source": [
    "# Function for QEC"
   ]
  },
  {
   "cell_type": "code",
   "execution_count": 12,
   "metadata": {},
   "outputs": [],
   "source": [
    "def QEC(qc: QuantumCircuit, first_qubit: int, c: ClassicalRegister, c1: ClassicalRegister, c2: ClassicalRegister):\n",
    "    flag(qc, first_qubit, c)\n",
    "    qc.reset([first_qubit+7, first_qubit+8, first_qubit+9, first_qubit+10, first_qubit+11, first_qubit+12])\n",
    "    \n",
    "    # Path 1: if c is all 0, then do nothing\n",
    "    path1 = QuantumCircuit(14)\n",
    "    path1.add_register(c, c1, c2)\n",
    "    # Path 2: if c is anything else\n",
    "    path2 = QuantumCircuit(14)\n",
    "    path2.add_register(c, c1, c2)\n",
    "    unflag(path2, first_qubit, c1, c2)\n",
    "    \n",
    "    first_if = IfElseOp((c, 0), true_body=path1, false_body=path2)\n",
    "    qc.append(first_if, list(range(14)), c[:] + c1[:] + c2[:])"
   ]
  },
  {
   "attachments": {},
   "cell_type": "markdown",
   "metadata": {},
   "source": [
    "# Encoding + 1 Round of EC"
   ]
  },
  {
   "cell_type": "code",
   "execution_count": 46,
   "metadata": {},
   "outputs": [],
   "source": [
    "ideal = QuantumCircuit(7)\n",
    "perfect_encoding(ideal, 0)\n",
    "ideal = DensityMatrix(ideal)\n",
    "\n",
    "\n",
    "err_rates = [0.0001, 0.0002, 0.0003, 0.0004, 0.0005, 0.0006, 0.0007, 0.0008, 0.0009, 0.001]\n",
    "logical_error_rates = []\n",
    "unc = []\n",
    "for p1 in err_rates:\n",
    "    #################################################################################\n",
    "    # Error model\n",
    "    p2 = p1 * 10\n",
    "    noise_model = NoiseModel()\n",
    "\n",
    "    noise_model.add_all_qubit_quantum_error(depolarizing_error(p1,1), ['id'])\n",
    "    noise_model.add_all_qubit_quantum_error(depolarizing_error(p1,1), ['h'])\n",
    "    noise_model.add_all_qubit_quantum_error(depolarizing_error(p2,2), ['cx'])\n",
    "\n",
    "    # 0.5% chance of flipping 0 <-> 1\n",
    "    readout_err = ReadoutError([[1-p2, p2],  # P(measured 0 | actual 0), P(1 | 0)\n",
    "                                [p2, 1-p2]]) # P(0 | 1), P(1 | 1)\n",
    "\n",
    "    # Apply to all qubits being measured\n",
    "    noise_model.add_readout_error(readout_err, [7]) \n",
    "    noise_model.add_readout_error(readout_err, [8])\n",
    "    noise_model.add_readout_error(readout_err, [9])\n",
    "    noise_model.add_readout_error(readout_err, [10])\n",
    "    noise_model.add_readout_error(readout_err, [11])\n",
    "    noise_model.add_readout_error(readout_err, [12])\n",
    "    noise_model.add_readout_error(readout_err, [13])\n",
    "    #################################################################################\n",
    "    # Encoding + 1 Round of EC and running shots\n",
    "    qc = QuantumCircuit(14)\n",
    "\n",
    "    c = ClassicalRegister(6, \"c\")\n",
    "    c1 = ClassicalRegister(7, \"c1\")\n",
    "    c2 = ClassicalRegister(7, \"c2\")\n",
    "\n",
    "    qc.add_register(c, c1, c2)\n",
    "\n",
    "    encoding(qc, 0)\n",
    "    QEC(qc, 0, c, c1, c2)\n",
    "\n",
    "    qc.save_statevector(label='statevector_post', pershot=True, conditional=True)\n",
    "\n",
    "    backend = AerSimulator(noise_model=noise_model)\n",
    "    transpiled = transpile(qc, backend, optimization_level=0)\n",
    "    job = backend.run(transpiled, shots=100, memory=True)\n",
    "    result = job.result()\n",
    "    memory = result.get_memory()\n",
    "    #################################################################################\n",
    "    # Create array with keys (hex results) and values (statevectors)\n",
    "    hex_to_sv = []\n",
    "    hex_mem = result.data()['memory']\n",
    "\n",
    "    seen = defaultdict(int)\n",
    "    for mem in hex_mem:\n",
    "        idx = seen[mem]\n",
    "        val = result.data()['statevector_post'][mem][idx]\n",
    "        hex_to_sv.append({mem:val})\n",
    "        seen[mem] += 1\n",
    "    #################################################################################\n",
    "    # Apply corrections to each statevector in above array\n",
    "    sv_correction = []\n",
    "    for i, result in enumerate(hex_to_sv):\n",
    "        hex, sv14 = next(iter(result.items()))\n",
    "        correction_x, correction_z = lookup(memory[i])\n",
    "        if (correction_x is None or correction_z is None):\n",
    "            continue\n",
    "        correction_z = \"I\"*7 + correction_z[::-1]\n",
    "        correction_x = \"I\"*7 + correction_x[::-1]\n",
    "        Pauli_cz = Pauli(correction_z)\n",
    "        Pauli_cx = Pauli(correction_x)\n",
    "        sv14 = sv14.evolve(Pauli_cz)\n",
    "        sv14 = sv14.evolve(Pauli_cx)\n",
    "        sv_correction.append(sv14)\n",
    "    #################################################################################\n",
    "    # Count the correct outputs\n",
    "    sum = 0\n",
    "    for sv in sv_correction:\n",
    "        sv = partial_trace(sv, [7, 8, 9, 10, 11, 12, 13])\n",
    "        if (sv == ideal):\n",
    "        #if (np.round(state_fidelity(sv, ideal)) == 1.0):\n",
    "            sum += 1\n",
    "    #################################################################################\n",
    "    # Computing uncertainty and add to uncertainty array\n",
    "    num_meas = len(sv_correction)\n",
    "    error_rate = sum / num_meas\n",
    "    unc.append(1.96 * np.sqrt( (error_rate * (1 - error_rate) / num_meas) ))\n",
    "    #################################################################################\n",
    "    # Add logical error rate to resulting array\n",
    "    logical_error_rates.append(sum / len(sv_correction))"
   ]
  },
  {
   "cell_type": "code",
   "execution_count": 47,
   "metadata": {},
   "outputs": [
    {
     "data": {
      "image/png": "[encoded data removed]",
      "text/plain": [
       "<Figure size 700x500 with 1 Axes>"
      ]
     },
     "metadata": {},
     "output_type": "display_data"
    }
   ],
   "source": [
    "plt.figure(figsize=(7, 5))\n",
    "plt.errorbar(\n",
    "    err_rates,\n",
    "    logical_error_rates,\n",
    "    yerr=unc,\n",
    "    fmt='o-',           # circle marker and solid line\n",
    "    capsize=3,          # length of the little “T” caps on each bar\n",
    "    elinewidth=1,       # width of the error‐bar lines\n",
    "    markeredgewidth=1\n",
    ")\n",
    "plt.xlabel(\"Depolarizing Noise Probability for 1Q Gates\", fontsize=12)\n",
    "plt.ylabel(\"Encoding Logical Error Rates\", fontsize=12)\n",
    "plt.title(f\"$P_2 = 10 * P_1$\")\n",
    "plt.grid(True)\n",
    "plt.tight_layout()\n",
    "#plt.yscale('log')\n",
    "#plt.xscale('log')\n",
    "plt.show()"
   ]
  },
  {
   "attachments": {},
   "cell_type": "markdown",
   "metadata": {},
   "source": [
    "# Logical Error Rate for Hadamard"
   ]
  },
  {
   "cell_type": "code",
   "execution_count": null,
   "metadata": {},
   "outputs": [],
   "source": [
    "ideal = QuantumCircuit(7)\n",
    "perfect_encoding(ideal, 0)\n",
    "for i in range(7):\n",
    "    ideal.append(H_custom, [i])\n",
    "ideal = DensityMatrix(ideal)\n",
    "\n",
    "\n",
    "err_rates = [0.0001, 0.0002, 0.0003, 0.0004, 0.0005, 0.0006, 0.0007, 0.0008, 0.0009, 0.001]\n",
    "logical_error_rates = []\n",
    "unc = []\n",
    "\n",
    "for p1 in err_rates:\n",
    "    #################################################################################\n",
    "    # Error model\n",
    "    p2 = p1 * 10\n",
    "    noise_model = NoiseModel()\n",
    "\n",
    "    noise_model.add_all_qubit_quantum_error(depolarizing_error(p1,1), ['id'])\n",
    "    noise_model.add_all_qubit_quantum_error(depolarizing_error(p1,1), ['h'])\n",
    "    noise_model.add_all_qubit_quantum_error(depolarizing_error(p2,2), ['cx'])\n",
    "\n",
    "    # 0.5% chance of flipping 0 <-> 1\n",
    "    readout_err = ReadoutError([[1-p2, p2],  # P(measured 0 | actual 0), P(1 | 0)\n",
    "                                [p2, 1-p2]]) # P(0 | 1), P(1 | 1)\n",
    "\n",
    "    # Apply to all qubits being measured\n",
    "    noise_model.add_readout_error(readout_err, [7]) \n",
    "    noise_model.add_readout_error(readout_err, [8])\n",
    "    noise_model.add_readout_error(readout_err, [9])\n",
    "    noise_model.add_readout_error(readout_err, [10])\n",
    "    noise_model.add_readout_error(readout_err, [11])\n",
    "    noise_model.add_readout_error(readout_err, [12])\n",
    "    noise_model.add_readout_error(readout_err, [13])\n",
    "    #################################################################################\n",
    "    # Encoding + 1 Round of EC and running shots\n",
    "    qc = QuantumCircuit(14)\n",
    "\n",
    "    c = ClassicalRegister(6, \"c\")\n",
    "    c1 = ClassicalRegister(7, \"c1\")\n",
    "    c2 = ClassicalRegister(7, \"c2\")\n",
    "\n",
    "    qc.add_register(c, c1, c2)\n",
    "\n",
    "    encoding(qc, 0)\n",
    "    for i in range(7):\n",
    "        qc.h(i)\n",
    "    QEC(qc, 0, c, c1, c2)\n",
    "\n",
    "    qc.save_statevector(label='statevector_post', pershot=True, conditional=True)\n",
    "\n",
    "    backend = AerSimulator(noise_model=noise_model)\n",
    "    transpiled = transpile(qc, backend, optimization_level=0)\n",
    "    job = backend.run(transpiled, shots=1000, memory=True)\n",
    "    result = job.result()\n",
    "    memory = result.get_memory()\n",
    "    #################################################################################\n",
    "    # Create array with keys (hex results) and values (statevectors)\n",
    "    hex_to_sv = []\n",
    "    hex_mem = result.data()['memory']\n",
    "\n",
    "    seen = defaultdict(int)\n",
    "    for mem in hex_mem:\n",
    "        idx = seen[mem]\n",
    "        val = result.data()['statevector_post'][mem][idx]\n",
    "        hex_to_sv.append({mem:val})\n",
    "        seen[mem] += 1\n",
    "    #################################################################################\n",
    "    # Apply corrections to each statevector in above array\n",
    "    sv_correction = []\n",
    "    for i, result in enumerate(hex_to_sv):\n",
    "        hex, sv14 = next(iter(result.items()))\n",
    "        correction_x, correction_z = lookup(memory[i])\n",
    "        if (correction_x is None or correction_z is None):\n",
    "            continue\n",
    "        correction_z = \"I\"*7 + correction_z[::-1]\n",
    "        correction_x = \"I\"*7 + correction_x[::-1]\n",
    "        Pauli_cz = Pauli(correction_z)\n",
    "        Pauli_cx = Pauli(correction_x)\n",
    "        sv14 = sv14.evolve(Pauli_cz)\n",
    "        sv14 = sv14.evolve(Pauli_cx)\n",
    "        sv_correction.append(sv14)\n",
    "    #################################################################################\n",
    "    # Count the correct outputs\n",
    "    sum = 0\n",
    "    for sv in sv_correction:\n",
    "        sv = partial_trace(sv, [7, 8, 9, 10, 11, 12, 13])\n",
    "        if (np.round(state_fidelity(sv, ideal)) == 1.0):\n",
    "            sum += 1\n",
    "    #################################################################################\n",
    "    # Computing uncertainty and add to uncertainty array\n",
    "    num_meas = len(sv_correction)\n",
    "    error_rate = sum / num_meas\n",
    "    unc.append(1.96 * np.sqrt( (error_rate * (1 - error_rate) / num_meas) ))\n",
    "    #################################################################################\n",
    "    # Add logical error rate to resulting array\n",
    "    logical_error_rates.append(sum / len(sv_correction))"
   ]
  },
  {
   "cell_type": "code",
   "execution_count": null,
   "metadata": {},
   "outputs": [
    {
     "data": {
      "image/png": "[encoded data removed]",
      "text/plain": [
       "<Figure size 700x500 with 1 Axes>"
      ]
     },
     "metadata": {},
     "output_type": "display_data"
    }
   ],
   "source": [
    "plt.figure(figsize=(7, 5))\n",
    "plt.errorbar(\n",
    "    err_rates,\n",
    "    logical_error_rates,\n",
    "    yerr=unc,\n",
    "    fmt='o-',           # circle marker and solid line\n",
    "    capsize=3,          # length of the little “T” caps on each bar\n",
    "    elinewidth=1,       # width of the error‐bar lines\n",
    "    markeredgewidth=1\n",
    ")\n",
    "plt.xlabel(\"Depolarizing Noise Probability for 1Q Gates\", fontsize=12)\n",
    "plt.ylabel(\"Encoding Logical Error Rates\", fontsize=12)\n",
    "plt.title(f\"$P_2 = 10 * P_1$ for Hadamard\")\n",
    "plt.grid(True)\n",
    "plt.tight_layout()\n",
    "#plt.yscale('log')\n",
    "#plt.xscale('log')\n",
    "plt.show()"
   ]
  },
  {
   "attachments": {},
   "cell_type": "markdown",
   "metadata": {},
   "source": [
    "# Logical Error Rate for CZ"
   ]
  },
  {
   "cell_type": "code",
   "execution_count": 12,
   "metadata": {},
   "outputs": [],
   "source": [
    "noise_model = NoiseModel()\n",
    "\n",
    "noise_model.add_all_qubit_quantum_error(depolarizing_error(0.0005,1), ['id'])\n",
    "noise_model.add_all_qubit_quantum_error(depolarizing_error(0.0005,1), ['h'])\n",
    "noise_model.add_all_qubit_quantum_error(depolarizing_error(0.005,2), ['cx'])\n",
    "noise_model.add_all_qubit_quantum_error(depolarizing_error(0.005,2), ['cz'])\n",
    "\n",
    "# 0.5% chance of flipping 0 <-> 1\n",
    "readout_err = ReadoutError([[0.995, 0.005],  # P(measured 0 | actual 0), P(1 | 0)\n",
    "                            [0.005, 0.995]]) # P(0 | 1), P(1 | 1)\n",
    "\n",
    "# Apply to all qubits being measured\n",
    "noise_model.add_readout_error(readout_err, [7]) \n",
    "noise_model.add_readout_error(readout_err, [8])\n",
    "noise_model.add_readout_error(readout_err, [9])\n",
    "noise_model.add_readout_error(readout_err, [10])\n",
    "noise_model.add_readout_error(readout_err, [11])\n",
    "noise_model.add_readout_error(readout_err, [12])\n",
    "noise_model.add_readout_error(readout_err, [13])\n",
    "noise_model.add_readout_error(readout_err, [14])\n",
    "noise_model.add_readout_error(readout_err, [15])\n",
    "noise_model.add_readout_error(readout_err, [16])\n",
    "noise_model.add_readout_error(readout_err, [17])\n",
    "noise_model.add_readout_error(readout_err, [18])\n",
    "noise_model.add_readout_error(readout_err, [19])\n",
    "noise_model.add_readout_error(readout_err, [20])\n",
    "noise_model.add_readout_error(readout_err, [21])\n",
    "noise_model.add_readout_error(readout_err, [22])\n",
    "noise_model.add_readout_error(readout_err, [23])"
   ]
  },
  {
   "attachments": {},
   "cell_type": "markdown",
   "metadata": {},
   "source": [
    "QEC Function for two blocks"
   ]
  },
  {
   "cell_type": "code",
   "execution_count": 13,
   "metadata": {},
   "outputs": [],
   "source": [
    "def QEC2part(qc: QuantumCircuit, first_qubit1: int, first_qubit2: int, c: ClassicalRegister, c1: ClassicalRegister, c2: ClassicalRegister, s: ClassicalRegister, s1: ClassicalRegister, s2: ClassicalRegister):\n",
    "    flag(qc, first_qubit1, c)\n",
    "    qc.reset([first_qubit1+7, first_qubit1+8, first_qubit1+9, first_qubit1+10, first_qubit1+11, first_qubit1+12])\n",
    "    \n",
    "    # Path 1: if c is all 0, then do nothing\n",
    "    path1 = QuantumCircuit(28)\n",
    "    path1.add_register(c, c1, c2, s, s1, s2)\n",
    "    # Path 2: if c is anything else\n",
    "    path2 = QuantumCircuit(28)\n",
    "    path2.add_register(c, c1, c2, s, s1, s2)\n",
    "    unflag(path2, first_qubit1, c1, c2)\n",
    "    \n",
    "    first_if = IfElseOp((c, 0), true_body=path1, false_body=path2)\n",
    "    qc.append(first_if, list(range(28)), c[:] + c1[:] + c2[:] + s[:] + s1[:] + s2[:])\n",
    "    \n",
    "    #########################\n",
    "    \n",
    "    flag(qc, first_qubit2, s)\n",
    "    qc.reset([first_qubit2+7, first_qubit2+8, first_qubit2+9, first_qubit2+10, first_qubit2+11, first_qubit2+12])\n",
    "    \n",
    "    # Path 3: if s is all 0, then do nothing\n",
    "    path3 = QuantumCircuit(28)\n",
    "    path3.add_register(c, c1, c2, s, s1, s2)\n",
    "    # Path 4: if s is anything else\n",
    "    path4 = QuantumCircuit(28)\n",
    "    path4.add_register(c, c1, c2, s, s1, s2)\n",
    "    unflag(path4, first_qubit2, s1, s2)\n",
    "    \n",
    "    second_if = IfElseOp((s, 0), true_body=path3, false_body=path4)\n",
    "    qc.append(second_if, list(range(28)), c[:] + c1[:] + c2[:] + s[:] + s1[:] + s2[:])"
   ]
  },
  {
   "cell_type": "code",
   "execution_count": 14,
   "metadata": {},
   "outputs": [
    {
     "name": "stdout",
     "output_type": "stream",
     "text": [
      "['0000000 0000000 000000 0000000 1111110 011000', '0000000 0000000 000000 0000111 0110011 010000', '0000000 0000000 000000 0000000 1010010 000100', '0000000 0000000 000000 0000000 0000000 000000', '1010010 0110110 000100 1100100 1010010 100100', '0000000 0000000 000000 0000000 0000000 000000', '0000000 0000000 000000 0000000 0000000 000000', '0000000 0000000 000000 0000000 0000000 000000', '0000000 0000000 000000 0000000 0000000 000000', '0000000 0000000 000000 0000000 0000000 000000', '0000000 0000000 000000 0000000 0000000 000000', '0000000 0000000 000000 0110100 0100000 100000', '0000000 0000000 000000 0000000 0000000 000000', '0000000 0000000 000000 0000000 0000000 000000', '0000000 0000000 000000 0000000 0000000 000000', '0101010 0000011 001100 0011101 1100110 100001', '1001011 1100110 000010 0000000 0000000 000000', '0000000 0000000 000000 0000000 0000000 000000', '0000000 0000000 000000 0000000 0000000 000000', '0000000 0000000 000000 0011001 0111001 011000', '0000000 0000000 000000 0000000 0000000 000000', '0000000 0000000 000000 0000000 0000000 000000', '0000000 0000000 000000 0000000 0000000 000000', '1001010 0000000 000001 1100101 1111111 101001', '0000000 0000000 000000 1010101 1000000 101000', '0000000 0000000 000000 0000000 0000000 000000', '0000000 0000000 000000 0000000 0000000 000000', '0000101 1111000 100000 1111010 1111010 110100', '0000000 0000000 000000 0000000 0000000 000000', '0000000 0000000 000000 0000000 0000000 000000', '0000000 0000000 000000 0000000 0000000 000000', '0000000 0000000 000000 0000000 0000000 000000', '1001100 0100001 001110 1111000 0001011 001110', '0000000 0000000 000000 0000000 0000000 000000', '1111111 0001111 000010 1110111 1111111 010000', '0000000 0000000 000000 0000000 0000000 000000', '0000000 0000000 000000 1110100 1010000 001000', '1011001 1100001 110001 0110011 1101010 110111', '0000000 0000000 000000 0000000 0000000 000000', '1101111 0000110 011001 0001000 1100011 011010', '0000000 0000000 000000 0000000 0000000 000000', '0011110 1110110 001001 1001010 0101101 000001', '0000000 0000000 000000 0101111 0001110 101011', '1011010 0110100 010000 0010110 0100010 010010', '0000000 0000000 000000 0000000 0000000 000000', '0000000 0000000 000000 0000000 0000000 000000', '0000000 0000000 000000 0000000 0000000 000000', '0000000 0000000 000000 0000000 0000000 000000', '0000000 0000000 000000 0000000 0000000 000000', '0000000 0000000 000000 0000000 0000000 000000']\n"
     ]
    }
   ],
   "source": [
    "qc = QuantumCircuit(28)\n",
    "\n",
    "c = ClassicalRegister(6, \"c\")\n",
    "c1 = ClassicalRegister(7, \"c1\")\n",
    "c2 = ClassicalRegister(7, \"c2\")\n",
    "\n",
    "s = ClassicalRegister(6, \"s\")\n",
    "s1 = ClassicalRegister(7, \"s1\")\n",
    "s2 = ClassicalRegister(7, \"s2\")\n",
    "\n",
    "qc.add_register(c, c1, c2, s, s1, s2)\n",
    "\n",
    "encoding(qc, 0)\n",
    "encoding(qc, 14)\n",
    "for i in range(7):\n",
    "    qc.cz(i, i+14)\n",
    "QEC2part(qc, 0, 14, c, c1, c2, s, s1, s2)\n",
    "\n",
    "qc.save_statevector(label='statevector_post', pershot=True, conditional=True)\n",
    "\n",
    "backend = AerSimulator(noise_model=noise_model)\n",
    "transpiled = transpile(qc, backend, optimization_level=0)\n",
    "job = backend.run(transpiled, shots=50, memory=True)\n",
    "result = job.result()\n",
    "memory = result.get_memory()\n",
    "\n",
    "#print(result)\n",
    "print(memory)"
   ]
  },
  {
   "cell_type": "code",
   "execution_count": 15,
   "metadata": {},
   "outputs": [],
   "source": [
    "hex_to_sv = []\n",
    "hex_mem = result.data()['memory']\n",
    "\n",
    "seen = defaultdict(int)\n",
    "for mem in hex_mem:\n",
    "    idx = seen[mem]\n",
    "    val = result.data()['statevector_post'][mem][idx]\n",
    "    hex_to_sv.append({mem:val})\n",
    "    seen[mem] += 1\n",
    "    \n",
    "sv_correction = []\n",
    "for i, result in enumerate(hex_to_sv):\n",
    "    hex, sv28 = next(iter(result.items()))\n",
    "    b1_cx, b1_cz, b2_cx, b2_cz = transversal_cz_lookup(memory[i])\n",
    "    if (b1_cx is None or b1_cz is None or b2_cx is None or b2_cz is None):\n",
    "        continue\n",
    "    cz = b1_cz[::-1] + \"I\"*7 + b2_cz[::-1] + \"I\"*7\n",
    "    cx = b1_cx[::-1] + \"I\"*7 + b2_cx[::-1] + \"I\"*7\n",
    "    for i, correction in enumerate(cz):\n",
    "        if (correction == \"Z\"):\n",
    "            sv28.evolve(ZGate(), [i])\n",
    "    for i, correction in enumerate(cx):\n",
    "        if (correction == \"X\"):\n",
    "            sv28.evolve(XGate(), [i])\n",
    "    sv_correction.append(sv28)"
   ]
  },
  {
   "cell_type": "code",
   "execution_count": 16,
   "metadata": {},
   "outputs": [
    {
     "name": "stdout",
     "output_type": "stream",
     "text": [
      "35\n"
     ]
    }
   ],
   "source": [
    "print(len(sv_correction))"
   ]
  },
  {
   "cell_type": "code",
   "execution_count": 17,
   "metadata": {},
   "outputs": [],
   "source": [
    "ideal = QuantumCircuit(28)\n",
    "perfect_encoding(ideal, 0)\n",
    "perfect_encoding(ideal, 14)\n",
    "for i in range(7):\n",
    "    ideal.append(CZ_custom, [i, i+14])\n",
    "ideal = Statevector(ideal)"
   ]
  },
  {
   "cell_type": "code",
   "execution_count": null,
   "metadata": {},
   "outputs": [],
   "source": [
    "for sv in sv_correction:\n",
    "    sv = partial_trace(sv, [7, 8, 9, 10, 11, 12, 13, 21, 22, 23, 24, 25, 26, 27])"
   ]
  },
  {
   "cell_type": "code",
   "execution_count": 18,
   "metadata": {},
   "outputs": [],
   "source": [
    "sum = 0\n",
    "for sv in sv_correction:\n",
    "    if (sv == ideal):\n",
    "        sum += 1"
   ]
  },
  {
   "cell_type": "code",
   "execution_count": 25,
   "metadata": {},
   "outputs": [
    {
     "name": "stdout",
     "output_type": "stream",
     "text": [
      "29\n"
     ]
    }
   ],
   "source": [
    "print(sum)"
   ]
  },
  {
   "cell_type": "code",
   "execution_count": null,
   "metadata": {},
   "outputs": [],
   "source": [
    "logical_error_rate_cz = sum / len(sv_correction)"
   ]
  },
  {
   "cell_type": "code",
   "execution_count": null,
   "metadata": {},
   "outputs": [],
   "source": [
    "ideal = QuantumCircuit(28)\n",
    "perfect_encoding(ideal, 0)\n",
    "perfect_encoding(ideal, 14)\n",
    "for i in range(7):\n",
    "    ideal.append(CZ_custom, [i, i+14])\n",
    "ideal = Statevector(ideal)\n",
    "\n",
    "\n",
    "err_rates = [0.0001, 0.0002, 0.0003, 0.0004, 0.0005, 0.0006, 0.0007, 0.0008, 0.0009, 0.001]\n",
    "logical_error_rates = []\n",
    "unc = []\n",
    "\n",
    "for p1 in err_rates:\n",
    "    #################################################################################\n",
    "    # Error model\n",
    "    p2 = p1 * 10\n",
    "    noise_model = NoiseModel()\n",
    "\n",
    "    noise_model.add_all_qubit_quantum_error(depolarizing_error(p1,1), ['id'])\n",
    "    noise_model.add_all_qubit_quantum_error(depolarizing_error(p1,1), ['h'])\n",
    "    noise_model.add_all_qubit_quantum_error(depolarizing_error(p2,2), ['cx'])\n",
    "    noise_model.add_all_qubit_quantum_error(depolarizing_error(p2,2), ['cz'])\n",
    "\n",
    "    # 0.5% chance of flipping 0 <-> 1\n",
    "    readout_err = ReadoutError([[1-p2, p2],  # P(measured 0 | actual 0), P(1 | 0)\n",
    "                                [p2, 1-p2]]) # P(0 | 1), P(1 | 1)\n",
    "\n",
    "    # Apply to all qubits being measured\n",
    "    noise_model.add_readout_error(readout_err, [7]) \n",
    "    noise_model.add_readout_error(readout_err, [8])\n",
    "    noise_model.add_readout_error(readout_err, [9])\n",
    "    noise_model.add_readout_error(readout_err, [10])\n",
    "    noise_model.add_readout_error(readout_err, [11])\n",
    "    noise_model.add_readout_error(readout_err, [12])\n",
    "    noise_model.add_readout_error(readout_err, [13])\n",
    "    noise_model.add_readout_error(readout_err, [14])\n",
    "    noise_model.add_readout_error(readout_err, [15])\n",
    "    noise_model.add_readout_error(readout_err, [16])\n",
    "    noise_model.add_readout_error(readout_err, [17])\n",
    "    noise_model.add_readout_error(readout_err, [18])\n",
    "    noise_model.add_readout_error(readout_err, [19])\n",
    "    noise_model.add_readout_error(readout_err, [20])\n",
    "    noise_model.add_readout_error(readout_err, [21])\n",
    "    noise_model.add_readout_error(readout_err, [22])\n",
    "    noise_model.add_readout_error(readout_err, [23])\n",
    "    #################################################################################\n",
    "    # Encoding + 1 Round of EC and running shots\n",
    "    qc = QuantumCircuit(28)\n",
    "\n",
    "    c = ClassicalRegister(6, \"c\")\n",
    "    c1 = ClassicalRegister(7, \"c1\")\n",
    "    c2 = ClassicalRegister(7, \"c2\")\n",
    "\n",
    "    s = ClassicalRegister(6, \"s\")\n",
    "    s1 = ClassicalRegister(7, \"s1\")\n",
    "    s2 = ClassicalRegister(7, \"s2\")\n",
    "\n",
    "    qc.add_register(c, c1, c2, s, s1, s2)\n",
    "\n",
    "    encoding(qc, 0)\n",
    "    encoding(qc, 14)\n",
    "    for i in range(7):\n",
    "        qc.cz(i, i+14)\n",
    "    QEC2part(qc, 0, 14, c, c1, c2, s, s1, s2)\n",
    "\n",
    "    qc.save_statevector(label='statevector_post', pershot=True, conditional=True)\n",
    "\n",
    "    backend = AerSimulator(noise_model=noise_model)\n",
    "    transpiled = transpile(qc, backend, optimization_level=0)\n",
    "    job = backend.run(transpiled, shots=30, memory=True)\n",
    "    result = job.result()\n",
    "    memory = result.get_memory()\n",
    "    #################################################################################\n",
    "    # Create array with keys (hex results) and values (statevectors)\n",
    "    hex_to_sv = []\n",
    "    hex_mem = result.data()['memory']\n",
    "\n",
    "    seen = defaultdict(int)\n",
    "    for mem in hex_mem:\n",
    "        idx = seen[mem]\n",
    "        val = result.data()['statevector_post'][mem][idx]\n",
    "        hex_to_sv.append({mem:val})\n",
    "        seen[mem] += 1\n",
    "    #################################################################################\n",
    "    # Apply corrections to each statevector in above array\n",
    "    sv_correction = []\n",
    "    for i, result in enumerate(hex_to_sv):\n",
    "        hex, sv28 = next(iter(result.items()))\n",
    "        b1_cx, b1_cz, b2_cx, b2_cz = transversal_cz_lookup(memory[i])\n",
    "        if (b1_cx is None or b1_cz is None or b2_cx is None or b2_cz is None):\n",
    "            continue\n",
    "        cz = b1_cz[::-1] + \"I\"*7 + b2_cz[::-1] + \"I\"*7\n",
    "        cx = b1_cx[::-1] + \"I\"*7 + b2_cx[::-1] + \"I\"*7\n",
    "        for i, correction in enumerate(cz):\n",
    "            if (correction == \"Z\"):\n",
    "                sv28.evolve(ZGate(), [i])\n",
    "        for i, correction in enumerate(cx):\n",
    "            if (correction == \"X\"):\n",
    "                sv28.evolve(XGate(), [i])\n",
    "        sv_correction.append(sv28)\n",
    "    #################################################################################\n",
    "    # Count the correct outputs\n",
    "    sum = 0\n",
    "    for sv in sv_correction:\n",
    "        sv = partial_trace(sv, [7, 8, 9, 10, 11, 12, 13, 21, 22, 23, 24, 25, 26, 27])\n",
    "        if (sv == ideal):\n",
    "            sum += 1\n",
    "    #################################################################################\n",
    "    # Computing uncertainty and add to uncertainty array\n",
    "    num_meas = len(sv_correction)\n",
    "    error_rate = sum / num_meas\n",
    "    unc.append(1.96 * np.sqrt( (error_rate * (1 - error_rate) / num_meas) ))\n",
    "    #################################################################################\n",
    "    # Add logical error rate to resulting array\n",
    "    logical_error_rates.append(sum / len(sv_correction))"
   ]
  },
  {
   "cell_type": "code",
   "execution_count": null,
   "metadata": {},
   "outputs": [],
   "source": [
    "plt.figure(figsize=(7, 5))\n",
    "plt.errorbar(\n",
    "    err_rates,\n",
    "    logical_error_rates,\n",
    "    yerr=unc,\n",
    "    fmt='o-',           # circle marker and solid line\n",
    "    capsize=3,          # length of the little “T” caps on each bar\n",
    "    elinewidth=1,       # width of the error‐bar lines\n",
    "    markeredgewidth=1\n",
    ")\n",
    "plt.xlabel(\"Depolarizing Noise Probability for 1Q Gates\", fontsize=12)\n",
    "plt.ylabel(\"Encoding Logical Error Rates\", fontsize=12)\n",
    "plt.title(f\"$P_2 = 10 * P_1$ for Hadamard\")\n",
    "plt.grid(True)\n",
    "plt.tight_layout()\n",
    "#plt.yscale('log')\n",
    "#plt.xscale('log')\n",
    "plt.show()"
   ]
  },
  {
   "cell_type": "code",
   "execution_count": null,
   "metadata": {},
   "outputs": [],
   "source": []
  }
 ],
 "metadata": {
  "kernelspec": {
   "display_name": "qiskit-kernel",
   "language": "python",
   "name": "qiskit"
  },
  "language_info": {
   "codemirror_mode": {
    "name": "ipython",
    "version": 3
   },
   "file_extension": ".py",
   "mimetype": "text/x-python",
   "name": "python",
   "nbconvert_exporter": "python",
   "pygments_lexer": "ipython3",
   "version": "3.12.4"
  },
  "orig_nbformat": 4
 },
 "nbformat": 4,
 "nbformat_minor": 2
}
