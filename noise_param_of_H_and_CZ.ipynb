{
 "cells": [
  {
   "cell_type": "markdown",
   "id": "d7fe39e9",
   "metadata": {},
   "source": [
    "# Noisy H and CZ"
   ]
  },
  {
   "cell_type": "markdown",
   "id": "2da419f9",
   "metadata": {},
   "source": []
  },
  {
   "cell_type": "code",
   "execution_count": 1,
   "id": "ebffba31",
   "metadata": {},
   "outputs": [],
   "source": [
    "from qiskit import QuantumCircuit\n",
    "import numpy as np\n",
    "from qiskit_aer import AerSimulator\n",
    "from qiskit_aer.noise import NoiseModel, depolarizing_error, ReadoutError\n",
    "from qiskit.visualization import plot_histogram \n",
    "import typing\n",
    "from qiskit import QuantumCircuit, QuantumRegister, ClassicalRegister\n",
    "\n",
    "from qiskit_aer import Aer\n",
    "from qiskit import transpile\n",
    "from qiskit_aer.primitives import Sampler\n",
    "from qiskit.primitives.backend_sampler import BackendSampler\n",
    "from qiskit.quantum_info import Statevector\n",
    "from qiskit.circuit import Instruction\n",
    "from matplotlib import pyplot as plt\n",
    "from qiskit.quantum_info import state_fidelity"
   ]
  },
  {
   "cell_type": "code",
   "execution_count": 3,
   "id": "82c9e33b",
   "metadata": {},
   "outputs": [],
   "source": [
    "import steane_encoding_module as sem"
   ]
  },
  {
   "cell_type": "code",
   "execution_count": null,
   "id": "350df7f1",
   "metadata": {},
   "outputs": [],
   "source": []
  },
  {
   "cell_type": "code",
   "execution_count": 7,
   "id": "1f47917f",
   "metadata": {},
   "outputs": [
    {
     "name": "stdout",
     "output_type": "stream",
     "text": [
      "8\n",
      "8\n",
      "8\n",
      "8\n",
      "8\n",
      "8\n",
      "8\n",
      "8\n"
     ]
    }
   ],
   "source": [
    "logical_cz = sem.create_cz_block(8, True)\n"
   ]
  },
  {
   "cell_type": "code",
   "execution_count": 8,
   "id": "6eca151b",
   "metadata": {},
   "outputs": [],
   "source": [
    "logical_h = sem.create_h_block(8, True)"
   ]
  },
  {
   "cell_type": "code",
   "execution_count": 9,
   "id": "6fadfa1e",
   "metadata": {},
   "outputs": [
    {
     "name": "stdout",
     "output_type": "stream",
     "text": [
      "Instruction(name='cz_block', num_qubits=16, num_clbits=16, params=[])\n"
     ]
    }
   ],
   "source": [
    "print(logical_cz)"
   ]
  },
  {
   "cell_type": "code",
   "execution_count": 10,
   "id": "7f8399b1",
   "metadata": {},
   "outputs": [],
   "source": [
    "# 5% chance of flipping 0 <-> 1\n",
    "readout_err = ReadoutError([[0.98, 0.02],  # P(measured 0 | actual 0), P(1 | 0)\n",
    "                            [0.02, 0.98]]) # P(0 | 1), P(1 | 1)\n",
    "\n",
    "noise_model = NoiseModel()\n",
    "\n",
    "noise_model.add_all_qubit_quantum_error(depolarizing_error(0.01,1), ['id'])\n",
    "noise_model.add_all_qubit_quantum_error(depolarizing_error(0.01,1), ['h'])\n",
    "noise_model.add_all_qubit_quantum_error(depolarizing_error(0.01,2),['cz'])\n",
    "noise_model.add_all_qubit_quantum_error(depolarizing_error(0.01,2),['cx'])"
   ]
  },
  {
   "cell_type": "code",
   "execution_count": null,
   "id": "b32a39d1",
   "metadata": {},
   "outputs": [],
   "source": []
  },
  {
   "cell_type": "code",
   "execution_count": null,
   "id": "db63a914",
   "metadata": {},
   "outputs": [],
   "source": [
    "depol_probs = [0.0, 0.02, 0.04, 0.06, 0.08, 0.1, 0.12, 0.14, 0.16, 0.18, 0.2] \n",
    "fidelity_results = {}\n",
    "\n",
    "for p in depol_probs:\n",
    "    # New noise model for each depolarizing probability\n",
    "    noise_model = NoiseModel()\n",
    "    qc_ideal = sem.SteaneBlock(8,8,True)\n",
    "    qc_noise = sem.SteaneBlock(8,0,False)\n",
    "\n",
    "    qc_ideal.append(sem.create_id_block(8, True), range(0,8), range(0,8))\n",
    "    qc_ideal.append(logical_h, range(0,8), range(0,8))\n",
    "\n",
    "    # Apply depolarizing error with probability p\n",
    "    noise_model.add_all_qubit_quantum_error(depolarizing_error(p, 1), ['id', 'h'])\n",
    "    noise_model.add_all_qubit_quantum_error(depolarizing_error(p*5, 2), ['cz'])\n",
    "\n",
    "    qc_noise.append(sem.create_id_block(8, False), range(0,8), range(0,8))\n",
    "    qc_noise.append(logical_h, range(0,8), range(0,8))\n",
    "\n",
    "\n",
    "    qc_noise.save_statevector(label='state_post', pershot=True, conditional=True)\n",
    "\n",
    "    # Run simulation\n",
    "    backend_noise = AerSimulator(noise_model=noise_model)\n",
    "    transpiled_noise = transpile(qc_noise, backend_noise)\n",
    "    job = backend_noise.run(transpiled_noise, shots=200000)\n",
    "    result = job.result()\n",
    "\n",
    "    "
   ]
  }
 ],
 "metadata": {
  "kernelspec": {
   "display_name": "base",
   "language": "python",
   "name": "python3"
  },
  "language_info": {
   "codemirror_mode": {
    "name": "ipython",
    "version": 3
   },
   "file_extension": ".py",
   "mimetype": "text/x-python",
   "name": "python",
   "nbconvert_exporter": "python",
   "pygments_lexer": "ipython3",
   "version": "3.10.9"
  }
 },
 "nbformat": 4,
 "nbformat_minor": 5
}
