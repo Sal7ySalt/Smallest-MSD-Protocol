{
 "cells": [
  {
   "cell_type": "code",
   "execution_count": 119,
   "id": "8a4d77b7",
   "metadata": {},
   "outputs": [],
   "source": [
    "from qiskit import QuantumCircuit\n",
    "import numpy as np\n",
    "from qiskit_aer import AerSimulator\n",
    "from qiskit_aer.noise import NoiseModel, depolarizing_error, ReadoutError\n",
    "from qiskit.visualization import plot_histogram \n",
    "import typing\n",
    "from qiskit import QuantumCircuit, QuantumRegister, ClassicalRegister\n",
    "\n",
    "from qiskit_aer import Aer\n",
    "from qiskit import transpile\n",
    "from qiskit_aer.primitives import Sampler\n",
    "from qiskit.primitives.backend_sampler import BackendSampler\n",
    "from qiskit.quantum_info import Statevector\n",
    "from qiskit.circuit import Instruction"
   ]
  },
  {
   "cell_type": "code",
   "execution_count": 129,
   "id": "f9c97071",
   "metadata": {},
   "outputs": [],
   "source": [
    "\n",
    "steane_t_enc_block = QuantumCircuit(7, 1, name=\"steane_block\")\n",
    "for i in range(1, 3):\n",
    "    steane_t_enc_block.h(i)\n",
    "\n",
    "steane_t_enc_block.h(6)\n",
    "steane_t_enc_block.t(6)\n",
    "steane_t_enc_block.barrier()\n",
    "\n",
    "steane_t_enc_block.cx(1, 0)\n",
    "steane_t_enc_block.cx(2, 4)\n",
    "steane_t_enc_block.cx(6, 5)\n",
    "\n",
    "steane_t_enc_block.cx(2,0)\n",
    "steane_t_enc_block.cx(3,5)\n",
    "\n",
    "steane_t_enc_block.cx(6,4)\n",
    "steane_t_enc_block.cx(2,6)\n",
    "\n",
    "steane_t_enc_block.cx(3,4)\n",
    "\n",
    "steane_t_enc_block.cx(1,5)\n",
    "steane_t_enc_block.cx(1,6)\n",
    "\n",
    "steane_t_enc_block.cx(3 ,0)\n",
    "\n",
    "steane_t_enc_block.barrier()\n",
    "\n",
    "for i in range(0, 7):\n",
    "    steane_t_enc_block.h(i)\n",
    "    steane_t_enc_block.measure(i,0)\n",
    "steane_t_enc_block.barrier()\n",
    "\n",
    "# convert to instruction\n",
    "steane_t_block_instr = steane_t_enc_block.to_instruction()"
   ]
  },
  {
   "cell_type": "code",
   "execution_count": null,
   "id": "0ebecb8a",
   "metadata": {},
   "outputs": [],
   "source": [
    "steane_t_enc_block = QuantumCircuit(7, 1, name=\"steane_block\")\n",
    "for i in range(1, 3):\n",
    "    steane_t_enc_block.h(i)\n",
    "\n",
    "steane_t_enc_block.h(6)\n",
    "steane_t_enc_block.t(6)\n",
    "steane_t_enc_block.barrier()\n",
    "\n",
    "steane_t_enc_block.cx(1, 0)\n",
    "steane_t_enc_block.cx(2, 4)\n",
    "steane_t_enc_block.cx(6, 5)\n",
    "\n",
    "steane_t_enc_block.cx(2,0)\n",
    "steane_t_enc_block.cx(3,5)\n",
    "\n",
    "steane_t_enc_block.cx(6,4)\n",
    "steane_t_enc_block.cx(2,6)\n",
    "\n",
    "steane_t_enc_block.cx(3,4)\n",
    "\n",
    "steane_t_enc_block.cx(1,5)\n",
    "steane_t_enc_block.cx(1,6)\n",
    "\n",
    "steane_t_enc_block.cx(3 ,0)\n",
    "\n",
    "steane_t_enc_block.barrier()\n",
    "\n",
    "for i in range(0, 7):\n",
    "    steane_t_enc_block.h(i)\n",
    "    steane_t_enc_block.measure(i,0)\n",
    "steane_t_enc_block.barrier()\n",
    "\n",
    "# convert to instruction\n",
    "steane_t_block_instr = steane_t_enc_block.to_instruction()"
   ]
  },
  {
   "cell_type": "code",
   "execution_count": 130,
   "id": "b9bc0081",
   "metadata": {},
   "outputs": [],
   "source": [
    "# applies h to 7 qubits \n",
    "\n",
    "h_block = QuantumCircuit(7, 1, name=\"h_block\")\n",
    "for i in range(0, 7):\n",
    "    h_block.h(i)\n",
    "\n",
    "# convert to instruction\n",
    "h_block_instr = h_block.to_instruction()"
   ]
  },
  {
   "cell_type": "code",
   "execution_count": 131,
   "id": "9aaa699c",
   "metadata": {},
   "outputs": [],
   "source": [
    "# applies cz to 7 qubits\n",
    "\n",
    "cz_block = QuantumCircuit(14, 1, name=\"cz_block\")\n",
    "for i in range(0, 7):\n",
    "    cz_block.cz(i, i + 7)\n",
    "\n",
    "\n",
    "# convert to instruction\n",
    "cz_block_instr = cz_block.to_instruction()"
   ]
  },
  {
   "cell_type": "code",
   "execution_count": 132,
   "id": "43fbfdc5",
   "metadata": {},
   "outputs": [],
   "source": [
    "# applies identity to 7 qubits\n",
    "\n",
    "id_block = QuantumCircuit(7,1, name = \"id_block\")\n",
    "\n",
    "for i in range(0, 7):\n",
    "    id_block.id(i)\n",
    "\n",
    "id_block_instr = id_block.to_instruction()"
   ]
  },
  {
   "cell_type": "code",
   "execution_count": 141,
   "id": "dc30dca1",
   "metadata": {},
   "outputs": [],
   "source": [
    "# applies x to 7 qubits\n",
    "\n",
    "x_block = QuantumCircuit(7,1, name = \"x_block\")\n",
    "\n",
    "for i in range(0, 7):\n",
    "    x_block.x(i)\n",
    "\n",
    "x_block_instr = x_block.to_instruction()"
   ]
  },
  {
   "cell_type": "code",
   "execution_count": 142,
   "id": "c8a146a0",
   "metadata": {},
   "outputs": [],
   "source": [
    "def prepare_t_state(qc_prep: QuantumCircuit, block_instr: Instruction):\n",
    "    qc_prep.append(id_block_instr, range(0,7), range(0,1))\n",
    "    qc_prep.append(block_instr, range(0,7), range(0,1))\n",
    "    qc_prep.append(id_block_instr, range(0,7), range(0,1))"
   ]
  },
  {
   "cell_type": "code",
   "execution_count": null,
   "id": "0a502f49",
   "metadata": {},
   "outputs": [],
   "source": [
    "def prepare_state(qc_prep: QuantumCircuit, encode_block: Instruction, log_block: Instruction):\n",
    "    qc_prep.append(id_block_instr, range(0,7), range(0,7))\n",
    "    qc_prep.append(encode_block, range(0,7), range(0,7))\n",
    "    qc_prep.append(id_block_instr, range(0,7), range(0,7))\n",
    "    qc_prep.append(log_block,range(0,7), range(0,7))"
   ]
  },
  {
   "cell_type": "code",
   "execution_count": 144,
   "id": "374898fb",
   "metadata": {},
   "outputs": [
    {
     "data": {
      "image/png": "[encoded data removed]",
      "text/plain": [
       "<Figure size 640x480 with 1 Axes>"
      ]
     },
     "execution_count": 144,
     "metadata": {},
     "output_type": "execute_result"
    }
   ],
   "source": [
    "# state_arr will hold the 3 T states we get from the Steane encoding\n",
    "state_arr = []\n",
    "\n",
    "qc1 = QuantumCircuit(7,1)\n",
    "qc2 = QuantumCircuit(7,1)\n",
    "qc3 = QuantumCircuit(7,1)\n",
    "\n",
    "qc_arr = [qc1, qc2, qc3]\n",
    "counts_arr = []\n",
    "\n",
    "\n",
    "\n",
    "\n",
    "\n",
    "for i in range(0,3): \n",
    "    prepare_t_state(qc_arr[i], steane_t_block_instr)\n",
    "    simulator = Aer.get_backend('statevector_simulator')\n",
    "    steane_t = transpile(qc_arr[i], simulator)\n",
    "    job = simulator.run(steane_t, shots = 1024)\n",
    "    result = job.result()\n",
    "    counts = result.get_counts()\n",
    "    state = result.get_statevector()\n",
    "    #print(state)\n",
    "    state_arr.append(state)\n",
    "    counts_arr.append(counts)\n",
    "    \n",
    "\n",
    "plot_histogram(counts_arr)\n",
    "\n"
   ]
  },
  {
   "cell_type": "code",
   "execution_count": null,
   "id": "b1d6e735",
   "metadata": {},
   "outputs": [
    {
     "data": {
      "image/png": "[encoded data removed]",
      "text/plain": [
       "<Figure size 640x480 with 1 Axes>"
      ]
     },
     "execution_count": 145,
     "metadata": {},
     "output_type": "execute_result"
    }
   ],
   "source": [
    "state_arr = []\n",
    "\n",
    "qc1 = QuantumCircuit(7,1)\n",
    "qc2 = QuantumCircuit(7,1)\n",
    "qc3 = QuantumCircuit(7,1)\n",
    "\n",
    "qc_arr = [qc1, qc2, qc3]\n",
    "counts_arr = []\n",
    "\n",
    "\n",
    "\n",
    "\n",
    "\n",
    "for i in range(0,3): \n",
    "    prepare_state(qc_arr[i], steane_block_instr)\n",
    "    simulator = Aer.get_backend('statevector_simulator')\n",
    "    steane_t = transpile(qc_arr[i], simulator)\n",
    "    job = simulator.run(steane_t, shots = 1024)\n",
    "    result = job.result()\n",
    "    counts = result.get_counts()\n",
    "    state = result.get_statevector()\n",
    "    #print(state)\n",
    "    state_arr.append(state)\n",
    "    counts_arr.append(counts)\n",
    "    \n",
    "\n",
    "plot_histogram(counts_arr)\n",
    "\n"
   ]
  },
  {
   "cell_type": "code",
   "execution_count": null,
   "id": "09e600c2",
   "metadata": {},
   "outputs": [],
   "source": []
  },
  {
   "cell_type": "code",
   "execution_count": null,
   "id": "73799900",
   "metadata": {},
   "outputs": [],
   "source": []
  }
 ],
 "metadata": {
  "kernelspec": {
   "display_name": "base",
   "language": "python",
   "name": "python3"
  },
  "language_info": {
   "codemirror_mode": {
    "name": "ipython",
    "version": 3
   },
   "file_extension": ".py",
   "mimetype": "text/x-python",
   "name": "python",
   "nbconvert_exporter": "python",
   "pygments_lexer": "ipython3",
   "version": "3.10.9"
  }
 },
 "nbformat": 4,
 "nbformat_minor": 5
}
